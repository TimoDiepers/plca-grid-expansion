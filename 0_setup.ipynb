{
 "cells": [
  {
   "cell_type": "code",
   "execution_count": 1,
   "metadata": {},
   "outputs": [],
   "source": [
    "import bw2data as bd\n",
    "import bw2io as bi\n",
    "import pandas as pd"
   ]
  },
  {
   "cell_type": "code",
   "execution_count": 2,
   "metadata": {},
   "outputs": [],
   "source": [
    "bd.projects.set_current(\"bw25_plca_grid_expansion\")"
   ]
  },
  {
   "cell_type": "markdown",
   "metadata": {},
   "source": [
    "## Creating background databases"
   ]
  },
  {
   "cell_type": "markdown",
   "metadata": {},
   "source": [
    "### Getting ecoinvent"
   ]
  },
  {
   "cell_type": "code",
   "execution_count": 3,
   "metadata": {},
   "outputs": [],
   "source": [
    "# bi.import_ecoinvent_release(\n",
    "#     version=\"3.10\",\n",
    "#     system_model=\"cutoff\",\n",
    "#     username=\"XXXXXXXXXXXXXX\",\n",
    "#     password=\"XXXXXXXXXXXXXX\",\n",
    "# )"
   ]
  },
  {
   "cell_type": "code",
   "execution_count": 4,
   "metadata": {},
   "outputs": [],
   "source": [
    "# bd.databases"
   ]
  },
  {
   "cell_type": "markdown",
   "metadata": {},
   "source": [
    "### Creating prospective databases"
   ]
  },
  {
   "cell_type": "code",
   "execution_count": 5,
   "metadata": {},
   "outputs": [],
   "source": [
    "# from premise import *"
   ]
  },
  {
   "cell_type": "code",
   "execution_count": 6,
   "metadata": {},
   "outputs": [],
   "source": [
    "# ndb = NewDatabase(\n",
    "#     scenarios=[\n",
    "#         {\"model\":\"image\", \"pathway\":\"SSP2-RCP26\", \"year\":2023},\n",
    "#         # {\"model\":\"image\", \"pathway\":\"SSP2-RCP26\", \"year\":2025},\n",
    "#         # {\"model\":\"image\", \"pathway\":\"SSP2-RCP26\", \"year\":2030},\n",
    "#         # {\"model\":\"image\", \"pathway\":\"SSP2-RCP26\", \"year\":2035},\n",
    "#         # {\"model\":\"image\", \"pathway\":\"SSP2-RCP26\", \"year\":2037},\n",
    "#         # {\"model\":\"image\", \"pathway\":\"SSP2-RCP26\", \"year\":2040},\n",
    "#     ],\n",
    "#     source_db=\"ecoinvent-3.10-cutoff\", # <-- name of the database in the BW2 project. Must be a string.\n",
    "#     source_version=\"3.10\", # <-- version of ecoinvent. Can be \"3.8\", \"3.9\" or \"3.10\". Must be a string.\n",
    "#     key='tUePmX_S5B8ieZkkM7WUU2CnO8SmShwmAeWK9x2rTFo=',    # to be requested from the library maintainers if you want ot use default scenarios included in `premise`\n",
    "#     biosphere_name='ecoinvent-3.10-biosphere', # <-- name of the biosphere database in the BW2 project. Must be a string.\n",
    "# )"
   ]
  },
  {
   "cell_type": "code",
   "execution_count": 7,
   "metadata": {},
   "outputs": [],
   "source": [
    "# ndb.update()"
   ]
  },
  {
   "cell_type": "code",
   "execution_count": 8,
   "metadata": {},
   "outputs": [],
   "source": [
    "# db_names = [\n",
    "#     'ei310_SSP2_RCP26_2020',\n",
    "#     'ei310_SSP2_RCP26_2025',\n",
    "#     'ei310_SSP2_RCP26_2030',\n",
    "#     'ei310_SSP2_RCP26_2035',\n",
    "#     'ei310_SSP2_RCP26_2037',\n",
    "#     'ei310_SSP2_RCP26_2040',\n",
    "# ]\n",
    "\n",
    "# ndb.write_db_to_brightway(db_names)\n"
   ]
  },
  {
   "cell_type": "code",
   "execution_count": 9,
   "metadata": {},
   "outputs": [],
   "source": [
    "# bd.databases"
   ]
  },
  {
   "cell_type": "markdown",
   "metadata": {},
   "source": [
    "## Creating the grid database"
   ]
  },
  {
   "cell_type": "markdown",
   "metadata": {},
   "source": [
    "### Preparation"
   ]
  },
  {
   "cell_type": "code",
   "execution_count": 10,
   "metadata": {},
   "outputs": [],
   "source": [
    "def load_inputs_from_background(database_name: str):\n",
    "    db = bd.Database(database_name)\n",
    "    return {\n",
    "        \"glass_wool_mat\": db.get(name=\"market for glass wool mat\", location=\"GLO\"),\n",
    "        \"porcelain\": db.get(name=\"market for ceramic tile\", location=\"GLO\"),\n",
    "        \"epoxy\": db.get(name=\"market for epoxy resin, liquid\", location=\"RER\"),\n",
    "        \"brass\": db.get(name=\"market for brass\", location=\"RoW\"),\n",
    "        \"paint\": db.get(name=\"market for electrostatic paint\", location=\"GLO\"),\n",
    "        \"paper\": db.get(name=\"market for paper, melamine impregnated\", location=\"RER\"),\n",
    "        \"rubber\": db.get(name=\"market for synthetic rubber\", location=\"GLO\"),\n",
    "        \"sulfur_hexafluoride\": db.get(\n",
    "            name=\"market for sulfur hexafluoride, liquid\", location=\"RER\"\n",
    "        ),\n",
    "        \"lead\": db.get(name=\"market for lead\", location=\"GLO\"),\n",
    "        \"bronze\": db.get(name=\"market for bronze\", location=\"GLO\"),\n",
    "        \"polypropylene\": db.get(\n",
    "            name=\"market for polypropylene, granulate\", location=\"GLO\"\n",
    "        ),\n",
    "        \"steel_sheet\": db.get(name=\"market for sheet rolling, steel\", location=\"GLO\"),\n",
    "        \"steel_hot_rolled\": db.get(\n",
    "            name=\"market for steel, low-alloyed, hot rolled\", location=\"GLO\"\n",
    "        ),\n",
    "        \"steel_lowalloyed\": db.get(\n",
    "            name=\"market for steel, low-alloyed\", location=\"GLO\"\n",
    "        ),\n",
    "        \"steel_unalloyed\": db.get(name=\"market for steel, unalloyed\", location=\"GLO\"),\n",
    "        \"transformer_oil\": db.get(name=\"market for lubricating oil\", location=\"RER\"),\n",
    "        \"aluminium_wrought_alloy\": db.get(\n",
    "            name=\"market for aluminium, wrought alloy\", location=\"GLO\"\n",
    "        ),\n",
    "        \"aluminium_sheet\": db.get(\n",
    "            name=\"market for sheet rolling, aluminium\", location=\"GLO\"\n",
    "        ),\n",
    "        \"aluminium_cast\": db.get(\n",
    "            name=\"market for aluminium, cast alloy\", location=\"GLO\"\n",
    "        ),\n",
    "        \"copper\": db.get(name=\"market for copper, cathode\", location=\"GLO\"),\n",
    "        \"copper_wire\": db.get(name=\"wire drawing, copper\", location=\"RER\"),\n",
    "        \"glass_fibre\": db.get(name=\"market for glass fibre\", location=\"GLO\"),\n",
    "        \"kraft_paper\": db.get(name=\"market for kraft paper\", location=\"RER\"),\n",
    "        \"softwood\": db.get(\n",
    "            name=\"market for sawnwood, softwood, raw, dried (u=20%)\", location=\"RER\"\n",
    "        ),\n",
    "        \"concrete\": db.get(\n",
    "            name=\"market for concrete, normal strength\", location=\"RoW\"\n",
    "        ),  # density of 2200 kg/m3 assumed for conversion, see Itten et al.\n",
    "        \"zinc\": db.get(name=\"market for zinc\", location=\"GLO\"),\n",
    "        \"waste_concrete\": db.get(\n",
    "            name=\"market for waste concrete\", location=\"Europe without Switzerland\"\n",
    "        ),\n",
    "        \"waste_polyethylene\": db.get(\n",
    "            name=\"market for waste polyethylene\", location=\"DE\"\n",
    "        ),\n",
    "        \"waste_oil\": db.get(\n",
    "            name=\"market for waste mineral oil\", location=\"Europe without Switzerland\"\n",
    "        ),\n",
    "        \"excavation\": db.get(\n",
    "            name=\"market for excavation, hydraulic digger\", location=\"GLO\"\n",
    "        ),\n",
    "        \"polyester_resin\": db.get(\n",
    "            name=\"market for polyester resin, unsaturated\", location=\"RER\"\n",
    "        ),\n",
    "        \"steel_chromium_steel\": db.get(\n",
    "            name=\"market for steel, chromium steel 18/8\", location=\"GLO\"\n",
    "        ),\n",
    "        \"polycarbonate\": db.get(name=\"market for polycarbonate\", location=\"RER\"),\n",
    "        \"wood\": db.get(name=\"market for fibreboard, hard\", location=\"RER\"),\n",
    "        \"cement_unspecified\": db.get(\n",
    "            name=\"market for cement, unspecified\", location=\"Europe without Switzerland\"\n",
    "        ),\n",
    "        \"glass_tube_borosilicate\": db.get(\n",
    "            name=\"market for glass tube, borosilicate\", location=\"GLO\"\n",
    "        ),\n",
    "        \"extrusion_plastic_pipes\": db.get(\n",
    "            name=\"market for extrusion, plastic pipes\", location=\"GLO\"\n",
    "        ),\n",
    "        \"polyethylene\": db.get(\n",
    "            name=\"market for polyethylene, low density, granulate\", location=\"GLO\"\n",
    "        ),\n",
    "        \"copper_wire_drawing\": db.get(\n",
    "            name=\"market for wire drawing, copper\", location=\"GLO\"\n",
    "        ),\n",
    "    }"
   ]
  },
  {
   "cell_type": "code",
   "execution_count": 11,
   "metadata": {},
   "outputs": [],
   "source": [
    "# (code, name, unit) of grid components\n",
    "COMPONENT_INFO = [\n",
    "    (\"disconnector\", \"Disconnector\", \"unit\"),\n",
    "    (\n",
    "        \"land_cable_oil_cu_150kv\",\n",
    "        \"Land cable, oil insulated, copper, 150kV\",\n",
    "        \"kilometer\",\n",
    "    ),\n",
    "    #  ('live_tank_circuit_breaker', 'Live tank circuit breaker', 'unit'),\n",
    "    (\"overhead_line_400kv\", \"Overhead line, 400kV\", \"kilometer\"),\n",
    "    (\"overhead_line_150kv\", \"Overhead line, 150kV\", \"kilometer\"),\n",
    "    (\"overhead_line_10kv\", \"Overhead line, 10kV\", \"kilometer\"),\n",
    "    (\"overhead_line_04kv\", \"Overhead line, 0.4kV\", \"kilometer\"),\n",
    "    (\"overhead_line_HVDC\", \"Overhead line HVDC\", \"kilometer\"),\n",
    "    (\"land_cable_oil_cu_HVDC\", \"Land cable, oil insulated, copper, HVDC\", \"kilometer\"),\n",
    "    #  ('plug_and_switch_system', 'Plug and switch system', 'unit'),\n",
    "    #  ('surge_arrester', 'Surge arrester', 'unit'),\n",
    "    (\"transformer_250mva\", \"Transformer, 250MVA\", \"unit\"),\n",
    "    (\"transformer_40mva\", \"Transformer, 40MVA\", \"unit\"),\n",
    "    (\"transformer_315kva\", \"Transformer, 315kVA\", \"unit\"),\n",
    "    (\n",
    "        \"land_cable_vpe_al_04kv\",\n",
    "        \"Land cable, vpe insulated, aluminium, 0.4kV\",\n",
    "        \"kilometer\",\n",
    "    ),\n",
    "    (\n",
    "        \"land_cable_vpe_al_10kv\",\n",
    "        \"Land cable, vpe insulated, aluminium, 10kV\",\n",
    "        \"kilometer\",\n",
    "    ),\n",
    "    (\n",
    "        \"land_cable_vpe_al_10kv\",\n",
    "        \"Land cable, vpe insulated, aluminium, 10kV\",\n",
    "        \"kilometer\",\n",
    "    ),\n",
    "    (\"land_cable_epr_cu_11kv\", \"Land cable, epr insulated, copper, 11kV\", \"kilometer\"),\n",
    "    (\n",
    "        \"land_cable_vpe_al_50kv\",\n",
    "        \"Land cable, vpe insulated, aluminium, 50kV\",\n",
    "        \"kilometer\",\n",
    "    ),\n",
    "    (\"land_cable_vpe_cu_1kv\", \"Land cable, vpe insulated, copper, 1kV\", \"kilometer\"),\n",
    "    (\"gas_insulated_switchgear_420kv\", \"Gas insulated switchgear, 420kV\", \"unit\"),\n",
    "    (\"substation_lv\", \"Substation, LV\", \"unit\"),\n",
    "    (\"substation_mv\", \"Substation, MV\", \"unit\"),\n",
    "    # ('office_building', 'Office building for grid operation', 'unit'),\n",
    "    #  ('uniswitch', 'Uniswitch', 'unit')\n",
    "]"
   ]
  },
  {
   "cell_type": "code",
   "execution_count": 12,
   "metadata": {},
   "outputs": [],
   "source": [
    "\n",
    "def create_component_nodes(base_database_name: str, component_database_name: str):\n",
    "    if component_database_name in bd.databases:\n",
    "        del bd.databases[component_database_name]\n",
    "    db_components = bd.Database(component_database_name)\n",
    "    db_components.register()\n",
    "    \n",
    "    INPUT_NODES = load_inputs_from_background(base_database_name)\n",
    "    \n",
    "    for code, name, unit in COMPONENT_INFO:\n",
    "        try:\n",
    "            component = db_components.new_node(\n",
    "                code=code, name=name, unit=unit, **{\"reference product\": name}\n",
    "            )\n",
    "        except:\n",
    "            db_components.get(code).delete()\n",
    "            component = db_components.new_node(\n",
    "                code=code, name=name, unit=unit, **{\"reference product\": name}\n",
    "            )\n",
    "            component.save()\n",
    "        component.save()\n",
    "        component.new_edge(\n",
    "            name=component[\"name\"], input=component, amount=1, unit=unit, type=\"production\"\n",
    "        ).save()\n",
    "\n",
    "        inputs_df = pd.read_csv(f\"data/{code}.csv\", sep=\";\", index_col=\"input\")\n",
    "        for input_code, amount, unit in zip(inputs_df.index, inputs_df.amount, inputs_df.unit):\n",
    "            component.new_edge(\n",
    "                input=INPUT_NODES[input_code], amount=amount, type=\"technosphere\"\n",
    "            ).save()\n",
    "\n",
    "        if code == \"gas_insulated_switchgear_420kv\":\n",
    "            sf6_node = bd.get_node(database=\"ecoinvent-3.10-biosphere\", name=\"Sulfur hexafluoride\", categories=(\"air\",))\n",
    "            component.new_edge(\n",
    "                input=sf6_node,\n",
    "                amount=28.6, # leakage\n",
    "                type=\"biosphere\",\n",
    "            ).save()"
   ]
  },
  {
   "cell_type": "markdown",
   "metadata": {},
   "source": [
    "### Creating component nodes"
   ]
  },
  {
   "cell_type": "code",
   "execution_count": 13,
   "metadata": {},
   "outputs": [
    {
     "data": {
      "text/plain": [
       "Databases dictionary with 4 object(s):\n",
       "\tecoinvent-3.10-biosphere\n",
       "\tecoinvent-3.10-cutoff\n",
       "\tgrid_components\n",
       "\tgrid_components_2020"
      ]
     },
     "execution_count": 13,
     "metadata": {},
     "output_type": "execute_result"
    }
   ],
   "source": [
    "bd.databases"
   ]
  },
  {
   "cell_type": "code",
   "execution_count": 14,
   "metadata": {},
   "outputs": [],
   "source": [
    "create_component_nodes(\"ecoinvent-3.10-cutoff\", \"grid_components_2020\")"
   ]
  },
  {
   "cell_type": "code",
   "execution_count": 15,
   "metadata": {},
   "outputs": [
    {
     "data": {
      "text/plain": [
       "Databases dictionary with 4 object(s):\n",
       "\tecoinvent-3.10-biosphere\n",
       "\tecoinvent-3.10-cutoff\n",
       "\tgrid_components\n",
       "\tgrid_components_2020"
      ]
     },
     "execution_count": 15,
     "metadata": {},
     "output_type": "execute_result"
    }
   ],
   "source": [
    "bd.databases"
   ]
  },
  {
   "cell_type": "markdown",
   "metadata": {},
   "source": [
    "### Creating grid nodes"
   ]
  },
  {
   "cell_type": "code",
   "execution_count": 16,
   "metadata": {},
   "outputs": [],
   "source": [
    "SHARE_OVERHEAD_LINES_EHV_AC = 1\n",
    "SHARE_OVERHEAD_LINES_EHV_DC = 0.05 \n",
    "SHARE_OVERHEAD_LINES_HV = 0.9474\n",
    "SHARE_OVERHEAD_LINES_MV = 0.1847\n",
    "SHARE_OVERHEAD_LINES_LV = 0.0652\n",
    "\n",
    "SHARE_AL_CABLES_EHV = 1\n",
    "SHARE_AL_CABLES_HV = 0.5\n",
    "SHARE_AL_CABLES_MV = 0.75\n",
    "SHARE_AL_CABLES_LV = 0.75\n",
    "\n",
    "components = {\n",
    "    2023: {\n",
    "        # EHV AC\n",
    "        \"overhead_line_400kv\": SHARE_OVERHEAD_LINES_EHV_AC * 36400,\n",
    "        # EHV DC\n",
    "        \"overhead_line_HVDC\": SHARE_OVERHEAD_LINES_EHV_DC * 2172,\n",
    "        \"land_cable_oil_cu_HVDC\": (1 - SHARE_OVERHEAD_LINES_EHV_DC) * 2172,   \n",
    "        # HV\n",
    "        \"overhead_line_150kv\": SHARE_OVERHEAD_LINES_HV * 95200,\n",
    "        \"land_cable_vpe_al_50kv\": (1 - SHARE_OVERHEAD_LINES_HV) * SHARE_AL_CABLES_HV * 95200, \n",
    "        \"land_cable_oil_cu_150kv\": (1 - SHARE_OVERHEAD_LINES_HV) * (1 - SHARE_AL_CABLES_HV) * 95200, \n",
    "        \"transformer_250mva\": 709, # EHV -> HV\n",
    "        # \"substation_mv\": 709, # same as mv assumed, therefore included below\n",
    "        # MV\n",
    "        \"overhead_line_10kv\": SHARE_OVERHEAD_LINES_MV * 530200,\n",
    "        \"land_cable_vpe_al_10kv\": (1 - SHARE_OVERHEAD_LINES_MV) * SHARE_AL_CABLES_MV * 530200,\n",
    "        \"transformer_40mva\": 7278, # HV -> MV\n",
    "        \"gas_insulated_switchgear_420kv\": 7278,\n",
    "        \"substation_mv\": 7278 + 709, \n",
    "        # LV\n",
    "        \"overhead_line_04kv\": SHARE_OVERHEAD_LINES_LV * 1570100,\n",
    "        \"land_cable_vpe_al_04kv\": (1 - SHARE_OVERHEAD_LINES_LV) * SHARE_AL_CABLES_LV * 1570100,\n",
    "        \"land_cable_vpe_cu_1kv\": (1 - SHARE_OVERHEAD_LINES_LV) * (1 - SHARE_AL_CABLES_LV) * 1570100,\n",
    "        \"transformer_315kva\": 577790, # MV -> LV\n",
    "        \"substation_lv\": 577790, \n",
    "    },\n",
    "    2037: {\n",
    "        # EHV AC\n",
    "        \"overhead_line_400kv\": SHARE_OVERHEAD_LINES_EHV_AC * 11823,\n",
    "        # EHV DC\n",
    "        \"overhead_line_HVDC\": SHARE_OVERHEAD_LINES_EHV_DC * 17492,\n",
    "        \"land_cable_oil_cu_HVDC\": (1 - SHARE_OVERHEAD_LINES_EHV_DC) * 17492,\n",
    "        # HV\n",
    "        \"overhead_line_150kv\": SHARE_OVERHEAD_LINES_HV * 28307,\n",
    "        \"land_cable_vpe_al_50kv\": (1 - SHARE_OVERHEAD_LINES_HV) * SHARE_AL_CABLES_HV * 28307, \n",
    "        \"land_cable_oil_cu_150kv\": (1 - SHARE_OVERHEAD_LINES_HV) * (1 - SHARE_AL_CABLES_HV) * 28307, \n",
    "        \"transformer_250mva\": 221, # EHV -> HV\n",
    "        # \"substation_mv\": 709/1.58, # same as mv assumed, therefore included below\n",
    "        # MV\n",
    "        \"overhead_line_10kv\": SHARE_OVERHEAD_LINES_MV * 117593,\n",
    "        \"land_cable_vpe_al_10kv\": (1 - SHARE_OVERHEAD_LINES_MV) * SHARE_AL_CABLES_MV * 117593,\n",
    "        \"land_cable_epr_cu_11kv\": (1 - SHARE_OVERHEAD_LINES_MV) * (1 - SHARE_AL_CABLES_MV) * 117593,\n",
    "        \"transformer_40mva\": 1890, # HV -> MV\n",
    "        \"gas_insulated_switchgear_420kv\": 1890,\n",
    "        \"substation_mv\": (1890+709)/1.58, \n",
    "        \n",
    "        # LV\n",
    "        \"overhead_line_04kv\": SHARE_OVERHEAD_LINES_LV * 375511,\n",
    "        \"land_cable_vpe_al_04kv\": (1 - SHARE_OVERHEAD_LINES_LV) * SHARE_AL_CABLES_LV * 375511,\n",
    "        \"land_cable_vpe_cu_1kv\": (1 - SHARE_OVERHEAD_LINES_LV) * (1 - SHARE_AL_CABLES_LV) * 375511,\n",
    "        \"transformer_315kva\": 133273, # MV -> LV\n",
    "        \"substation_lv\": 133273, \n",
    "    },    \n",
    "    2045: {\n",
    "        # EHV AC\n",
    "        \"overhead_line_400kv\": SHARE_OVERHEAD_LINES_EHV_AC * 250,\n",
    "        # EHV DC\n",
    "        \"overhead_line_HVDC\": SHARE_OVERHEAD_LINES_EHV_DC * 4683,\n",
    "        \"land_cable_oil_cu_HVDC\": (1 - SHARE_OVERHEAD_LINES_EHV_DC) * 4683,\n",
    "        # HV\n",
    "        \"overhead_line_150kv\": SHARE_OVERHEAD_LINES_HV * 15096,\n",
    "        \"land_cable_vpe_al_50kv\": (1 - SHARE_OVERHEAD_LINES_HV) * SHARE_AL_CABLES_HV * 15096, \n",
    "        \"land_cable_oil_cu_150kv\": (1 - SHARE_OVERHEAD_LINES_HV) * (1 - SHARE_AL_CABLES_HV) * 15096, \n",
    "        \"transformer_250mva\": 59, # EHV -> HV\n",
    "        # \"substation_mv\": 709, # same as mv assumed, therefore included below\n",
    "        # MV\n",
    "        \"overhead_line_10kv\": SHARE_OVERHEAD_LINES_MV * 64837,\n",
    "        \"land_cable_vpe_al_10kv\": (1 - SHARE_OVERHEAD_LINES_MV) * SHARE_AL_CABLES_MV * 64837,\n",
    "        \"transformer_40mva\": 1022, # HV -> MV\n",
    "        \"gas_insulated_switchgear_420kv\": 1022,\n",
    "        \"substation_mv\": (1022+709)/1.58, \n",
    "        # LV\n",
    "        \"overhead_line_04kv\": SHARE_OVERHEAD_LINES_LV * 198933,\n",
    "        \"land_cable_vpe_al_04kv\": (1 - SHARE_OVERHEAD_LINES_LV) * SHARE_AL_CABLES_LV * 198933,\n",
    "        \"land_cable_vpe_cu_1kv\": (1 - SHARE_OVERHEAD_LINES_LV) * (1 - SHARE_AL_CABLES_LV) * 198933,\n",
    "        \"transformer_315kva\": 71943, # MV -> LV\n",
    "        \"substation_lv\": 71943, \n",
    "    },\n",
    "}"
   ]
  },
  {
   "cell_type": "markdown",
   "metadata": {},
   "source": [
    "Status quo:"
   ]
  },
  {
   "cell_type": "code",
   "execution_count": 17,
   "metadata": {},
   "outputs": [],
   "source": [
    "db = bd.Database(\"grid_components_2020\")\n",
    "\n",
    "activity_code = 'grid_status_quo'\n",
    "activity_name = activity_code\n",
    "\n",
    "try:\n",
    "    grid = db.new_activity(code=activity_code, name=activity_name, unit='unit', **{'reference product': activity_name})\n",
    "except:\n",
    "    existing_activity = db.get(activity_code)\n",
    "    existing_activity.delete()\n",
    "    grid = db.new_activity(code=activity_code, name=activity_name, unit='unit', **{'reference product': activity_name})\n",
    "grid.save()\n",
    "grid.new_exchange(input=grid, amount=1, type='production').save()\n",
    "for key, value in components[2023].items():\n",
    "    grid.new_exchange(input=db.get(key), amount=value, type='technosphere').save()"
   ]
  },
  {
   "cell_type": "markdown",
   "metadata": {},
   "source": [
    "### Aggregated material nodes for status quo"
   ]
  },
  {
   "cell_type": "code",
   "execution_count": 18,
   "metadata": {},
   "outputs": [],
   "source": [
    "material_exchanges = {\n",
    "    'aluminium': {},\n",
    "    'steel': {},\n",
    "    'concrete': {},\n",
    "    'copper': {},\n",
    "    'plastics': {}\n",
    "}\n",
    "\n",
    "for component_exchange in grid.technosphere():\n",
    "    for material_exchange in component_exchange.input.technosphere():\n",
    "        name = material_exchange.input['name'].lower()\n",
    "        key = None\n",
    "        if \"aluminium\" in name:\n",
    "            key = 'aluminium'\n",
    "        elif \"steel\" in name or \"iron\" in name:\n",
    "            key = 'steel'\n",
    "        elif \"concrete\" in name:\n",
    "            key = 'concrete'\n",
    "        elif \"copper\" in name:\n",
    "            key = 'copper'\n",
    "        elif \"polyethylene\" in name or \"polypropylene\" in name or \"plastic\" in name:\n",
    "            key = 'plastics'\n",
    "\n",
    "        total_amount = material_exchange.amount * component_exchange.amount\n",
    "        \n",
    "        if key:\n",
    "            if material_exchange.input in material_exchanges[key]:\n",
    "                material_exchanges[key][material_exchange.input] += total_amount\n",
    "            else:\n",
    "                material_exchanges[key][material_exchange.input] = total_amount\n",
    "        else:\n",
    "            if material_exchange.input in material_exchanges.setdefault('other', {}):\n",
    "                material_exchanges['other'][material_exchange.input] += total_amount\n",
    "            else:\n",
    "                material_exchanges['other'][material_exchange.input] = total_amount\n"
   ]
  },
  {
   "cell_type": "code",
   "execution_count": 19,
   "metadata": {},
   "outputs": [],
   "source": [
    "aggregated_material_nodes = []\n",
    "for name, subexchanges in material_exchanges.items():\n",
    "    try:\n",
    "        mat = db.new_node(\n",
    "            name=f\"aggregated material: {name}\"\n",
    "        )\n",
    "    except:\n",
    "        db.get(name).delete()\n",
    "        mat = db.new_node(\n",
    "            name=f\"aggregated material: {name}\"\n",
    "        )\n",
    "    mat.save()\n",
    "    aggregated_material_nodes.append(mat)\n",
    "    mat.new_exchange(input=mat, amount=1, type=\"production\").save()\n",
    "    for node, value in subexchanges.items():\n",
    "        mat.new_exchange(input=node, amount=value, type=\"technosphere\").save()"
   ]
  }
 ],
 "metadata": {
  "kernelspec": {
   "display_name": "timex",
   "language": "python",
   "name": "python3"
  },
  "language_info": {
   "codemirror_mode": {
    "name": "ipython",
    "version": 3
   },
   "file_extension": ".py",
   "mimetype": "text/x-python",
   "name": "python",
   "nbconvert_exporter": "python",
   "pygments_lexer": "ipython3",
   "version": "3.11.10"
  }
 },
 "nbformat": 4,
 "nbformat_minor": 2
}
