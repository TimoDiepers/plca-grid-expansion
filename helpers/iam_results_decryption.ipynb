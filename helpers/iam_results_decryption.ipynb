{
 "cells": [
  {
   "cell_type": "markdown",
   "id": "be975ba2",
   "metadata": {},
   "source": [
    "# IAM Results Decryption\n",
    "\n",
    "This notebook contains code to decrypt the premise IAM result files that containt things like the actual generation shares of different technologies in the electricity mixes."
   ]
  },
  {
   "cell_type": "code",
   "execution_count": null,
   "id": "470986d1",
   "metadata": {},
   "outputs": [],
   "source": [
    "key = \"xxx\" # to be asked from premise maintainers"
   ]
  },
  {
   "cell_type": "code",
   "execution_count": null,
   "id": "4f9f7c37",
   "metadata": {},
   "outputs": [],
   "source": [
    "filepath= \"xxx\" # filepath to the encrypted IAM results file"
   ]
  },
  {
   "cell_type": "code",
   "execution_count": 12,
   "id": "81e60174",
   "metadata": {},
   "outputs": [],
   "source": [
    "import csv\n",
    "def get_delimiter(data=None, filepath=None) -> str:\n",
    "    sniffer = csv.Sniffer()\n",
    "    if filepath:\n",
    "        with open(filepath, \"r\", encoding=\"utf-8\") as stream:\n",
    "            data = stream.readline()\n",
    "    delimiter = str(sniffer.sniff(data).delimiter)\n",
    "    return delimiter"
   ]
  },
  {
   "cell_type": "code",
   "execution_count": null,
   "id": "dc047841",
   "metadata": {},
   "outputs": [],
   "source": [
    "import copy\n",
    "from io import StringIO\n",
    "import pandas as pd\n",
    "from pathlib import Path\n",
    "\n",
    "from cryptography.fernet import Fernet\n",
    "\n",
    "# Uses an encrypted file\n",
    "fernet_obj = Fernet(key)\n",
    "with open(filepath, \"rb\") as file:\n",
    "    encrypted_data = file.read()\n",
    "\n",
    "decrypted_data = fernet_obj.decrypt(encrypted_data)\n",
    "data = StringIO(str(decrypted_data, \"latin-1\"))\n",
    "\n",
    "dataframe = pd.read_csv(\n",
    "    data,\n",
    "    sep=get_delimiter(data=copy.copy(data).readline()),\n",
    "    encoding=\"latin-1\",\n",
    ")"
   ]
  },
  {
   "cell_type": "code",
   "execution_count": 14,
   "id": "8f15804c",
   "metadata": {},
   "outputs": [],
   "source": [
    "dataframe.to_excel(\n",
    "    Path(filepath).with_suffix(\".xlsx\"),)"
   ]
  }
 ],
 "metadata": {
  "kernelspec": {
   "display_name": "paper-plca-grid-expansion",
   "language": "python",
   "name": "python3"
  },
  "language_info": {
   "codemirror_mode": {
    "name": "ipython",
    "version": 3
   },
   "file_extension": ".py",
   "mimetype": "text/x-python",
   "name": "python",
   "nbconvert_exporter": "python",
   "pygments_lexer": "ipython3",
   "version": "3.11.11"
  }
 },
 "nbformat": 4,
 "nbformat_minor": 5
}
