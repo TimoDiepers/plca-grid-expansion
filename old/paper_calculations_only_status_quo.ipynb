{
 "cells": [
  {
   "cell_type": "code",
   "execution_count": 1,
   "metadata": {},
   "outputs": [],
   "source": [
    "import bw2data as bd\n",
    "import bw2io as bi"
   ]
  },
  {
   "cell_type": "code",
   "execution_count": 3,
   "metadata": {},
   "outputs": [
    {
     "ename": "AttributeError",
     "evalue": "module 'bw2io' has no attribute 'import_ecoinvent_release'",
     "output_type": "error",
     "traceback": [
      "\u001b[0;31m---------------------------------------------------------------------------\u001b[0m",
      "\u001b[0;31mAttributeError\u001b[0m                            Traceback (most recent call last)",
      "Cell \u001b[0;32mIn[3], line 1\u001b[0m\n\u001b[0;32m----> 1\u001b[0m \u001b[43mbi\u001b[49m\u001b[38;5;241;43m.\u001b[39;49m\u001b[43mimport_ecoinvent_release\u001b[49m\n",
      "\u001b[0;31mAttributeError\u001b[0m: module 'bw2io' has no attribute 'import_ecoinvent_release'"
     ]
    }
   ],
   "source": [
    "bi.import_ecoinvent_release"
   ]
  },
  {
   "cell_type": "code",
   "execution_count": 5,
   "metadata": {},
   "outputs": [
    {
     "data": {
      "text/plain": [
       "[Project: default,\n",
       " Project: Westnetz Scope3,\n",
       " Project: LCA_EPE,\n",
       " Project: ei310_bw25,\n",
       " Project: bw25_ei310_premise,\n",
       " Project: bw_temporalis example,\n",
       " Project: ab_grid_status_quo_only,\n",
       " Project: bw2_ei391,\n",
       " Project: timex_example_electric_vehicle,\n",
       " Project: lca-epe-databases,\n",
       " Project: __test_delayed_pulse_emission__,\n",
       " Project: bw25_premise_background_v2,\n",
       " Project: danielsstuff,\n",
       " Project: ab_grid_status_quo,\n",
       " Project: dvs-studie,\n",
       " Project: test_background_temporalization,\n",
       " Project: Temporalis example project,\n",
       " Project: timex,\n",
       " Project: multi-level-tds,\n",
       " Project: __multiple_dbs_with_same_timestamp_db__,\n",
       " Project: plca_grid_expansion,\n",
       " Project: timex_minimal_example,\n",
       " Project: getting_started_with_timex,\n",
       " Project: __wastes_db__,\n",
       " Project: __wastesasdfasdf_db__,\n",
       " Project: __wastesasdf_db__,\n",
       " Project: test,\n",
       " Project: 293,\n",
       " Project: ,\n",
       " Project: something,\n",
       " Project: asdfasdfasdf,\n",
       " Project: asdf,\n",
       " Project: sometingnew,\n",
       " Project: löakjsdfölkjasdljkf,\n",
       " Project: nnnnn,\n",
       " Project: testing,\n",
       " Project: thisisanewproject,\n",
       " Project: electric_vehicle_standalone,\n",
       " Project: __test_database1__,\n",
       " Project: timex_example_dynamic_characterization,\n",
       " Project: dynamic_lcia_demo,\n",
       " Project: my_demo,\n",
       " Project: timex_getting_started,\n",
       " Project: timex_ev_example]"
      ]
     },
     "execution_count": 5,
     "metadata": {},
     "output_type": "execute_result"
    }
   ],
   "source": [
    "list(bd.projects)"
   ]
  },
  {
   "cell_type": "code",
   "execution_count": 9,
   "metadata": {},
   "outputs": [],
   "source": [
    "bd.projects.set_current(\"ab_grid_status_quo\")"
   ]
  },
  {
   "cell_type": "code",
   "execution_count": 10,
   "metadata": {},
   "outputs": [
    {
     "data": {
      "text/plain": [
       "Databases dictionary with 0 objects"
      ]
     },
     "execution_count": 10,
     "metadata": {},
     "output_type": "execute_result"
    }
   ],
   "source": [
    "bd.databases"
   ]
  },
  {
   "cell_type": "code",
   "execution_count": null,
   "metadata": {},
   "outputs": [],
   "source": []
  },
  {
   "cell_type": "code",
   "execution_count": 53,
   "metadata": {},
   "outputs": [
    {
     "name": "stdout",
     "output_type": "stream",
     "text": [
      "Creating project backup archive - this could take a few minutes...\n"
     ]
    },
    {
     "data": {
      "text/plain": [
       "'ab_grid_status_quo'"
      ]
     },
     "execution_count": 53,
     "metadata": {},
     "output_type": "execute_result"
    }
   ],
   "source": [
    "# bi.backup_project_directory(\"ab_grid_status_quo\")"
   ]
  },
  {
   "cell_type": "code",
   "execution_count": 3,
   "metadata": {},
   "outputs": [
    {
     "name": "stdout",
     "output_type": "stream",
     "text": [
      "Restoring project backup archive - this could take a few minutes...\n"
     ]
    },
    {
     "ename": "DatabaseError",
     "evalue": "database disk image is malformed",
     "output_type": "error",
     "traceback": [
      "\u001b[0;31m---------------------------------------------------------------------------\u001b[0m",
      "\u001b[0;31mDatabaseError\u001b[0m                             Traceback (most recent call last)",
      "File \u001b[0;32m~/anaconda3/envs/ab/lib/python3.11/site-packages/peewee.py:3291\u001b[0m, in \u001b[0;36mDatabase.execute_sql\u001b[0;34m(self, sql, params, commit)\u001b[0m\n\u001b[1;32m   3290\u001b[0m     cursor \u001b[38;5;241m=\u001b[39m \u001b[38;5;28mself\u001b[39m\u001b[38;5;241m.\u001b[39mcursor()\n\u001b[0;32m-> 3291\u001b[0m     cursor\u001b[38;5;241m.\u001b[39mexecute(sql, params \u001b[38;5;129;01mor\u001b[39;00m ())\n\u001b[1;32m   3292\u001b[0m \u001b[38;5;28;01mreturn\u001b[39;00m cursor\n",
      "\u001b[0;31mDatabaseError\u001b[0m: database disk image is malformed",
      "\nDuring handling of the above exception, another exception occurred:\n",
      "\u001b[0;31mDatabaseError\u001b[0m                             Traceback (most recent call last)",
      "Cell \u001b[0;32mIn[3], line 1\u001b[0m\n\u001b[0;32m----> 1\u001b[0m \u001b[43mbi\u001b[49m\u001b[38;5;241;43m.\u001b[39;49m\u001b[43mrestore_project_directory\u001b[49m\u001b[43m(\u001b[49m\u001b[38;5;124;43m\"\u001b[39;49m\u001b[38;5;124;43m/Users/timodiepers/backup_bw2_grid_expansion_prospective.tar.gz\u001b[39;49m\u001b[38;5;124;43m\"\u001b[39;49m\u001b[43m,\u001b[49m\u001b[43m \u001b[49m\u001b[43moverwrite_existing\u001b[49m\u001b[38;5;241;43m=\u001b[39;49m\u001b[38;5;28;43;01mTrue\u001b[39;49;00m\u001b[43m,\u001b[49m\u001b[43m \u001b[49m\u001b[43mproject_name\u001b[49m\u001b[38;5;241;43m=\u001b[39;49m\u001b[38;5;124;43m\"\u001b[39;49m\u001b[38;5;124;43mab_grid_status_quo_only\u001b[39;49m\u001b[38;5;124;43m\"\u001b[39;49m\u001b[43m)\u001b[49m\n",
      "File \u001b[0;32m~/anaconda3/envs/ab/lib/python3.11/site-packages/bw2io/backup.py:152\u001b[0m, in \u001b[0;36mrestore_project_directory\u001b[0;34m(fp, project_name, overwrite_existing)\u001b[0m\n\u001b[1;32m    149\u001b[0m extracted_path \u001b[38;5;241m=\u001b[39m extracted_dir[\u001b[38;5;241m0\u001b[39m]\n\u001b[1;32m    151\u001b[0m _current \u001b[38;5;241m=\u001b[39m projects\u001b[38;5;241m.\u001b[39mcurrent\n\u001b[0;32m--> 152\u001b[0m \u001b[43mprojects\u001b[49m\u001b[38;5;241;43m.\u001b[39;49m\u001b[43mset_current\u001b[49m\u001b[43m(\u001b[49m\u001b[43mproject_name\u001b[49m\u001b[43m,\u001b[49m\u001b[43m \u001b[49m\u001b[43mupdate\u001b[49m\u001b[38;5;241;43m=\u001b[39;49m\u001b[38;5;28;43;01mFalse\u001b[39;49;00m\u001b[43m)\u001b[49m\n\u001b[1;32m    153\u001b[0m shutil\u001b[38;5;241m.\u001b[39mcopytree(extracted_path, projects\u001b[38;5;241m.\u001b[39mdir, dirs_exist_ok\u001b[38;5;241m=\u001b[39m\u001b[38;5;28;01mTrue\u001b[39;00m)\n\u001b[1;32m    154\u001b[0m projects\u001b[38;5;241m.\u001b[39mset_current(_current)\n",
      "File \u001b[0;32m~/anaconda3/envs/ab/lib/python3.11/site-packages/bw2data/project.py:147\u001b[0m, in \u001b[0;36mProjectManager.set_current\u001b[0;34m(self, name, writable, update)\u001b[0m\n\u001b[1;32m    145\u001b[0m \u001b[38;5;28mself\u001b[39m\u001b[38;5;241m.\u001b[39mcreate_project(name)\n\u001b[1;32m    146\u001b[0m \u001b[38;5;28mself\u001b[39m\u001b[38;5;241m.\u001b[39m_reset_meta()\n\u001b[0;32m--> 147\u001b[0m \u001b[38;5;28;43mself\u001b[39;49m\u001b[38;5;241;43m.\u001b[39;49m\u001b[43m_reset_sqlite3_databases\u001b[49m\u001b[43m(\u001b[49m\u001b[43m)\u001b[49m\n\u001b[1;32m    149\u001b[0m \u001b[38;5;28;01mif\u001b[39;00m \u001b[38;5;129;01mnot\u001b[39;00m lockable():\n\u001b[1;32m    150\u001b[0m     \u001b[38;5;28;01mpass\u001b[39;00m\n",
      "File \u001b[0;32m~/anaconda3/envs/ab/lib/python3.11/site-packages/bw2data/project.py:175\u001b[0m, in \u001b[0;36mProjectManager._reset_sqlite3_databases\u001b[0;34m(self)\u001b[0m\n\u001b[1;32m    173\u001b[0m \u001b[38;5;28;01mdef\u001b[39;00m \u001b[38;5;21m_reset_sqlite3_databases\u001b[39m(\u001b[38;5;28mself\u001b[39m):\n\u001b[1;32m    174\u001b[0m     \u001b[38;5;28;01mfor\u001b[39;00m relative_path, substitutable_db \u001b[38;5;129;01min\u001b[39;00m config\u001b[38;5;241m.\u001b[39msqlite3_databases:\n\u001b[0;32m--> 175\u001b[0m         \u001b[43msubstitutable_db\u001b[49m\u001b[38;5;241;43m.\u001b[39;49m\u001b[43mchange_path\u001b[49m\u001b[43m(\u001b[49m\u001b[43mos\u001b[49m\u001b[38;5;241;43m.\u001b[39;49m\u001b[43mpath\u001b[49m\u001b[38;5;241;43m.\u001b[39;49m\u001b[43mjoin\u001b[49m\u001b[43m(\u001b[49m\u001b[38;5;28;43mself\u001b[39;49m\u001b[38;5;241;43m.\u001b[39;49m\u001b[43mdir\u001b[49m\u001b[43m,\u001b[49m\u001b[43m \u001b[49m\u001b[43mrelative_path\u001b[49m\u001b[43m)\u001b[49m\u001b[43m)\u001b[49m\n",
      "File \u001b[0;32m~/anaconda3/envs/ab/lib/python3.11/site-packages/bw2data/sqlite.py:44\u001b[0m, in \u001b[0;36mSubstitutableDatabase.change_path\u001b[0;34m(self, filepath)\u001b[0m\n\u001b[1;32m     42\u001b[0m \u001b[38;5;28mself\u001b[39m\u001b[38;5;241m.\u001b[39mdb\u001b[38;5;241m.\u001b[39mclose()\n\u001b[1;32m     43\u001b[0m \u001b[38;5;28mself\u001b[39m\u001b[38;5;241m.\u001b[39m_filepath \u001b[38;5;241m=\u001b[39m filepath\n\u001b[0;32m---> 44\u001b[0m \u001b[38;5;28mself\u001b[39m\u001b[38;5;241m.\u001b[39m_database \u001b[38;5;241m=\u001b[39m \u001b[38;5;28;43mself\u001b[39;49m\u001b[38;5;241;43m.\u001b[39;49m\u001b[43m_create_database\u001b[49m\u001b[43m(\u001b[49m\u001b[43m)\u001b[49m\n",
      "File \u001b[0;32m~/anaconda3/envs/ab/lib/python3.11/site-packages/bw2data/sqlite.py:34\u001b[0m, in \u001b[0;36mSubstitutableDatabase._create_database\u001b[0;34m(self)\u001b[0m\n\u001b[1;32m     32\u001b[0m     model\u001b[38;5;241m.\u001b[39mbind(db, bind_refs\u001b[38;5;241m=\u001b[39m\u001b[38;5;28;01mFalse\u001b[39;00m, bind_backrefs\u001b[38;5;241m=\u001b[39m\u001b[38;5;28;01mFalse\u001b[39;00m)\n\u001b[1;32m     33\u001b[0m db\u001b[38;5;241m.\u001b[39mconnect()\n\u001b[0;32m---> 34\u001b[0m \u001b[43mdb\u001b[49m\u001b[38;5;241;43m.\u001b[39;49m\u001b[43mcreate_tables\u001b[49m\u001b[43m(\u001b[49m\u001b[38;5;28;43mself\u001b[39;49m\u001b[38;5;241;43m.\u001b[39;49m\u001b[43m_tables\u001b[49m\u001b[43m)\u001b[49m\n\u001b[1;32m     35\u001b[0m \u001b[38;5;28;01mreturn\u001b[39;00m db\n",
      "File \u001b[0;32m~/anaconda3/envs/ab/lib/python3.11/site-packages/peewee.py:3480\u001b[0m, in \u001b[0;36mDatabase.create_tables\u001b[0;34m(self, models, **options)\u001b[0m\n\u001b[1;32m   3478\u001b[0m \u001b[38;5;28;01mdef\u001b[39;00m \u001b[38;5;21mcreate_tables\u001b[39m(\u001b[38;5;28mself\u001b[39m, models, \u001b[38;5;241m*\u001b[39m\u001b[38;5;241m*\u001b[39moptions):\n\u001b[1;32m   3479\u001b[0m     \u001b[38;5;28;01mfor\u001b[39;00m model \u001b[38;5;129;01min\u001b[39;00m sort_models(models):\n\u001b[0;32m-> 3480\u001b[0m         \u001b[43mmodel\u001b[49m\u001b[38;5;241;43m.\u001b[39;49m\u001b[43mcreate_table\u001b[49m\u001b[43m(\u001b[49m\u001b[38;5;241;43m*\u001b[39;49m\u001b[38;5;241;43m*\u001b[39;49m\u001b[43moptions\u001b[49m\u001b[43m)\u001b[49m\n",
      "File \u001b[0;32m~/anaconda3/envs/ab/lib/python3.11/site-packages/peewee.py:7041\u001b[0m, in \u001b[0;36mModel.create_table\u001b[0;34m(cls, safe, **options)\u001b[0m\n\u001b[1;32m   7039\u001b[0m \u001b[38;5;28;01mif\u001b[39;00m \u001b[38;5;28mcls\u001b[39m\u001b[38;5;241m.\u001b[39m_meta\u001b[38;5;241m.\u001b[39mtemporary:\n\u001b[1;32m   7040\u001b[0m     options\u001b[38;5;241m.\u001b[39msetdefault(\u001b[38;5;124m'\u001b[39m\u001b[38;5;124mtemporary\u001b[39m\u001b[38;5;124m'\u001b[39m, \u001b[38;5;28mcls\u001b[39m\u001b[38;5;241m.\u001b[39m_meta\u001b[38;5;241m.\u001b[39mtemporary)\n\u001b[0;32m-> 7041\u001b[0m \u001b[38;5;28;43mcls\u001b[39;49m\u001b[38;5;241;43m.\u001b[39;49m\u001b[43m_schema\u001b[49m\u001b[38;5;241;43m.\u001b[39;49m\u001b[43mcreate_all\u001b[49m\u001b[43m(\u001b[49m\u001b[43msafe\u001b[49m\u001b[43m,\u001b[49m\u001b[43m \u001b[49m\u001b[38;5;241;43m*\u001b[39;49m\u001b[38;5;241;43m*\u001b[39;49m\u001b[43moptions\u001b[49m\u001b[43m)\u001b[49m\n",
      "File \u001b[0;32m~/anaconda3/envs/ab/lib/python3.11/site-packages/peewee.py:6143\u001b[0m, in \u001b[0;36mSchemaManager.create_all\u001b[0;34m(self, safe, **table_options)\u001b[0m\n\u001b[1;32m   6141\u001b[0m \u001b[38;5;28;01mdef\u001b[39;00m \u001b[38;5;21mcreate_all\u001b[39m(\u001b[38;5;28mself\u001b[39m, safe\u001b[38;5;241m=\u001b[39m\u001b[38;5;28;01mTrue\u001b[39;00m, \u001b[38;5;241m*\u001b[39m\u001b[38;5;241m*\u001b[39mtable_options):\n\u001b[1;32m   6142\u001b[0m     \u001b[38;5;28mself\u001b[39m\u001b[38;5;241m.\u001b[39mcreate_sequences()\n\u001b[0;32m-> 6143\u001b[0m     \u001b[38;5;28;43mself\u001b[39;49m\u001b[38;5;241;43m.\u001b[39;49m\u001b[43mcreate_table\u001b[49m\u001b[43m(\u001b[49m\u001b[43msafe\u001b[49m\u001b[43m,\u001b[49m\u001b[43m \u001b[49m\u001b[38;5;241;43m*\u001b[39;49m\u001b[38;5;241;43m*\u001b[39;49m\u001b[43mtable_options\u001b[49m\u001b[43m)\u001b[49m\n\u001b[1;32m   6144\u001b[0m     \u001b[38;5;28mself\u001b[39m\u001b[38;5;241m.\u001b[39mcreate_indexes(safe\u001b[38;5;241m=\u001b[39msafe)\n",
      "File \u001b[0;32m~/anaconda3/envs/ab/lib/python3.11/site-packages/peewee.py:5994\u001b[0m, in \u001b[0;36mSchemaManager.create_table\u001b[0;34m(self, safe, **options)\u001b[0m\n\u001b[1;32m   5993\u001b[0m \u001b[38;5;28;01mdef\u001b[39;00m \u001b[38;5;21mcreate_table\u001b[39m(\u001b[38;5;28mself\u001b[39m, safe\u001b[38;5;241m=\u001b[39m\u001b[38;5;28;01mTrue\u001b[39;00m, \u001b[38;5;241m*\u001b[39m\u001b[38;5;241m*\u001b[39moptions):\n\u001b[0;32m-> 5994\u001b[0m     \u001b[38;5;28;43mself\u001b[39;49m\u001b[38;5;241;43m.\u001b[39;49m\u001b[43mdatabase\u001b[49m\u001b[38;5;241;43m.\u001b[39;49m\u001b[43mexecute\u001b[49m\u001b[43m(\u001b[49m\u001b[38;5;28;43mself\u001b[39;49m\u001b[38;5;241;43m.\u001b[39;49m\u001b[43m_create_table\u001b[49m\u001b[43m(\u001b[49m\u001b[43msafe\u001b[49m\u001b[38;5;241;43m=\u001b[39;49m\u001b[43msafe\u001b[49m\u001b[43m,\u001b[49m\u001b[43m \u001b[49m\u001b[38;5;241;43m*\u001b[39;49m\u001b[38;5;241;43m*\u001b[39;49m\u001b[43moptions\u001b[49m\u001b[43m)\u001b[49m\u001b[43m)\u001b[49m\n",
      "File \u001b[0;32m~/anaconda3/envs/ab/lib/python3.11/site-packages/peewee.py:3299\u001b[0m, in \u001b[0;36mDatabase.execute\u001b[0;34m(self, query, commit, **context_options)\u001b[0m\n\u001b[1;32m   3297\u001b[0m ctx \u001b[38;5;241m=\u001b[39m \u001b[38;5;28mself\u001b[39m\u001b[38;5;241m.\u001b[39mget_sql_context(\u001b[38;5;241m*\u001b[39m\u001b[38;5;241m*\u001b[39mcontext_options)\n\u001b[1;32m   3298\u001b[0m sql, params \u001b[38;5;241m=\u001b[39m ctx\u001b[38;5;241m.\u001b[39msql(query)\u001b[38;5;241m.\u001b[39mquery()\n\u001b[0;32m-> 3299\u001b[0m \u001b[38;5;28;01mreturn\u001b[39;00m \u001b[38;5;28;43mself\u001b[39;49m\u001b[38;5;241;43m.\u001b[39;49m\u001b[43mexecute_sql\u001b[49m\u001b[43m(\u001b[49m\u001b[43msql\u001b[49m\u001b[43m,\u001b[49m\u001b[43m \u001b[49m\u001b[43mparams\u001b[49m\u001b[43m)\u001b[49m\n",
      "File \u001b[0;32m~/anaconda3/envs/ab/lib/python3.11/site-packages/peewee.py:3289\u001b[0m, in \u001b[0;36mDatabase.execute_sql\u001b[0;34m(self, sql, params, commit)\u001b[0m\n\u001b[1;32m   3287\u001b[0m     __deprecated__(\u001b[38;5;124m'\u001b[39m\u001b[38;5;124m\"\u001b[39m\u001b[38;5;124mcommit\u001b[39m\u001b[38;5;124m\"\u001b[39m\u001b[38;5;124m has been deprecated and is a no-op.\u001b[39m\u001b[38;5;124m'\u001b[39m)\n\u001b[1;32m   3288\u001b[0m logger\u001b[38;5;241m.\u001b[39mdebug((sql, params))\n\u001b[0;32m-> 3289\u001b[0m \u001b[43m\u001b[49m\u001b[38;5;28;43;01mwith\u001b[39;49;00m\u001b[43m \u001b[49m\u001b[43m__exception_wrapper__\u001b[49m\u001b[43m:\u001b[49m\n\u001b[1;32m   3290\u001b[0m \u001b[43m    \u001b[49m\u001b[43mcursor\u001b[49m\u001b[43m \u001b[49m\u001b[38;5;241;43m=\u001b[39;49m\u001b[43m \u001b[49m\u001b[38;5;28;43mself\u001b[39;49m\u001b[38;5;241;43m.\u001b[39;49m\u001b[43mcursor\u001b[49m\u001b[43m(\u001b[49m\u001b[43m)\u001b[49m\n\u001b[1;32m   3291\u001b[0m \u001b[43m    \u001b[49m\u001b[43mcursor\u001b[49m\u001b[38;5;241;43m.\u001b[39;49m\u001b[43mexecute\u001b[49m\u001b[43m(\u001b[49m\u001b[43msql\u001b[49m\u001b[43m,\u001b[49m\u001b[43m \u001b[49m\u001b[43mparams\u001b[49m\u001b[43m \u001b[49m\u001b[38;5;129;43;01mor\u001b[39;49;00m\u001b[43m \u001b[49m\u001b[43m(\u001b[49m\u001b[43m)\u001b[49m\u001b[43m)\u001b[49m\n",
      "File \u001b[0;32m~/anaconda3/envs/ab/lib/python3.11/site-packages/peewee.py:3059\u001b[0m, in \u001b[0;36mExceptionWrapper.__exit__\u001b[0;34m(self, exc_type, exc_value, traceback)\u001b[0m\n\u001b[1;32m   3057\u001b[0m new_type \u001b[38;5;241m=\u001b[39m \u001b[38;5;28mself\u001b[39m\u001b[38;5;241m.\u001b[39mexceptions[exc_type\u001b[38;5;241m.\u001b[39m\u001b[38;5;18m__name__\u001b[39m]\n\u001b[1;32m   3058\u001b[0m exc_args \u001b[38;5;241m=\u001b[39m exc_value\u001b[38;5;241m.\u001b[39margs\n\u001b[0;32m-> 3059\u001b[0m \u001b[43mreraise\u001b[49m\u001b[43m(\u001b[49m\u001b[43mnew_type\u001b[49m\u001b[43m,\u001b[49m\u001b[43m \u001b[49m\u001b[43mnew_type\u001b[49m\u001b[43m(\u001b[49m\u001b[43mexc_value\u001b[49m\u001b[43m,\u001b[49m\u001b[43m \u001b[49m\u001b[38;5;241;43m*\u001b[39;49m\u001b[43mexc_args\u001b[49m\u001b[43m)\u001b[49m\u001b[43m,\u001b[49m\u001b[43m \u001b[49m\u001b[43mtraceback\u001b[49m\u001b[43m)\u001b[49m\n",
      "File \u001b[0;32m~/anaconda3/envs/ab/lib/python3.11/site-packages/peewee.py:192\u001b[0m, in \u001b[0;36mreraise\u001b[0;34m(tp, value, tb)\u001b[0m\n\u001b[1;32m    190\u001b[0m \u001b[38;5;28;01mdef\u001b[39;00m \u001b[38;5;21mreraise\u001b[39m(tp, value, tb\u001b[38;5;241m=\u001b[39m\u001b[38;5;28;01mNone\u001b[39;00m):\n\u001b[1;32m    191\u001b[0m     \u001b[38;5;28;01mif\u001b[39;00m value\u001b[38;5;241m.\u001b[39m__traceback__ \u001b[38;5;129;01mis\u001b[39;00m \u001b[38;5;129;01mnot\u001b[39;00m tb:\n\u001b[0;32m--> 192\u001b[0m         \u001b[38;5;28;01mraise\u001b[39;00m value\u001b[38;5;241m.\u001b[39mwith_traceback(tb)\n\u001b[1;32m    193\u001b[0m     \u001b[38;5;28;01mraise\u001b[39;00m value\n",
      "File \u001b[0;32m~/anaconda3/envs/ab/lib/python3.11/site-packages/peewee.py:3291\u001b[0m, in \u001b[0;36mDatabase.execute_sql\u001b[0;34m(self, sql, params, commit)\u001b[0m\n\u001b[1;32m   3289\u001b[0m \u001b[38;5;28;01mwith\u001b[39;00m __exception_wrapper__:\n\u001b[1;32m   3290\u001b[0m     cursor \u001b[38;5;241m=\u001b[39m \u001b[38;5;28mself\u001b[39m\u001b[38;5;241m.\u001b[39mcursor()\n\u001b[0;32m-> 3291\u001b[0m     cursor\u001b[38;5;241m.\u001b[39mexecute(sql, params \u001b[38;5;129;01mor\u001b[39;00m ())\n\u001b[1;32m   3292\u001b[0m \u001b[38;5;28;01mreturn\u001b[39;00m cursor\n",
      "\u001b[0;31mDatabaseError\u001b[0m: database disk image is malformed"
     ]
    }
   ],
   "source": [
    "bi.restore_project_directory(\"/Users/timodiepers/backup_bw2_grid_expansion_prospective.tar.gz\", overwrite_existing=True, project_name=\"ab_grid_status_quo_only\")"
   ]
  },
  {
   "cell_type": "code",
   "execution_count": 2,
   "metadata": {},
   "outputs": [],
   "source": [
    "bd.projects.set_current(\"ab_grid_status_quo\")"
   ]
  },
  {
   "cell_type": "code",
   "execution_count": 13,
   "metadata": {},
   "outputs": [],
   "source": [
    "SHARE_OVERHEAD_LINES_EHV_AC = 1 # Actually also 0.9474, but currently no data for EHV cables\n",
    "SHARE_OVERHEAD_LINES_EHV_DC = 0.05 # Actually also 0.9474, but currently no data for EHV cables\n",
    "SHARE_OVERHEAD_LINES_HV = 0.9474\n",
    "SHARE_OVERHEAD_LINES_MV = 0.1847\n",
    "SHARE_OVERHEAD_LINES_LV = 0.0652\n",
    "\n",
    "SHARE_AL_CABLES_EHV = 1\n",
    "SHARE_AL_CABLES_HV = 0.5\n",
    "SHARE_AL_CABLES_MV = 0.75\n",
    "SHARE_AL_CABLES_LV = 0.75\n",
    "\n",
    "# Offshore converter stations missing atm\n",
    "components = {\n",
    "    2023: {\n",
    "        # EHV AC\n",
    "        \"overhead_line_400kv\": SHARE_OVERHEAD_LINES_EHV_AC * 36400,\n",
    "        # EHV DC\n",
    "        \"overhead_line_HVDC\": SHARE_OVERHEAD_LINES_EHV_DC * 2172,\n",
    "        \"land_cable_oil_cu_HVDC\": (1 - SHARE_OVERHEAD_LINES_EHV_DC) * 2172,   \n",
    "        # HV\n",
    "        \"overhead_line_150kv\": SHARE_OVERHEAD_LINES_HV * 95200,\n",
    "        \"land_cable_vpe_al_50kv\": (1 - SHARE_OVERHEAD_LINES_HV) * SHARE_AL_CABLES_HV * 95200, \n",
    "        \"land_cable_oil_cu_150kv\": (1 - SHARE_OVERHEAD_LINES_HV) * (1 - SHARE_AL_CABLES_HV) * 95200, \n",
    "        \"transformer_250mva\": 709, # EHV -> HV\n",
    "        # \"substation_mv\": 709, # same as mv assumed\n",
    "        # MV\n",
    "        \"overhead_line_10kv\": SHARE_OVERHEAD_LINES_MV * 530200,\n",
    "        \"land_cable_vpe_al_10kv\": (1 - SHARE_OVERHEAD_LINES_MV) * SHARE_AL_CABLES_MV * 530200,\n",
    "        \"transformer_40mva\": 7278, # HV -> MV\n",
    "        \"gas_insulated_switchgear_420kv\": 7278,\n",
    "        \"substation_mv\": 7278 + 709, \n",
    "        # LV\n",
    "        \"overhead_line_04kv\": SHARE_OVERHEAD_LINES_LV * 1570100,\n",
    "        \"land_cable_vpe_al_04kv\": (1 - SHARE_OVERHEAD_LINES_LV) * SHARE_AL_CABLES_LV * 1570100,\n",
    "        \"land_cable_vpe_cu_1kv\": (1 - SHARE_OVERHEAD_LINES_LV) * (1 - SHARE_AL_CABLES_LV) * 1570100,\n",
    "        \"transformer_315kva\": 577790, # MV -> LV\n",
    "        \"substation_lv\": 577790, \n",
    "        # Other\n",
    "        # \"surge_arrester\": 5692,\n",
    "    },\n",
    "    2037: {\n",
    "        # EHV AC\n",
    "        \"overhead_line_400kv\": SHARE_OVERHEAD_LINES_EHV_AC * 11823,\n",
    "        # EHV DC\n",
    "        \"overhead_line_HVDC\": SHARE_OVERHEAD_LINES_EHV_DC * 17492,\n",
    "        \"land_cable_oil_cu_HVDC\": (1 - SHARE_OVERHEAD_LINES_EHV_DC) * 17492,\n",
    "        # HV\n",
    "        \"overhead_line_150kv\": SHARE_OVERHEAD_LINES_HV * 28307,\n",
    "        \"land_cable_vpe_al_50kv\": (1 - SHARE_OVERHEAD_LINES_HV) * SHARE_AL_CABLES_HV * 28307, \n",
    "        \"land_cable_oil_cu_150kv\": (1 - SHARE_OVERHEAD_LINES_HV) * (1 - SHARE_AL_CABLES_HV) * 28307, \n",
    "        \"transformer_250mva\": 221, # EHV -> HV\n",
    "        # \"substation_mv\": 709/1.58, # same as mv assumed\n",
    "        # MV\n",
    "        \"overhead_line_10kv\": SHARE_OVERHEAD_LINES_MV * 117593,\n",
    "        \"land_cable_vpe_al_10kv\": (1 - SHARE_OVERHEAD_LINES_MV) * SHARE_AL_CABLES_MV * 117593,\n",
    "        \"land_cable_epr_cu_11kv\": (1 - SHARE_OVERHEAD_LINES_MV) * (1 - SHARE_AL_CABLES_MV) * 117593,\n",
    "        \"transformer_40mva\": 1890, # HV -> MV\n",
    "        \"gas_insulated_switchgear_420kv\": 1890,\n",
    "        \"substation_mv\": (1890+709)/1.58, \n",
    "        \n",
    "        # LV\n",
    "        \"overhead_line_04kv\": SHARE_OVERHEAD_LINES_LV * 375511,\n",
    "        \"land_cable_vpe_al_04kv\": (1 - SHARE_OVERHEAD_LINES_LV) * SHARE_AL_CABLES_LV * 375511,\n",
    "        \"land_cable_vpe_cu_1kv\": (1 - SHARE_OVERHEAD_LINES_LV) * (1 - SHARE_AL_CABLES_LV) * 375511,\n",
    "        \"transformer_315kva\": 133273, # MV -> LV\n",
    "        \"substation_lv\": 133273, \n",
    "        # Other\n",
    "        # \"surge_arrester\": 5692,\n",
    "    },    \n",
    "    2045: {\n",
    "        # EHV AC\n",
    "        \"overhead_line_400kv\": SHARE_OVERHEAD_LINES_EHV_AC * 250,\n",
    "        # EHV DC\n",
    "        \"overhead_line_HVDC\": SHARE_OVERHEAD_LINES_EHV_DC * 4683,\n",
    "        \"land_cable_oil_cu_HVDC\": (1 - SHARE_OVERHEAD_LINES_EHV_DC) * 4683,\n",
    "        # HV\n",
    "        \"overhead_line_150kv\": SHARE_OVERHEAD_LINES_HV * 15096,\n",
    "        \"land_cable_vpe_al_50kv\": (1 - SHARE_OVERHEAD_LINES_HV) * SHARE_AL_CABLES_HV * 15096, \n",
    "        \"land_cable_oil_cu_150kv\": (1 - SHARE_OVERHEAD_LINES_HV) * (1 - SHARE_AL_CABLES_HV) * 15096, \n",
    "        \"transformer_250mva\": 59, # EHV -> HV\n",
    "        # \"substation_mv\": 709, # same as mv assumed\n",
    "        # MV\n",
    "        \"overhead_line_10kv\": SHARE_OVERHEAD_LINES_MV * 64837,\n",
    "        \"land_cable_vpe_al_10kv\": (1 - SHARE_OVERHEAD_LINES_MV) * SHARE_AL_CABLES_MV * 64837,\n",
    "        \"transformer_40mva\": 1022, # HV -> MV\n",
    "        \"gas_insulated_switchgear_420kv\": 1022,\n",
    "        \"substation_mv\": (1022+709)/1.58, \n",
    "        # LV\n",
    "        \"overhead_line_04kv\": SHARE_OVERHEAD_LINES_LV * 198933,\n",
    "        \"land_cable_vpe_al_04kv\": (1 - SHARE_OVERHEAD_LINES_LV) * SHARE_AL_CABLES_LV * 198933,\n",
    "        \"land_cable_vpe_cu_1kv\": (1 - SHARE_OVERHEAD_LINES_LV) * (1 - SHARE_AL_CABLES_LV) * 198933,\n",
    "        \"transformer_315kva\": 71943, # MV -> LV\n",
    "        \"substation_lv\": 71943, \n",
    "        # Other\n",
    "        # \"surge_arrester\": 5692,\n",
    "    },\n",
    "}"
   ]
  },
  {
   "cell_type": "markdown",
   "metadata": {},
   "source": [
    "# Creating activities"
   ]
  },
  {
   "cell_type": "code",
   "execution_count": 6,
   "metadata": {},
   "outputs": [
    {
     "data": {
      "text/plain": [
       "['biosphere3',\n",
       " 'ecoinvent 3.9_cutoff_ecoSpold02',\n",
       " 'ei39_alu_elec_2023',\n",
       " 'Carma CCS',\n",
       " 'CSP',\n",
       " 'Hydro',\n",
       " 'ei39_additional_LCIs_2025',\n",
       " 'ei39_additional_LCIs_2030',\n",
       " 'ei39_additional_LCIs_2035',\n",
       " 'ei39_additional_LCIs_2037',\n",
       " 'ei39_additional_LCIs_2040',\n",
       " 'ei39_additional_LCIs_2045',\n",
       " 'ei39_additional_LCIs_2050',\n",
       " 'ei39_additional_LCIs_2025_changed_alu_elec',\n",
       " 'ei39_additional_LCIs_2030_changed_alu_elec',\n",
       " 'ei39_additional_LCIs_2035_changed_alu_elec',\n",
       " 'ei39_additional_LCIs_2037_changed_alu_elec',\n",
       " 'ei39_additional_LCIs_2040_changed_alu_elec',\n",
       " 'ei39_additional_LCIs_2045_changed_alu_elec',\n",
       " 'ei39_additional_LCIs_2050_changed_alu_elec',\n",
       " 'ei39_additional_LCIs_2025_changed_alu_elec1004',\n",
       " 'ei39_additional_LCIs_2025_changed_alu_elec1200',\n",
       " 'ei39_additional_LCIs_2030_changed_alu_elec1200',\n",
       " 'ei39_additional_LCIs_2035_changed_alu_elec1200',\n",
       " 'ei39_additional_LCIs_2037_changed_alu_elec1200',\n",
       " 'ei39_additional_LCIs_2040_changed_alu_elec1200',\n",
       " 'ei39_additional_LCIs_2045_changed_alu_elec1200',\n",
       " 'ei39_additional_LCIs_2050_changed_alu_elec1200',\n",
       " 'ecoinvent 3.9_cutoff_ecoSpold02_changed_alu_elec1200',\n",
       " 'ecoinvent_3.9_cutoff_ecoSpold02_base',\n",
       " 'ei39_additional_LCIs_2023',\n",
       " 'ei39_additional_LCIs_2023_changed_alu_elec1200',\n",
       " 'ecoinvent 3.9_cutoff_ecoSpold02_changed_alu_elec1600',\n",
       " 'ecoinvent 3.9_cutoff_ecoSpold02_changed_alu_elec2000',\n",
       " 'ei39_additional_LCIs_2025_changed_alu_elec2200',\n",
       " 'ei39_additional_LCIs_2030_changed_alu_elec2200',\n",
       " 'ei39_additional_LCIs_2035_changed_alu_elec2200',\n",
       " 'ei39_additional_LCIs_2037_changed_alu_elec2200',\n",
       " 'ei39_additional_LCIs_2040_changed_alu_elec2200',\n",
       " 'ei39_additional_LCIs_2045_changed_alu_elec2200',\n",
       " 'ei39_additional_LCIs_2050_changed_alu_elec2200',\n",
       " 'ei39_additional_LCIs_2023_changed_alu_elec2200',\n",
       " 'ecoinvent 3.9_cutoff_ecoSpold02_changed_alu_elec20230818',\n",
       " 'ecoinvent 3.9_cutoff_ecoSpold02_changed_alu_elec20230818_1700',\n",
       " 'ei39_additional_LCIs_2023_changed_alu_elec20230818_1700',\n",
       " 'ei39_additional_LCIs_2025_changed_alu_elec20230818_1700',\n",
       " 'ei39_additional_LCIs_2030_changed_alu_elec20230818_1700',\n",
       " 'ei39_additional_LCIs_2035_changed_alu_elec20230818_1700',\n",
       " 'ei39_additional_LCIs_2037_changed_alu_elec20230818_1700',\n",
       " 'ei39_additional_LCIs_2040_changed_alu_elec20230818_1700',\n",
       " 'ei39_additional_LCIs_2045_changed_alu_elec20230818_1700',\n",
       " 'ei39_additional_LCIs_2050_changed_alu_elec20230818_1700',\n",
       " 'ei3.9.1-SSP2-RCP26-2020',\n",
       " 'ei3.9.1-SSP2-RCP26-2025',\n",
       " 'ei3.9.1-SSP2-RCP26-2030',\n",
       " 'ei3.9.1-SSP2-RCP26-2035',\n",
       " 'ei3.9.1-SSP2-RCP26-2037',\n",
       " 'ei3.9.1-SSP2-RCP26-2040',\n",
       " 'ei3.9.1-SSP2-RCP26-2045',\n",
       " 'ei3.9.1-SSP2-RCP19-2020',\n",
       " 'ei3.9.1-SSP2-RCP19-2025',\n",
       " 'ei3.9.1-SSP2-RCP19-2030',\n",
       " 'ei3.9.1-SSP2-RCP19-2035',\n",
       " 'ei3.9.1-SSP2-RCP19-2037',\n",
       " 'ei3.9.1-SSP2-RCP19-2040',\n",
       " 'ei3.9.1-SSP2-RCP19-2045',\n",
       " 'ei3.9.1-SSP2-Base-2020',\n",
       " 'ei3.9.1-SSP2-Base-2025',\n",
       " 'ei3.9.1-SSP2-Base-2030',\n",
       " 'ei3.9.1-SSP2-Base-2035',\n",
       " 'ei3.9.1-SSP2-Base-2037',\n",
       " 'ei3.9.1-SSP2-Base-2040',\n",
       " 'ei3.9.1-SSP2-Base-2045',\n",
       " 'pLCA_Grid_Expansion']"
      ]
     },
     "execution_count": 6,
     "metadata": {},
     "output_type": "execute_result"
    }
   ],
   "source": [
    "list(bd.databases)"
   ]
  },
  {
   "cell_type": "code",
   "execution_count": 7,
   "metadata": {},
   "outputs": [],
   "source": [
    "scenario_choices = [\n",
    "    'ei3.9.1-SSP2-RCP26-2020',\n",
    "]"
   ]
  },
  {
   "cell_type": "code",
   "execution_count": 8,
   "metadata": {},
   "outputs": [],
   "source": [
    "scenario_labels = {\n",
    "    'ei3.9.1-SSP2-RCP26-2020': '2023',\n",
    "}"
   ]
  },
  {
   "cell_type": "code",
   "execution_count": 9,
   "metadata": {},
   "outputs": [],
   "source": [
    "CC_method = ('EF v3.1 no LT',\n",
    "  'climate change no LT',\n",
    "  'global warming potential (GWP100) no LT')"
   ]
  },
  {
   "cell_type": "code",
   "execution_count": 10,
   "metadata": {},
   "outputs": [],
   "source": [
    "from method.utilities import *"
   ]
  },
  {
   "cell_type": "code",
   "execution_count": 11,
   "metadata": {},
   "outputs": [],
   "source": [
    "try:\n",
    "    del bd.databases['pLCA_Grid_Expansion']\n",
    "except: \n",
    "    pass\n",
    "bd.Database(\"pLCA_Grid_Expansion\").write({})"
   ]
  },
  {
   "cell_type": "code",
   "execution_count": 12,
   "metadata": {},
   "outputs": [],
   "source": [
    "grid_db = bd.Database(\"pLCA_Grid_Expansion\")"
   ]
  },
  {
   "cell_type": "code",
   "execution_count": 14,
   "metadata": {},
   "outputs": [],
   "source": [
    "# Current year\n",
    "current_year = 2023\n",
    "expansion_period_1 = 2037 - current_year\n",
    "expansion_period_2 = 2045 - 2037\n",
    "# Target years for the distribution\n",
    "years_2037 = [2023, 2025, 2030, 2035, 2037]\n",
    "timespan_2037 = years_2037[-1] - years_2037[0]\n",
    "years_2045 = [2037, 2040, 2045]\n",
    "timespan_2045 = years_2045[-1] - years_2045[0]\n",
    "\n",
    "distributed_components = {}\n",
    "for index, year in enumerate(years_2037):\n",
    "    if year < 2037:\n",
    "        year_data = {}\n",
    "        duration = years_2037[index+1] - year \n",
    "        factor = duration / timespan_2037\n",
    "        \n",
    "        year_data = {}\n",
    "        for component, total_value in components[2037].items():\n",
    "            year_data[component] = total_value * factor\n",
    "        distributed_components[year] = year_data\n",
    "        \n",
    "for index, year in enumerate(years_2045):\n",
    "    if year < 2045:\n",
    "        year_data = {}\n",
    "        duration = years_2045[index+1] - year \n",
    "        factor = duration / timespan_2045\n",
    "        \n",
    "        year_data = {}\n",
    "        for component, total_value in components[2045].items():\n",
    "            year_data[component] = total_value * factor\n",
    "        distributed_components[year] = year_data"
   ]
  },
  {
   "cell_type": "code",
   "execution_count": 15,
   "metadata": {},
   "outputs": [],
   "source": [
    "# Create activities for prospective expansions\n",
    "activities_prospective_expansion = []\n",
    "for db_name, year in zip(\n",
    "    scenario_choices,\n",
    "    [2023, \n",
    "     ],\n",
    "):\n",
    "    db = bd.Database(db_name)\n",
    "\n",
    "    load_material_activities(db)\n",
    "    create_component_datasets(db)\n",
    "\n",
    "    name = f\"grid_expansion_{year}_with_{scenario_labels[db_name]}\"\n",
    "\n",
    "    try:\n",
    "        grid_db.new_activity(\n",
    "            code=name, name=name, unit=\"unit\", **{\"reference product\": name}\n",
    "        ).save()\n",
    "    except:\n",
    "        grid_db.get(name).delete()\n",
    "        grid_db.new_activity(\n",
    "            code=name, name=name, unit=\"unit\", **{\"reference product\": name}\n",
    "        ).save()\n",
    "\n",
    "    grid = grid_db.get(name)\n",
    "    activities_prospective_expansion.append(grid)\n",
    "    grid.new_exchange(input=grid, amount=1, type=\"production\").save()\n",
    "    for key, value in distributed_components[year].items():\n",
    "        grid.new_exchange(input=db.get(key), amount=value, type=\"technosphere\").save()"
   ]
  },
  {
   "cell_type": "code",
   "execution_count": 16,
   "metadata": {},
   "outputs": [],
   "source": [
    "# Create activity for Status Quo:\n",
    "db = bd.Database(\"ei3.9.1-SSP2-RCP26-2020\")\n",
    "\n",
    "activity_code = 'grid_status_quo'\n",
    "activity_name = activity_code\n",
    "\n",
    "try:\n",
    "    grid_db.new_activity(code=activity_code, name=activity_name, unit='unit', **{'reference product': activity_name}).save()\n",
    "except:\n",
    "    existing_activity = grid_db.get(activity_code)\n",
    "    existing_activity.delete()\n",
    "    grid_db.new_activity(code=activity_code, name=activity_name, unit='unit', **{'reference product': activity_name}).save()\n",
    "\n",
    "grid = grid_db.get(activity_code)\n",
    "grid.new_exchange(input=grid, amount=1, type='production').save()\n",
    "for key, value in components[2023].items():\n",
    "    grid.new_exchange(input=db.get(key), amount=value, type='technosphere').save()"
   ]
  },
  {
   "cell_type": "code",
   "execution_count": 17,
   "metadata": {},
   "outputs": [],
   "source": [
    "functional_unit_status_quo = [{bd.Database('pLCA_Grid_Expansion').get('grid_status_quo'): 1}]"
   ]
  },
  {
   "cell_type": "code",
   "execution_count": 18,
   "metadata": {},
   "outputs": [],
   "source": [
    "bd.meta.calculation_setups['pLCA_Grid_Expansion_StatusQuo'] = {'inv': functional_unit_status_quo, 'ia': [CC_method]}\n"
   ]
  },
  {
   "cell_type": "markdown",
   "metadata": {},
   "source": [
    "## MultiLCA"
   ]
  },
  {
   "cell_type": "code",
   "execution_count": 19,
   "metadata": {},
   "outputs": [],
   "source": [
    "import bw2calc as bc"
   ]
  },
  {
   "cell_type": "code",
   "execution_count": 20,
   "metadata": {},
   "outputs": [],
   "source": [
    "pLCA_Grid_Expansion_StatusQuo = bc.MultiLCA('pLCA_Grid_Expansion_StatusQuo')"
   ]
  },
  {
   "cell_type": "code",
   "execution_count": 21,
   "metadata": {},
   "outputs": [
    {
     "data": {
      "text/plain": [
       "array([3.97306839e+11])"
      ]
     },
     "execution_count": 21,
     "metadata": {},
     "output_type": "execute_result"
    }
   ],
   "source": [
    "pLCA_Grid_Expansion_StatusQuo.results[0]"
   ]
  },
  {
   "cell_type": "markdown",
   "metadata": {},
   "source": [
    "# Create dataframe for sankey data"
   ]
  },
  {
   "cell_type": "markdown",
   "metadata": {},
   "source": [
    "## 1st level component contributions"
   ]
  },
  {
   "cell_type": "code",
   "execution_count": 22,
   "metadata": {},
   "outputs": [],
   "source": [
    "results = {}\n",
    "for fu in functional_unit_status_quo:\n",
    "    act = list(fu.keys())[0].key\n",
    "    component_results = []\n",
    "    lca = bc.LCA(fu, method=CC_method)\n",
    "    lca.lci(factorize=True)\n",
    "    lca.lcia()\n",
    "    for exc in bd.get_activity(act).technosphere():\n",
    "        lca.redo_lcia({exc.input: exc.amount})\n",
    "        component_results.append((exc.input['name'], lca.score))\n",
    "    results[act] = component_results\n",
    "        "
   ]
  },
  {
   "cell_type": "code",
   "execution_count": 23,
   "metadata": {},
   "outputs": [],
   "source": [
    "# Initializing an empty DataFrame\n",
    "df = pd.DataFrame()\n",
    "\n",
    "# Populating the DataFrame\n",
    "for (scenario, sub_scenario), values in results.items():\n",
    "    column_name = f\"{scenario}, {sub_scenario}\"\n",
    "    for component, score in values:\n",
    "        df.at[component, column_name] = score\n"
   ]
  },
  {
   "cell_type": "code",
   "execution_count": 24,
   "metadata": {},
   "outputs": [],
   "source": [
    "# Map component names to new categories\n",
    "category_map = {\n",
    "    'Overhead line': 'overhead lines',\n",
    "    'cable': 'cables',\n",
    "    'Transformer': 'transformers',\n",
    "    'switchgear': 'switchgears',\n",
    "    'Substation': 'substations',\n",
    "}\n",
    "\n",
    "# Function to map each component to a category\n",
    "def map_category(component):\n",
    "    for key, value in category_map.items():\n",
    "        if key.lower() in component.lower():\n",
    "            return value\n",
    "    return 'others'  # Return 'others' if no category found\n",
    "\n",
    "# Apply the mapping function to the index\n",
    "df.index = df.index.map(map_category)\n",
    "\n",
    "# Aggregate the DataFrame by summing scores within the new categories\n",
    "df_components = df.groupby(df.index).sum()\n"
   ]
  },
  {
   "cell_type": "code",
   "execution_count": 25,
   "metadata": {},
   "outputs": [],
   "source": [
    "# Assign a temporary sort key that penalizes the 'others' category\n",
    "df_components['sort_key'] = df_components.index != 'others'\n",
    "\n",
    "# Sort the DataFrame by this sort key first, then by the desired column\n",
    "df_components = df_components.sort_values(by=['sort_key', \"pLCA_Grid_Expansion, grid_status_quo\"], ascending=[False, False])\n",
    "\n",
    "# Drop the temporary sort key column\n",
    "df_components = df_components.drop(columns='sort_key')"
   ]
  },
  {
   "cell_type": "code",
   "execution_count": 26,
   "metadata": {},
   "outputs": [
    {
     "data": {
      "text/html": [
       "<div>\n",
       "<style scoped>\n",
       "    .dataframe tbody tr th:only-of-type {\n",
       "        vertical-align: middle;\n",
       "    }\n",
       "\n",
       "    .dataframe tbody tr th {\n",
       "        vertical-align: top;\n",
       "    }\n",
       "\n",
       "    .dataframe thead th {\n",
       "        text-align: right;\n",
       "    }\n",
       "</style>\n",
       "<table border=\"1\" class=\"dataframe\">\n",
       "  <thead>\n",
       "    <tr style=\"text-align: right;\">\n",
       "      <th></th>\n",
       "      <th>pLCA_Grid_Expansion, grid_status_quo</th>\n",
       "    </tr>\n",
       "  </thead>\n",
       "  <tbody>\n",
       "    <tr>\n",
       "      <th>substations</th>\n",
       "      <td>3.304241e+11</td>\n",
       "    </tr>\n",
       "    <tr>\n",
       "      <th>overhead lines</th>\n",
       "      <td>3.011191e+10</td>\n",
       "    </tr>\n",
       "    <tr>\n",
       "      <th>cables</th>\n",
       "      <td>2.218696e+10</td>\n",
       "    </tr>\n",
       "    <tr>\n",
       "      <th>switchgears</th>\n",
       "      <td>1.195836e+10</td>\n",
       "    </tr>\n",
       "    <tr>\n",
       "      <th>transformers</th>\n",
       "      <td>2.625490e+09</td>\n",
       "    </tr>\n",
       "  </tbody>\n",
       "</table>\n",
       "</div>"
      ],
      "text/plain": [
       "                pLCA_Grid_Expansion, grid_status_quo\n",
       "substations                             3.304241e+11\n",
       "overhead lines                          3.011191e+10\n",
       "cables                                  2.218696e+10\n",
       "switchgears                             1.195836e+10\n",
       "transformers                            2.625490e+09"
      ]
     },
     "execution_count": 26,
     "metadata": {},
     "output_type": "execute_result"
    }
   ],
   "source": [
    "df_components"
   ]
  },
  {
   "cell_type": "code",
   "execution_count": 27,
   "metadata": {},
   "outputs": [],
   "source": [
    "df.to_excel('status_quo_first_level_contributions_with_substations_20240701.xlsx')"
   ]
  },
  {
   "cell_type": "markdown",
   "metadata": {},
   "source": [
    "# material scores"
   ]
  },
  {
   "cell_type": "code",
   "execution_count": 28,
   "metadata": {},
   "outputs": [],
   "source": [
    "import pandas as pd"
   ]
  },
  {
   "cell_type": "code",
   "execution_count": 29,
   "metadata": {},
   "outputs": [
    {
     "name": "stdout",
     "output_type": "stream",
     "text": [
      "Exchange: 36400 kilometer 'Overhead line, 400kV' (kilometer, GLO, None) to 'grid_status_quo' (unit, GLO, None)>\n",
      "Exchange: 108.60000000000001 kilometer 'Overhead line HVDC' (kilometer, GLO, None) to 'grid_status_quo' (unit, GLO, None)>\n",
      "Exchange: 2063.4 kilometer 'Land cable, oil insulated, copper, HVDC' (kilometer, GLO, None) to 'grid_status_quo' (unit, GLO, None)>\n",
      "Exchange: 90192.48 kilometer 'Overhead line, 150kV' (kilometer, GLO, None) to 'grid_status_quo' (unit, GLO, None)>\n",
      "Exchange: 2503.759999999999 kilometer 'Land cable, vpe insulated, aluminium, 50kV' (kilometer, GLO, None) to 'grid_status_quo' (unit, GLO, None)>\n",
      "Exchange: 2503.759999999999 kilometer 'Land cable, oil insulated, copper, 150kV' (kilometer, GLO, None) to 'grid_status_quo' (unit, GLO, None)>\n",
      "Exchange: 709 unit 'Transformer, 250MVA' (unit, GLO, None) to 'grid_status_quo' (unit, GLO, None)>\n",
      "Exchange: 97927.94 kilometer 'Overhead line, 10kV' (kilometer, GLO, None) to 'grid_status_quo' (unit, GLO, None)>\n",
      "Exchange: 324204.045 kilometer 'Land cable, vpe insulated, aluminium, 10kV' (kilometer, GLO, None) to 'grid_status_quo' (unit, GLO, None)>\n",
      "Exchange: 7278 unit 'Transformer, 40MVA' (unit, GLO, None) to 'grid_status_quo' (unit, GLO, None)>\n",
      "Exchange: 7278 unit 'Gas insulated switchgear, 420kV' (unit, GLO, None) to 'grid_status_quo' (unit, GLO, None)>\n",
      "Exchange: 7987 unit 'Substation, MV' (unit, GLO, None) to 'grid_status_quo' (unit, GLO, None)>\n",
      "Exchange: 102370.51999999999 kilometer 'Overhead line, 0.4kV' (kilometer, GLO, None) to 'grid_status_quo' (unit, GLO, None)>\n",
      "Exchange: 1100797.1099999999 kilometer 'Land cable, vpe insulated, aluminium, 0.4kV' (kilometer, GLO, None) to 'grid_status_quo' (unit, GLO, None)>\n",
      "Exchange: 366932.37 kilometer 'Land cable, vpe insulated, copper, 1kV' (kilometer, GLO, None) to 'grid_status_quo' (unit, GLO, None)>\n",
      "Exchange: 577790 unit 'Transformer, 315kVA' (unit, GLO, None) to 'grid_status_quo' (unit, GLO, None)>\n",
      "Exchange: 577790 unit 'Substation, LV' (unit, GLO, None) to 'grid_status_quo' (unit, GLO, None)>\n"
     ]
    }
   ],
   "source": [
    "# Alternatively: look up entries for materials in s vector?! We lose component resolution, but this doesnt appear in the final plot anyway\n",
    "\n",
    "results = {}\n",
    "\n",
    "for fu in functional_unit_status_quo: #+ functional_units_prospective_expansion\n",
    "    act = list(fu.keys())[0].key\n",
    "    \n",
    "    component_results = {}\n",
    "    lca = bc.LCA({act: 1}, method=CC_method)\n",
    "    lca.lci(factorize=True)\n",
    "    lca.lcia()\n",
    "    \n",
    "    for component in bd.get_activity(act).technosphere():\n",
    "        print(component)\n",
    "        material_results = {}\n",
    "        # lca.redo_lcia({component.input: component.amount})\n",
    "        \n",
    "        for material in component.input.technosphere():\n",
    "            lca.redo_lcia({material.input: material.amount * component.amount})\n",
    "            material_results[material.input['name']] = lca.score \n",
    "            \n",
    "        component_results[component.input['name']] = material_results\n",
    "        \n",
    "    results[act] = component_results"
   ]
  },
  {
   "cell_type": "code",
   "execution_count": 30,
   "metadata": {},
   "outputs": [],
   "source": [
    "# Flatten the results into a list of tuples (activity, material, score)\n",
    "data = []\n",
    "scenario = list(results.keys())[0]  # Assuming there is only one scenario\n",
    "for activity, materials in results[scenario].items():\n",
    "    for material, score in materials.items():\n",
    "        data.append((activity, material, score))\n",
    "\n",
    "# Create a DataFrame from the list of tuples\n",
    "df = pd.DataFrame(data, columns=['Activity', 'Material', 'Score'])\n",
    "\n",
    "# Pivot the DataFrame to get activities as rows and materials as columns\n",
    "pivot_df = df.pivot(index='Activity', columns='Material', values='Score').fillna(0)\n"
   ]
  },
  {
   "cell_type": "code",
   "execution_count": 31,
   "metadata": {},
   "outputs": [],
   "source": [
    "# pivot_df.to_excel('status_quo_material_contributions_per_component_with_substations.xlsx')"
   ]
  },
  {
   "cell_type": "code",
   "execution_count": 32,
   "metadata": {},
   "outputs": [],
   "source": [
    "# Map component names to new categories\n",
    "category_map = {\n",
    "    'Overhead line': 'overhead lines',\n",
    "    'cable': 'cables',\n",
    "    'Transformer': 'transformers',\n",
    "    'switchgear': 'switchgears',\n",
    "    'Substation': 'substations',\n",
    "}\n",
    "\n",
    "# Function to map each component to a category\n",
    "def map_category(component):\n",
    "    for key, value in category_map.items():\n",
    "        if key.lower() in component.lower():\n",
    "            return value\n",
    "    return 'others'  # Return 'others' if no category found\n",
    "\n",
    "# Apply the mapping function to the index\n",
    "pivot_df.index = pivot_df.index.map(map_category)\n",
    "\n",
    "# Aggregate the DataFrame by summing scoreswithin the new categories\n",
    "df_materials = pivot_df.groupby(pivot_df.index).sum()"
   ]
  },
  {
   "cell_type": "code",
   "execution_count": 33,
   "metadata": {},
   "outputs": [
    {
     "name": "stderr",
     "output_type": "stream",
     "text": [
      "/var/folders/l1/k90rhb0j0ns58y35ymznsd700000gn/T/ipykernel_61064/2672230058.py:26: FutureWarning: DataFrame.groupby with axis=1 is deprecated. Do `frame.T.groupby(...)` without axis instead.\n",
      "  result_df_materials = df_materials.groupby(by=df_materials.columns, axis=1).sum()\n"
     ]
    }
   ],
   "source": [
    "# Map component materials to new categories\n",
    "material_map = {\n",
    "    'aluminium': 'aluminium',\n",
    "    'copper': 'copper',\n",
    "    'iron': 'iron & steel',\n",
    "    'steel': 'iron & steel',\n",
    "    'concrete': 'concrete & cement',\n",
    "    'cement': 'concrete & cement',\n",
    "    'sulfur hexafluoride': 'SF6'\n",
    "}\n",
    "\n",
    "# Function to map each column name to a material category\n",
    "def map_material(column):\n",
    "    for key, value in material_map.items():\n",
    "        if key.lower() in column.lower():\n",
    "            return value\n",
    "    return 'other materials'  # Default category if no specific material is found\n",
    "\n",
    "# Apply the mapping function to the columns\n",
    "new_columns = [map_material(col) for col in df_materials.columns]\n",
    "\n",
    "# Update DataFrame columns with new categories\n",
    "df_materials.columns = new_columns\n",
    "\n",
    "# Aggregate the DataFrame by summing scores within the new column categories\n",
    "result_df_materials = df_materials.groupby(by=df_materials.columns, axis=1).sum()"
   ]
  },
  {
   "cell_type": "code",
   "execution_count": 34,
   "metadata": {},
   "outputs": [
    {
     "data": {
      "text/html": [
       "<div>\n",
       "<style scoped>\n",
       "    .dataframe tbody tr th:only-of-type {\n",
       "        vertical-align: middle;\n",
       "    }\n",
       "\n",
       "    .dataframe tbody tr th {\n",
       "        vertical-align: top;\n",
       "    }\n",
       "\n",
       "    .dataframe thead th {\n",
       "        text-align: right;\n",
       "    }\n",
       "</style>\n",
       "<table border=\"1\" class=\"dataframe\">\n",
       "  <thead>\n",
       "    <tr style=\"text-align: right;\">\n",
       "      <th></th>\n",
       "      <th>SF6</th>\n",
       "      <th>aluminium</th>\n",
       "      <th>concrete &amp; cement</th>\n",
       "      <th>copper</th>\n",
       "      <th>iron &amp; steel</th>\n",
       "      <th>other materials</th>\n",
       "    </tr>\n",
       "    <tr>\n",
       "      <th>Activity</th>\n",
       "      <th></th>\n",
       "      <th></th>\n",
       "      <th></th>\n",
       "      <th></th>\n",
       "      <th></th>\n",
       "      <th></th>\n",
       "    </tr>\n",
       "  </thead>\n",
       "  <tbody>\n",
       "    <tr>\n",
       "      <th>cables</th>\n",
       "      <td>0.000000e+00</td>\n",
       "      <td>1.534766e+10</td>\n",
       "      <td>0.000000e+00</td>\n",
       "      <td>2.188011e+09</td>\n",
       "      <td>3.566748e+08</td>\n",
       "      <td>4.294619e+09</td>\n",
       "    </tr>\n",
       "    <tr>\n",
       "      <th>overhead lines</th>\n",
       "      <td>0.000000e+00</td>\n",
       "      <td>1.726431e+10</td>\n",
       "      <td>1.996495e+09</td>\n",
       "      <td>1.474951e+09</td>\n",
       "      <td>8.813072e+09</td>\n",
       "      <td>5.630827e+08</td>\n",
       "    </tr>\n",
       "    <tr>\n",
       "      <th>substations</th>\n",
       "      <td>0.000000e+00</td>\n",
       "      <td>0.000000e+00</td>\n",
       "      <td>3.296236e+11</td>\n",
       "      <td>0.000000e+00</td>\n",
       "      <td>8.004707e+08</td>\n",
       "      <td>0.000000e+00</td>\n",
       "    </tr>\n",
       "    <tr>\n",
       "      <th>switchgears</th>\n",
       "      <td>5.104151e+08</td>\n",
       "      <td>3.227235e+08</td>\n",
       "      <td>0.000000e+00</td>\n",
       "      <td>4.746990e+07</td>\n",
       "      <td>3.947260e+07</td>\n",
       "      <td>5.792883e+09</td>\n",
       "    </tr>\n",
       "    <tr>\n",
       "      <th>transformers</th>\n",
       "      <td>0.000000e+00</td>\n",
       "      <td>8.067645e+08</td>\n",
       "      <td>0.000000e+00</td>\n",
       "      <td>5.237890e+08</td>\n",
       "      <td>6.752686e+08</td>\n",
       "      <td>6.196679e+08</td>\n",
       "    </tr>\n",
       "  </tbody>\n",
       "</table>\n",
       "</div>"
      ],
      "text/plain": [
       "                         SF6     aluminium  concrete & cement        copper  \\\n",
       "Activity                                                                      \n",
       "cables          0.000000e+00  1.534766e+10       0.000000e+00  2.188011e+09   \n",
       "overhead lines  0.000000e+00  1.726431e+10       1.996495e+09  1.474951e+09   \n",
       "substations     0.000000e+00  0.000000e+00       3.296236e+11  0.000000e+00   \n",
       "switchgears     5.104151e+08  3.227235e+08       0.000000e+00  4.746990e+07   \n",
       "transformers    0.000000e+00  8.067645e+08       0.000000e+00  5.237890e+08   \n",
       "\n",
       "                iron & steel  other materials  \n",
       "Activity                                       \n",
       "cables          3.566748e+08     4.294619e+09  \n",
       "overhead lines  8.813072e+09     5.630827e+08  \n",
       "substations     8.004707e+08     0.000000e+00  \n",
       "switchgears     3.947260e+07     5.792883e+09  \n",
       "transformers    6.752686e+08     6.196679e+08  "
      ]
     },
     "execution_count": 34,
     "metadata": {},
     "output_type": "execute_result"
    }
   ],
   "source": [
    "result_df_materials"
   ]
  },
  {
   "cell_type": "markdown",
   "metadata": {},
   "source": [
    "# Create process per (aggregated) material:"
   ]
  },
  {
   "cell_type": "code",
   "execution_count": 35,
   "metadata": {},
   "outputs": [],
   "source": [
    "aluminium_exchanges = {}\n",
    "steel_exchanges = {}\n",
    "concrete_exchanges = {}\n",
    "copper_exchanges = {}\n",
    "other_exchanges = {}"
   ]
  },
  {
   "cell_type": "code",
   "execution_count": 36,
   "metadata": {},
   "outputs": [],
   "source": [
    "for component in grid.technosphere():\n",
    "    for material in component.input.technosphere():\n",
    "        name = material.input['name']\n",
    "        if \"aluminium\" in name.lower():\n",
    "            if material.input in aluminium_exchanges:\n",
    "                aluminium_exchanges[material.input] += material.amount\n",
    "            else:\n",
    "                aluminium_exchanges[material.input] = material.amount\n",
    "        elif \"steel\" in name.lower():\n",
    "            if material.input in steel_exchanges:\n",
    "                steel_exchanges[material.input] += material.amount\n",
    "            else:\n",
    "                steel_exchanges[material.input] = material.amount\n",
    "        elif \"concrete\" in name.lower():\n",
    "            if material.input in concrete_exchanges:\n",
    "                concrete_exchanges[material.input] += material.amount\n",
    "            else:\n",
    "                concrete_exchanges[material.input] = material.amount\n",
    "        elif \"copper\" in name.lower():\n",
    "            if material.input in copper_exchanges:\n",
    "                copper_exchanges[material.input] += material.amount\n",
    "            else:\n",
    "                copper_exchanges[material.input] = material.amount\n",
    "        else:\n",
    "            if material.input in other_exchanges:\n",
    "                other_exchanges[material.input] += material.amount\n",
    "            else:\n",
    "                other_exchanges[material.input] = material.amount"
   ]
  },
  {
   "cell_type": "code",
   "execution_count": 37,
   "metadata": {},
   "outputs": [],
   "source": [
    "material_types = [\"aluminium\", \"steel\", \"concrete\", \"copper\"]\n",
    "material_exchanges = {material: {} for material in material_types}\n",
    "material_exchanges[\"other\"] = {}\n",
    "\n",
    "for component in grid.technosphere():\n",
    "    for material in component.input.technosphere():\n",
    "        name = material.input['name'].lower()\n",
    "        amount = material.amount * component.amount\n",
    "        for mat_type in material_types:\n",
    "            if mat_type in name:\n",
    "                exchanges = material_exchanges[mat_type]\n",
    "                break\n",
    "        else:\n",
    "            exchanges = material_exchanges[\"other\"]\n",
    "\n",
    "        if material.input in exchanges:\n",
    "            exchanges[material.input] += amount\n",
    "        else:\n",
    "            exchanges[material.input] = amount\n"
   ]
  },
  {
   "cell_type": "code",
   "execution_count": 38,
   "metadata": {},
   "outputs": [],
   "source": [
    "# for material, name in zip([aluminium_exchanges, steel_exchanges, concrete_exchanges, copper_exchanges, other_exchanges], ['aluminium', 'steel', 'concrete', 'copper', 'other']):\n",
    "#     try:\n",
    "#         grid_db.new_activity(\n",
    "#             code=name, name=name, unit=\"unit\", **{\"reference product\": name}\n",
    "#         ).save()\n",
    "#     except:\n",
    "#         grid_db.get(name).delete()\n",
    "#         grid_db.new_activity(\n",
    "#             code=name, name=name, unit=\"unit\", **{\"reference product\": name}\n",
    "#         ).save()\n",
    "\n",
    "#     mat = grid_db.get(name)\n",
    "#     mat.new_exchange(input=mat, amount=1, type=\"production\").save()\n",
    "#     for node, value in material.items():\n",
    "#         mat.new_exchange(input=node, amount=value, type=\"technosphere\").save()"
   ]
  },
  {
   "cell_type": "code",
   "execution_count": 39,
   "metadata": {},
   "outputs": [],
   "source": [
    "material_types = [\"aluminium\", \"steel\", \"concrete\", \"copper\"]\n",
    "material_exchanges = {material: {} for material in material_types}\n",
    "material_exchanges[\"other\"] = {}\n",
    "\n",
    "for component in grid.technosphere():\n",
    "    for material in component.input.technosphere():\n",
    "        name = material.input['name'].lower()\n",
    "        amount = material.amount * component.amount\n",
    "        for mat_type in material_types:\n",
    "            if mat_type in name:\n",
    "                exchanges = material_exchanges[mat_type]\n",
    "                break\n",
    "        else:\n",
    "            exchanges = material_exchanges[\"other\"]\n",
    "\n",
    "        if material.input in exchanges:\n",
    "            exchanges[material.input] += amount\n",
    "        else:\n",
    "            exchanges[material.input] = amount\n",
    "\n",
    "for material, name in zip(\n",
    "    [material_exchanges['aluminium'], material_exchanges['steel'], material_exchanges['concrete'], material_exchanges['copper'], material_exchanges['other']],\n",
    "    ['aluminium', 'steel', 'concrete', 'copper', 'other']\n",
    "):\n",
    "    try:\n",
    "        grid_db.new_activity(\n",
    "            code=name, name=name, unit=\"unit\", **{\"reference product\": name}\n",
    "        ).save()\n",
    "    except:\n",
    "        grid_db.get(name).delete()\n",
    "        grid_db.new_activity(\n",
    "            code=name, name=name, unit=\"unit\", **{\"reference product\": name}\n",
    "        ).save()\n",
    "\n",
    "    mat = grid_db.get(name)\n",
    "    mat.new_exchange(input=mat, amount=1, type=\"production\").save()\n",
    "    for node, value in material.items():\n",
    "        mat.new_exchange(input=node, amount=value, type=\"technosphere\").save()\n"
   ]
  },
  {
   "cell_type": "markdown",
   "metadata": {},
   "source": [
    "# loading in the data from AB"
   ]
  },
  {
   "cell_type": "code",
   "execution_count": 40,
   "metadata": {},
   "outputs": [],
   "source": [
    "materials_to_processes = pd.read_excel(\"ge_Process-contributions_EF-v31-no-LT-climate-change-no-LT-global-warming-potential-GWP100-no-LT_kg-CO2-Eq.xlsx\", index_col=\"index\")"
   ]
  },
  {
   "cell_type": "code",
   "execution_count": 41,
   "metadata": {},
   "outputs": [],
   "source": [
    "materials_to_processes.drop(columns=\"Unnamed: 0\", inplace=True)"
   ]
  },
  {
   "cell_type": "code",
   "execution_count": 42,
   "metadata": {},
   "outputs": [],
   "source": [
    "column_renaming = {\n",
    "    \"aluminium | aluminium | GLO | unit | pLCA_Grid_Expansion\": \"aluminium\",\n",
    "    \"concrete | concrete | GLO | unit | pLCA_Grid_Expansion\": \"concrete & cement\",\n",
    "    \"copper | copper | GLO | unit | pLCA_Grid_Expansion\": \"copper\",\n",
    "    \"steel | steel | GLO | unit | pLCA_Grid_Expansion\": \"iron & steel\",\n",
    "    \"other | other | GLO | unit | pLCA_Grid_Expansion\": \"other materials\",\n",
    "}"
   ]
  },
  {
   "cell_type": "code",
   "execution_count": 43,
   "metadata": {},
   "outputs": [],
   "source": [
    "materials_to_processes= materials_to_processes.rename(columns=column_renaming).fillna(0).drop(index=\"Total\")"
   ]
  },
  {
   "cell_type": "code",
   "execution_count": 44,
   "metadata": {},
   "outputs": [
    {
     "data": {
      "text/html": [
       "<div>\n",
       "<style scoped>\n",
       "    .dataframe tbody tr th:only-of-type {\n",
       "        vertical-align: middle;\n",
       "    }\n",
       "\n",
       "    .dataframe tbody tr th {\n",
       "        vertical-align: top;\n",
       "    }\n",
       "\n",
       "    .dataframe thead th {\n",
       "        text-align: right;\n",
       "    }\n",
       "</style>\n",
       "<table border=\"1\" class=\"dataframe\">\n",
       "  <thead>\n",
       "    <tr style=\"text-align: right;\">\n",
       "      <th></th>\n",
       "      <th>aluminium</th>\n",
       "      <th>concrete &amp; cement</th>\n",
       "      <th>copper</th>\n",
       "      <th>other materials</th>\n",
       "      <th>iron &amp; steel</th>\n",
       "    </tr>\n",
       "    <tr>\n",
       "      <th>index</th>\n",
       "      <th></th>\n",
       "      <th></th>\n",
       "      <th></th>\n",
       "      <th></th>\n",
       "      <th></th>\n",
       "    </tr>\n",
       "  </thead>\n",
       "  <tbody>\n",
       "    <tr>\n",
       "      <th>SF6</th>\n",
       "      <td>0.000000e+00</td>\n",
       "      <td>0.000000e+00</td>\n",
       "      <td>0.000000e+00</td>\n",
       "      <td>4.898307e+08</td>\n",
       "      <td>0.000000e+00</td>\n",
       "    </tr>\n",
       "    <tr>\n",
       "      <th>aluminium (process emissions)</th>\n",
       "      <td>4.464396e+09</td>\n",
       "      <td>0.000000e+00</td>\n",
       "      <td>2.045739e+07</td>\n",
       "      <td>0.000000e+00</td>\n",
       "      <td>0.000000e+00</td>\n",
       "    </tr>\n",
       "    <tr>\n",
       "      <th>clinker</th>\n",
       "      <td>7.411943e+07</td>\n",
       "      <td>1.993029e+11</td>\n",
       "      <td>4.944339e+07</td>\n",
       "      <td>4.717398e+07</td>\n",
       "      <td>1.775105e+08</td>\n",
       "    </tr>\n",
       "    <tr>\n",
       "      <th>coal</th>\n",
       "      <td>3.116367e+09</td>\n",
       "      <td>5.903587e+09</td>\n",
       "      <td>2.571419e+08</td>\n",
       "      <td>4.308086e+08</td>\n",
       "      <td>1.460207e+09</td>\n",
       "    </tr>\n",
       "    <tr>\n",
       "      <th>electricity</th>\n",
       "      <td>1.781879e+10</td>\n",
       "      <td>3.883289e+10</td>\n",
       "      <td>2.312411e+09</td>\n",
       "      <td>2.736683e+09</td>\n",
       "      <td>1.410954e+09</td>\n",
       "    </tr>\n",
       "    <tr>\n",
       "      <th>heat</th>\n",
       "      <td>5.449068e+09</td>\n",
       "      <td>4.219771e+09</td>\n",
       "      <td>4.940206e+08</td>\n",
       "      <td>3.251456e+09</td>\n",
       "      <td>1.841459e+08</td>\n",
       "    </tr>\n",
       "    <tr>\n",
       "      <th>iron &amp; steel (process emissions)</th>\n",
       "      <td>9.068802e+07</td>\n",
       "      <td>2.652986e+09</td>\n",
       "      <td>4.752512e+07</td>\n",
       "      <td>6.253909e+07</td>\n",
       "      <td>5.851127e+09</td>\n",
       "    </tr>\n",
       "    <tr>\n",
       "      <th>other processes</th>\n",
       "      <td>1.371622e+09</td>\n",
       "      <td>2.894915e+10</td>\n",
       "      <td>5.783440e+08</td>\n",
       "      <td>3.852960e+09</td>\n",
       "      <td>6.938031e+08</td>\n",
       "    </tr>\n",
       "    <tr>\n",
       "      <th>transport</th>\n",
       "      <td>9.894648e+08</td>\n",
       "      <td>4.709768e+10</td>\n",
       "      <td>3.858167e+08</td>\n",
       "      <td>6.275253e+08</td>\n",
       "      <td>7.741887e+08</td>\n",
       "    </tr>\n",
       "  </tbody>\n",
       "</table>\n",
       "</div>"
      ],
      "text/plain": [
       "                                     aluminium  concrete & cement  \\\n",
       "index                                                               \n",
       "SF6                               0.000000e+00       0.000000e+00   \n",
       "aluminium (process emissions)     4.464396e+09       0.000000e+00   \n",
       "clinker                           7.411943e+07       1.993029e+11   \n",
       "coal                              3.116367e+09       5.903587e+09   \n",
       "electricity                       1.781879e+10       3.883289e+10   \n",
       "heat                              5.449068e+09       4.219771e+09   \n",
       "iron & steel (process emissions)  9.068802e+07       2.652986e+09   \n",
       "other processes                   1.371622e+09       2.894915e+10   \n",
       "transport                         9.894648e+08       4.709768e+10   \n",
       "\n",
       "                                        copper  other materials  iron & steel  \n",
       "index                                                                          \n",
       "SF6                               0.000000e+00     4.898307e+08  0.000000e+00  \n",
       "aluminium (process emissions)     2.045739e+07     0.000000e+00  0.000000e+00  \n",
       "clinker                           4.944339e+07     4.717398e+07  1.775105e+08  \n",
       "coal                              2.571419e+08     4.308086e+08  1.460207e+09  \n",
       "electricity                       2.312411e+09     2.736683e+09  1.410954e+09  \n",
       "heat                              4.940206e+08     3.251456e+09  1.841459e+08  \n",
       "iron & steel (process emissions)  4.752512e+07     6.253909e+07  5.851127e+09  \n",
       "other processes                   5.783440e+08     3.852960e+09  6.938031e+08  \n",
       "transport                         3.858167e+08     6.275253e+08  7.741887e+08  "
      ]
     },
     "execution_count": 44,
     "metadata": {},
     "output_type": "execute_result"
    }
   ],
   "source": [
    "# Map component names to new categories\n",
    "category_map = {\n",
    "    'aluminium': 'aluminium (process emissions)',\n",
    "    'iron': 'iron & steel (process emissions)',\n",
    "    'steel': 'iron & steel (process emissions)',\n",
    "    'coal': 'coal',\n",
    "    'coke': 'coal',\n",
    "    'clinker': 'clinker',\n",
    "    'electricity': 'electricity',\n",
    "    'heat': 'heat',\n",
    "    'transport': 'transport',\n",
    "    'diesel': 'transport',\n",
    "    'Gas insulated switchgear': 'SF6',\n",
    "    'sulfur hexafluoride': 'SF6',\n",
    "}\n",
    "\n",
    "# Function to map each component to a category\n",
    "def map_category(component):\n",
    "    for key, value in category_map.items():\n",
    "        if key.lower() in component.lower():\n",
    "            return value\n",
    "    return 'other processes'  # Return 'others' if no category found\n",
    "\n",
    "# Apply the mapping function to the index\n",
    "materials_to_processes.index = materials_to_processes.index.map(map_category)\n",
    "\n",
    "# Aggregate the DataFrame by summing scores within the new categories\n",
    "materials_to_processes_renamed = materials_to_processes.groupby(materials_to_processes.index).sum()\n",
    "materials_to_processes_renamed"
   ]
  },
  {
   "cell_type": "markdown",
   "metadata": {},
   "source": [
    "# build sankey data"
   ]
  },
  {
   "cell_type": "code",
   "execution_count": 45,
   "metadata": {},
   "outputs": [],
   "source": [
    "sankey_data = []"
   ]
  },
  {
   "cell_type": "code",
   "execution_count": 46,
   "metadata": {},
   "outputs": [],
   "source": [
    "for source, value in df_components.iterrows():\n",
    "    if value[\"pLCA_Grid_Expansion, grid_status_quo\"] != 0:\n",
    "        sankey_data.append((source, \"grid status quo\", value[\"pLCA_Grid_Expansion, grid_status_quo\"]))"
   ]
  },
  {
   "cell_type": "code",
   "execution_count": 47,
   "metadata": {},
   "outputs": [],
   "source": [
    "for target, values in result_df_materials.iterrows():\n",
    "    for source, value in values.items():\n",
    "        if value != 0:\n",
    "            sankey_data.append((source, target, value))"
   ]
  },
  {
   "cell_type": "code",
   "execution_count": 48,
   "metadata": {},
   "outputs": [],
   "source": [
    "for source, values in materials_to_processes_renamed.iterrows():\n",
    "    for target, value in values.items():\n",
    "        if value != 0:\n",
    "            sankey_data.append((source, target, value))"
   ]
  },
  {
   "cell_type": "code",
   "execution_count": 49,
   "metadata": {},
   "outputs": [],
   "source": [
    "df_sankey = pd.DataFrame(sankey_data, columns=[\"source\", \"target\", \"value\"])\n"
   ]
  },
  {
   "cell_type": "code",
   "execution_count": 50,
   "metadata": {},
   "outputs": [],
   "source": [
    "def add_direct_emissions(process, new_label):\n",
    "    switchgear_target_sum = df_sankey[df_sankey[\"target\"]==process].value.sum()\n",
    "    switchgear_source_sum = df_sankey[df_sankey[\"source\"]==process].value.sum()\n",
    "    emissions = switchgear_source_sum - switchgear_target_sum\n",
    "    return (new_label, process, emissions)\n",
    "\n",
    "processes_to_add = [\n",
    "    (\"switchgears\", \"SF6\"),\n",
    "    (\"concrete & cement\", \"clinker\"),\n",
    "    (\"aluminium\", \"aluminium (process emissions)\"),\n",
    "]\n",
    "for process, new_label in processes_to_add:\n",
    "    new_rows = pd.DataFrame([add_direct_emissions(process, new_label)], columns=[\"source\", \"target\", \"value\"])\n",
    "    df_sankey = pd.concat([df_sankey, new_rows], axis=0)\n"
   ]
  },
  {
   "cell_type": "code",
   "execution_count": 51,
   "metadata": {},
   "outputs": [],
   "source": [
    "df_sankey.to_excel('sankey_data_with_substations.xlsx', index=False)\n",
    "df_sankey.to_csv('sankey_data_with_substations.csv', index=False)"
   ]
  },
  {
   "cell_type": "code",
   "execution_count": null,
   "metadata": {},
   "outputs": [],
   "source": []
  },
  {
   "cell_type": "markdown",
   "metadata": {},
   "source": [
    "## sircle data"
   ]
  },
  {
   "cell_type": "code",
   "execution_count": 52,
   "metadata": {},
   "outputs": [
    {
     "data": {
      "text/html": [
       "<div>\n",
       "<style scoped>\n",
       "    .dataframe tbody tr th:only-of-type {\n",
       "        vertical-align: middle;\n",
       "    }\n",
       "\n",
       "    .dataframe tbody tr th {\n",
       "        vertical-align: top;\n",
       "    }\n",
       "\n",
       "    .dataframe thead th {\n",
       "        text-align: right;\n",
       "    }\n",
       "</style>\n",
       "<table border=\"1\" class=\"dataframe\">\n",
       "  <thead>\n",
       "    <tr style=\"text-align: right;\">\n",
       "      <th></th>\n",
       "      <th>pLCA_Grid_Expansion, grid_status_quo</th>\n",
       "    </tr>\n",
       "  </thead>\n",
       "  <tbody>\n",
       "    <tr>\n",
       "      <th>substations</th>\n",
       "      <td>3.304241e+11</td>\n",
       "    </tr>\n",
       "    <tr>\n",
       "      <th>overhead lines</th>\n",
       "      <td>3.011191e+10</td>\n",
       "    </tr>\n",
       "    <tr>\n",
       "      <th>cables</th>\n",
       "      <td>2.218696e+10</td>\n",
       "    </tr>\n",
       "    <tr>\n",
       "      <th>switchgears</th>\n",
       "      <td>1.195836e+10</td>\n",
       "    </tr>\n",
       "    <tr>\n",
       "      <th>transformers</th>\n",
       "      <td>2.625490e+09</td>\n",
       "    </tr>\n",
       "  </tbody>\n",
       "</table>\n",
       "</div>"
      ],
      "text/plain": [
       "                pLCA_Grid_Expansion, grid_status_quo\n",
       "substations                             3.304241e+11\n",
       "overhead lines                          3.011191e+10\n",
       "cables                                  2.218696e+10\n",
       "switchgears                             1.195836e+10\n",
       "transformers                            2.625490e+09"
      ]
     },
     "execution_count": 52,
     "metadata": {},
     "output_type": "execute_result"
    }
   ],
   "source": [
    "df_components"
   ]
  },
  {
   "cell_type": "code",
   "execution_count": 56,
   "metadata": {},
   "outputs": [
    {
     "data": {
      "text/html": [
       "<div>\n",
       "<style scoped>\n",
       "    .dataframe tbody tr th:only-of-type {\n",
       "        vertical-align: middle;\n",
       "    }\n",
       "\n",
       "    .dataframe tbody tr th {\n",
       "        vertical-align: top;\n",
       "    }\n",
       "\n",
       "    .dataframe thead th {\n",
       "        text-align: right;\n",
       "    }\n",
       "</style>\n",
       "<table border=\"1\" class=\"dataframe\">\n",
       "  <thead>\n",
       "    <tr style=\"text-align: right;\">\n",
       "      <th></th>\n",
       "      <th>SF6</th>\n",
       "      <th>aluminium</th>\n",
       "      <th>concrete &amp; cement</th>\n",
       "      <th>copper</th>\n",
       "      <th>iron &amp; steel</th>\n",
       "      <th>other materials</th>\n",
       "    </tr>\n",
       "    <tr>\n",
       "      <th>Activity</th>\n",
       "      <th></th>\n",
       "      <th></th>\n",
       "      <th></th>\n",
       "      <th></th>\n",
       "      <th></th>\n",
       "      <th></th>\n",
       "    </tr>\n",
       "  </thead>\n",
       "  <tbody>\n",
       "    <tr>\n",
       "      <th>cables</th>\n",
       "      <td>0.000000e+00</td>\n",
       "      <td>1.538790e+10</td>\n",
       "      <td>0.000000e+00</td>\n",
       "      <td>2.194954e+09</td>\n",
       "      <td>3.567330e+08</td>\n",
       "      <td>4.301512e+09</td>\n",
       "    </tr>\n",
       "    <tr>\n",
       "      <th>overhead lines</th>\n",
       "      <td>0.000000e+00</td>\n",
       "      <td>1.730958e+10</td>\n",
       "      <td>2.120464e+09</td>\n",
       "      <td>1.478936e+09</td>\n",
       "      <td>8.906013e+09</td>\n",
       "      <td>5.799970e+08</td>\n",
       "    </tr>\n",
       "    <tr>\n",
       "      <th>substations</th>\n",
       "      <td>0.000000e+00</td>\n",
       "      <td>0.000000e+00</td>\n",
       "      <td>3.367753e+11</td>\n",
       "      <td>0.000000e+00</td>\n",
       "      <td>7.655176e+08</td>\n",
       "      <td>0.000000e+00</td>\n",
       "    </tr>\n",
       "    <tr>\n",
       "      <th>switchgears</th>\n",
       "      <td>5.111105e+08</td>\n",
       "      <td>3.252212e+08</td>\n",
       "      <td>0.000000e+00</td>\n",
       "      <td>4.759814e+07</td>\n",
       "      <td>3.906455e+07</td>\n",
       "      <td>5.814137e+09</td>\n",
       "    </tr>\n",
       "    <tr>\n",
       "      <th>transformers</th>\n",
       "      <td>0.000000e+00</td>\n",
       "      <td>8.091895e+08</td>\n",
       "      <td>0.000000e+00</td>\n",
       "      <td>5.252396e+08</td>\n",
       "      <td>7.624539e+08</td>\n",
       "      <td>6.363714e+08</td>\n",
       "    </tr>\n",
       "  </tbody>\n",
       "</table>\n",
       "</div>"
      ],
      "text/plain": [
       "                         SF6     aluminium  concrete & cement        copper  \\\n",
       "Activity                                                                      \n",
       "cables          0.000000e+00  1.538790e+10       0.000000e+00  2.194954e+09   \n",
       "overhead lines  0.000000e+00  1.730958e+10       2.120464e+09  1.478936e+09   \n",
       "substations     0.000000e+00  0.000000e+00       3.367753e+11  0.000000e+00   \n",
       "switchgears     5.111105e+08  3.252212e+08       0.000000e+00  4.759814e+07   \n",
       "transformers    0.000000e+00  8.091895e+08       0.000000e+00  5.252396e+08   \n",
       "\n",
       "                iron & steel  other materials  \n",
       "Activity                                       \n",
       "cables          3.567330e+08     4.301512e+09  \n",
       "overhead lines  8.906013e+09     5.799970e+08  \n",
       "substations     7.655176e+08     0.000000e+00  \n",
       "switchgears     3.906455e+07     5.814137e+09  \n",
       "transformers    7.624539e+08     6.363714e+08  "
      ]
     },
     "execution_count": 56,
     "metadata": {},
     "output_type": "execute_result"
    }
   ],
   "source": [
    "result_df_materials"
   ]
  },
  {
   "cell_type": "code",
   "execution_count": 98,
   "metadata": {},
   "outputs": [],
   "source": [
    "data = {\n",
    "    \"name\": \"grid status quo\",\n",
    "    \"children\": []\n",
    "}\n",
    "for component, materials in result_df_materials.T.to_dict().items():\n",
    "    data[\"children\"].append({\"name\": component, \"children\": [{\"name\": material, \"value\": value} for material, value in materials.items()]})\n",
    "    "
   ]
  },
  {
   "cell_type": "code",
   "execution_count": 99,
   "metadata": {},
   "outputs": [],
   "source": [
    "import json\n",
    "with open('sircle_20240622.json', 'w') as f:\n",
    "    json.dump(data, f)"
   ]
  },
  {
   "cell_type": "code",
   "execution_count": null,
   "metadata": {},
   "outputs": [],
   "source": []
  }
 ],
 "metadata": {
  "kernelspec": {
   "display_name": "lca-epe",
   "language": "python",
   "name": "python3"
  },
  "language_info": {
   "codemirror_mode": {
    "name": "ipython",
    "version": 3
   },
   "file_extension": ".py",
   "mimetype": "text/x-python",
   "name": "python",
   "nbconvert_exporter": "python",
   "pygments_lexer": "ipython3",
   "version": "3.11.0"
  }
 },
 "nbformat": 4,
 "nbformat_minor": 2
}
