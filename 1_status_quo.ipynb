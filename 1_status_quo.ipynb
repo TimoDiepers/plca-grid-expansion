{
 "cells": [
  {
   "cell_type": "code",
   "execution_count": 9,
   "metadata": {},
   "outputs": [],
   "source": [
    "import bw2data as bd\n",
    "import bw2calc as bc"
   ]
  },
  {
   "cell_type": "code",
   "execution_count": 10,
   "metadata": {},
   "outputs": [],
   "source": [
    "bd.projects.set_current(\"bw25_plca_grid_expansion\")"
   ]
  },
  {
   "cell_type": "markdown",
   "metadata": {},
   "source": [
    "## Components to materials\n"
   ]
  },
  {
   "cell_type": "code",
   "execution_count": 11,
   "metadata": {},
   "outputs": [
    {
     "data": {
      "text/plain": [
       "Databases dictionary with 17 object(s):\n",
       "\tecoinvent-3.10-biosphere\n",
       "\tecoinvent-3.10-cutoff\n",
       "\tei310_SSP2_RCP26_2023\n",
       "\tei310_SSP2_RCP26_2025\n",
       "\tei310_SSP2_RCP26_2030\n",
       "\tei310_SSP2_RCP26_2035\n",
       "\tei310_SSP2_RCP26_2037\n",
       "\tei310_SSP2_RCP26_2040\n",
       "\tgrid_components_2023\n",
       "\tgrid_components_2025\n",
       "\tgrid_components_2030\n",
       "\tgrid_components_2035\n",
       "\tgrid_components_2037\n",
       "\tgrid_components_2040\n",
       "\tgrid_expansion_prospective\n",
       "\tgrid_expansion_static\n",
       "\tgrid_status_quo"
      ]
     },
     "execution_count": 11,
     "metadata": {},
     "output_type": "execute_result"
    }
   ],
   "source": [
    "bd.databases"
   ]
  },
  {
   "cell_type": "code",
   "execution_count": 14,
   "metadata": {},
   "outputs": [],
   "source": [
    "status_quo_node = bd.get_node(database=\"grid_status_quo\", name=\"grid_status_quo\")\n",
    "fu = {status_quo_node: 1}"
   ]
  },
  {
   "cell_type": "code",
   "execution_count": 15,
   "metadata": {},
   "outputs": [],
   "source": [
    "method = (\n",
    "    \"EF v3.1 no LT\",\n",
    "    \"climate change no LT\",\n",
    "    \"global warming potential (GWP100) no LT\",\n",
    ")"
   ]
  },
  {
   "cell_type": "code",
   "execution_count": 16,
   "metadata": {},
   "outputs": [
    {
     "name": "stderr",
     "output_type": "stream",
     "text": [
      "/Users/timodiepers/anaconda3/envs/timex/lib/python3.11/site-packages/bw2calc/lca_base.py:127: SparseEfficiencyWarning: splu converted its input to CSC format\n",
      "  self.solver = factorized(self.technosphere_matrix)\n",
      "/Users/timodiepers/anaconda3/envs/timex/lib/python3.11/site-packages/scikits/umfpack/umfpack.py:736: UmfpackWarning: (almost) singular matrix! (estimated cond. number: 1.51e+12)\n",
      "  warnings.warn(msg, UmfpackWarning)\n"
     ]
    }
   ],
   "source": [
    "component_scores = {}\n",
    "lca = bc.LCA(fu, method=method)\n",
    "lca.lci(factorize=True)\n",
    "for component in status_quo_node.technosphere():\n",
    "    material_scores = {}\n",
    "    for material in component.input.technosphere():\n",
    "        lca.lcia(demand={material.input.id: material.amount * component.amount})\n",
    "        material_scores[material.input[\"name\"]] = lca.score\n",
    "    component_scores[component.input[\"name\"]] = material_scores"
   ]
  },
  {
   "cell_type": "code",
   "execution_count": 17,
   "metadata": {},
   "outputs": [],
   "source": [
    "import pandas as pd\n",
    "\n",
    "df = pd.DataFrame(component_scores)"
   ]
  },
  {
   "cell_type": "code",
   "execution_count": 21,
   "metadata": {},
   "outputs": [],
   "source": [
    "def map_labels(labels, groups, other_label=\"other\"):\n",
    "    new_labels = {}\n",
    "    for label in labels:\n",
    "        for key, group in groups.items():\n",
    "            if key in label:\n",
    "                new_labels[label] = group\n",
    "                break\n",
    "        else:\n",
    "            new_labels[label] = other_label\n",
    "    return new_labels"
   ]
  },
  {
   "cell_type": "code",
   "execution_count": 22,
   "metadata": {},
   "outputs": [
    {
     "data": {
      "text/html": [
       "<div>\n",
       "<style scoped>\n",
       "    .dataframe tbody tr th:only-of-type {\n",
       "        vertical-align: middle;\n",
       "    }\n",
       "\n",
       "    .dataframe tbody tr th {\n",
       "        vertical-align: top;\n",
       "    }\n",
       "\n",
       "    .dataframe thead th {\n",
       "        text-align: right;\n",
       "    }\n",
       "</style>\n",
       "<table border=\"1\" class=\"dataframe\">\n",
       "  <thead>\n",
       "    <tr style=\"text-align: right;\">\n",
       "      <th></th>\n",
       "      <th>cables</th>\n",
       "      <th>overhead lines</th>\n",
       "      <th>substations</th>\n",
       "      <th>switchgears</th>\n",
       "      <th>transformers</th>\n",
       "    </tr>\n",
       "  </thead>\n",
       "  <tbody>\n",
       "    <tr>\n",
       "      <th>SF6</th>\n",
       "      <td>0.000000e+00</td>\n",
       "      <td>0.000000e+00</td>\n",
       "      <td>0.000000e+00</td>\n",
       "      <td>5.091213e+08</td>\n",
       "      <td>0.000000e+00</td>\n",
       "    </tr>\n",
       "    <tr>\n",
       "      <th>aluminium</th>\n",
       "      <td>1.521202e+10</td>\n",
       "      <td>1.711174e+10</td>\n",
       "      <td>0.000000e+00</td>\n",
       "      <td>3.240757e+08</td>\n",
       "      <td>8.015168e+08</td>\n",
       "    </tr>\n",
       "    <tr>\n",
       "      <th>concrete</th>\n",
       "      <td>0.000000e+00</td>\n",
       "      <td>2.830048e+09</td>\n",
       "      <td>2.124849e+08</td>\n",
       "      <td>0.000000e+00</td>\n",
       "      <td>0.000000e+00</td>\n",
       "    </tr>\n",
       "    <tr>\n",
       "      <th>copper</th>\n",
       "      <td>2.908041e+09</td>\n",
       "      <td>1.473018e+09</td>\n",
       "      <td>0.000000e+00</td>\n",
       "      <td>4.740770e+07</td>\n",
       "      <td>5.231059e+08</td>\n",
       "    </tr>\n",
       "    <tr>\n",
       "      <th>iron &amp; steel</th>\n",
       "      <td>4.013115e+08</td>\n",
       "      <td>9.674725e+09</td>\n",
       "      <td>7.983608e+08</td>\n",
       "      <td>3.937028e+07</td>\n",
       "      <td>1.494676e+09</td>\n",
       "    </tr>\n",
       "    <tr>\n",
       "      <th>other materials</th>\n",
       "      <td>4.074928e+08</td>\n",
       "      <td>6.109410e+08</td>\n",
       "      <td>0.000000e+00</td>\n",
       "      <td>5.853176e+07</td>\n",
       "      <td>6.963887e+08</td>\n",
       "    </tr>\n",
       "    <tr>\n",
       "      <th>plastics</th>\n",
       "      <td>5.495226e+09</td>\n",
       "      <td>8.901742e+06</td>\n",
       "      <td>0.000000e+00</td>\n",
       "      <td>0.000000e+00</td>\n",
       "      <td>0.000000e+00</td>\n",
       "    </tr>\n",
       "  </tbody>\n",
       "</table>\n",
       "</div>"
      ],
      "text/plain": [
       "                       cables  overhead lines   substations   switchgears  \\\n",
       "SF6              0.000000e+00    0.000000e+00  0.000000e+00  5.091213e+08   \n",
       "aluminium        1.521202e+10    1.711174e+10  0.000000e+00  3.240757e+08   \n",
       "concrete         0.000000e+00    2.830048e+09  2.124849e+08  0.000000e+00   \n",
       "copper           2.908041e+09    1.473018e+09  0.000000e+00  4.740770e+07   \n",
       "iron & steel     4.013115e+08    9.674725e+09  7.983608e+08  3.937028e+07   \n",
       "other materials  4.074928e+08    6.109410e+08  0.000000e+00  5.853176e+07   \n",
       "plastics         5.495226e+09    8.901742e+06  0.000000e+00  0.000000e+00   \n",
       "\n",
       "                 transformers  \n",
       "SF6              0.000000e+00  \n",
       "aluminium        8.015168e+08  \n",
       "concrete         0.000000e+00  \n",
       "copper           5.231059e+08  \n",
       "iron & steel     1.494676e+09  \n",
       "other materials  6.963887e+08  \n",
       "plastics         0.000000e+00  "
      ]
     },
     "execution_count": 22,
     "metadata": {},
     "output_type": "execute_result"
    }
   ],
   "source": [
    "component_groups = {\n",
    "    \"Overhead line\": \"overhead lines\",\n",
    "    \"cable\": \"cables\",\n",
    "    \"Transformer\": \"transformers\",\n",
    "    \"switchgear\": \"switchgears\",\n",
    "    \"Substation\": \"substations\",\n",
    "}\n",
    "\n",
    "material_groups = {\n",
    "    \"aluminium\": \"aluminium\",\n",
    "    \"copper\": \"copper\",\n",
    "    \"iron\": \"iron & steel\",\n",
    "    \"steel\": \"iron & steel\",\n",
    "    \"concrete\": \"concrete\",\n",
    "    \"cement\": \"concrete\",\n",
    "    \"sulfur hexafluoride\": \"SF6\",\n",
    "    \"polyethylene\": \"plastics\",\n",
    "    \"polypropylene\": \"plastics\",\n",
    "    \"plastic\": \"plastics\",\n",
    "}\n",
    "\n",
    "df.index = df.index.map(\n",
    "    map_labels(df.index, material_groups, other_label=\"other materials\")\n",
    ")\n",
    "df.columns = df.columns.map(map_labels(df.columns, component_groups))\n",
    "\n",
    "df_components_to_materials = df.groupby(level=0).sum().T.groupby(level=0).sum().T\n",
    "df_components_to_materials"
   ]
  },
  {
   "cell_type": "markdown",
   "metadata": {},
   "source": [
    "## Materials to processes\n"
   ]
  },
  {
   "cell_type": "code",
   "execution_count": 23,
   "metadata": {},
   "outputs": [],
   "source": [
    "aggregated_material_names = [\n",
    "    \"aggregated material: aluminium\",\n",
    "    \"aggregated material: steel\",\n",
    "    \"aggregated material: concrete\",\n",
    "    \"aggregated material: copper\",\n",
    "    \"aggregated material: plastics\",\n",
    "    \"aggregated material: other\",\n",
    "]\n",
    "\n",
    "aggregated_material_nodes = [\n",
    "    bd.get_node(name=name) for name in aggregated_material_names\n",
    "]"
   ]
  },
  {
   "cell_type": "code",
   "execution_count": 24,
   "metadata": {},
   "outputs": [],
   "source": [
    "import bw2analyzer as ba"
   ]
  },
  {
   "cell_type": "code",
   "execution_count": 25,
   "metadata": {},
   "outputs": [
    {
     "name": "stderr",
     "output_type": "stream",
     "text": [
      "/Users/timodiepers/anaconda3/envs/timex/lib/python3.11/site-packages/bw2calc/lca_base.py:127: SparseEfficiencyWarning: splu converted its input to CSC format\n",
      "  self.solver = factorized(self.technosphere_matrix)\n",
      "/Users/timodiepers/anaconda3/envs/timex/lib/python3.11/site-packages/scikits/umfpack/umfpack.py:736: UmfpackWarning: (almost) singular matrix! (estimated cond. number: 1.51e+12)\n",
      "  warnings.warn(msg, UmfpackWarning)\n"
     ]
    },
    {
     "ename": "KeyError",
     "evalue": "",
     "output_type": "error",
     "traceback": [
      "\u001b[0;31m---------------------------------------------------------------------------\u001b[0m",
      "\u001b[0;31mKeyError\u001b[0m                                  Traceback (most recent call last)",
      "Cell \u001b[0;32mIn[25], line 11\u001b[0m\n\u001b[1;32m      9\u001b[0m score_and_product \u001b[38;5;241m=\u001b[39m {}\n\u001b[1;32m     10\u001b[0m \u001b[38;5;28;01mfor\u001b[39;00m process \u001b[38;5;129;01min\u001b[39;00m top_processes:\n\u001b[0;32m---> 11\u001b[0m     \u001b[38;5;28;01mif\u001b[39;00m \u001b[43mprocess\u001b[49m\u001b[43m[\u001b[49m\u001b[38;5;241;43m2\u001b[39;49m\u001b[43m]\u001b[49m\u001b[43m[\u001b[49m\u001b[38;5;124;43m\"\u001b[39;49m\u001b[38;5;124;43mreference product\u001b[39;49m\u001b[38;5;124;43m\"\u001b[39;49m\u001b[43m]\u001b[49m \u001b[38;5;129;01min\u001b[39;00m score_and_product:\n\u001b[1;32m     12\u001b[0m         score_and_product[process[\u001b[38;5;241m2\u001b[39m][\u001b[38;5;124m\"\u001b[39m\u001b[38;5;124mreference product\u001b[39m\u001b[38;5;124m\"\u001b[39m]] \u001b[38;5;241m+\u001b[39m\u001b[38;5;241m=\u001b[39m process[\u001b[38;5;241m0\u001b[39m]\n\u001b[1;32m     13\u001b[0m     \u001b[38;5;28;01melse\u001b[39;00m:\n",
      "File \u001b[0;32m~/anaconda3/envs/timex/lib/python3.11/site-packages/bw2data/backends/proxies.py:235\u001b[0m, in \u001b[0;36mActivity.__getitem__\u001b[0;34m(self, key)\u001b[0m\n\u001b[1;32m    232\u001b[0m \u001b[38;5;28;01mif\u001b[39;00m key \u001b[38;5;129;01min\u001b[39;00m rp\u001b[38;5;241m.\u001b[39mget(\u001b[38;5;124m\"\u001b[39m\u001b[38;5;124mproperties\u001b[39m\u001b[38;5;124m\"\u001b[39m, []):\n\u001b[1;32m    233\u001b[0m     \u001b[38;5;28;01mreturn\u001b[39;00m rp[\u001b[38;5;124m\"\u001b[39m\u001b[38;5;124mproperties\u001b[39m\u001b[38;5;124m\"\u001b[39m][key]\n\u001b[0;32m--> 235\u001b[0m \u001b[38;5;28;01mraise\u001b[39;00m \u001b[38;5;167;01mKeyError\u001b[39;00m\n",
      "\u001b[0;31mKeyError\u001b[0m: "
     ]
    }
   ],
   "source": [
    "lca = bc.LCA(\n",
    "    {aggregated_material_nodes[0]: 1}, method=method\n",
    ")  # just to build the matrices\n",
    "lca.lci(factorize=True)\n",
    "material_top_processes = {}\n",
    "for mat in aggregated_material_nodes:\n",
    "    lca.lcia(demand={mat.id: 1})\n",
    "    top_processes = ba.ContributionAnalysis().annotated_top_processes(lca, limit=10000)\n",
    "    score_and_product = {}\n",
    "    for process in top_processes:\n",
    "        if process[2][\"reference product\"] in score_and_product:\n",
    "            score_and_product[process[2][\"reference product\"]] += process[0]\n",
    "        else:\n",
    "            score_and_product[process[2][\"reference product\"]] = process[0]\n",
    "    material_top_processes[mat[\"name\"]] = score_and_product"
   ]
  },
  {
   "cell_type": "code",
   "execution_count": 12,
   "metadata": {},
   "outputs": [],
   "source": [
    "df_aggregated_materials = pd.DataFrame(material_top_processes)"
   ]
  },
  {
   "cell_type": "code",
   "execution_count": 14,
   "metadata": {},
   "outputs": [
    {
     "data": {
      "text/html": [
       "<div>\n",
       "<style scoped>\n",
       "    .dataframe tbody tr th:only-of-type {\n",
       "        vertical-align: middle;\n",
       "    }\n",
       "\n",
       "    .dataframe tbody tr th {\n",
       "        vertical-align: top;\n",
       "    }\n",
       "\n",
       "    .dataframe thead th {\n",
       "        text-align: right;\n",
       "    }\n",
       "</style>\n",
       "<table border=\"1\" class=\"dataframe\">\n",
       "  <thead>\n",
       "    <tr style=\"text-align: right;\">\n",
       "      <th></th>\n",
       "      <th>aluminium</th>\n",
       "      <th>concrete</th>\n",
       "      <th>copper</th>\n",
       "      <th>iron &amp; steel</th>\n",
       "      <th>other materials</th>\n",
       "      <th>plastics</th>\n",
       "    </tr>\n",
       "  </thead>\n",
       "  <tbody>\n",
       "    <tr>\n",
       "      <th>SF6</th>\n",
       "      <td>1.328250e+06</td>\n",
       "      <td>1.767260e+04</td>\n",
       "      <td>1.056766e+05</td>\n",
       "      <td>7.774081e+04</td>\n",
       "      <td>4.897267e+08</td>\n",
       "      <td>8.406842e+04</td>\n",
       "    </tr>\n",
       "    <tr>\n",
       "      <th>aluminium (process emissions)</th>\n",
       "      <td>4.295369e+09</td>\n",
       "      <td>1.664928e+06</td>\n",
       "      <td>2.072173e+07</td>\n",
       "      <td>4.001359e+06</td>\n",
       "      <td>2.298309e+06</td>\n",
       "      <td>4.520097e+06</td>\n",
       "    </tr>\n",
       "    <tr>\n",
       "      <th>clinker</th>\n",
       "      <td>8.431941e+07</td>\n",
       "      <td>1.868708e+09</td>\n",
       "      <td>5.153069e+07</td>\n",
       "      <td>2.261534e+08</td>\n",
       "      <td>2.152376e+07</td>\n",
       "      <td>2.789748e+07</td>\n",
       "    </tr>\n",
       "    <tr>\n",
       "      <th>coal</th>\n",
       "      <td>4.000116e+09</td>\n",
       "      <td>9.731506e+07</td>\n",
       "      <td>2.852101e+08</td>\n",
       "      <td>2.390882e+09</td>\n",
       "      <td>6.267419e+07</td>\n",
       "      <td>2.953253e+08</td>\n",
       "    </tr>\n",
       "    <tr>\n",
       "      <th>electricity</th>\n",
       "      <td>2.307814e+10</td>\n",
       "      <td>3.673784e+08</td>\n",
       "      <td>2.515696e+09</td>\n",
       "      <td>1.863488e+09</td>\n",
       "      <td>5.490133e+08</td>\n",
       "      <td>1.589289e+09</td>\n",
       "    </tr>\n",
       "    <tr>\n",
       "      <th>heat</th>\n",
       "      <td>5.711216e+09</td>\n",
       "      <td>6.267827e+07</td>\n",
       "      <td>5.193807e+08</td>\n",
       "      <td>4.805306e+08</td>\n",
       "      <td>2.717894e+08</td>\n",
       "      <td>2.961497e+08</td>\n",
       "    </tr>\n",
       "    <tr>\n",
       "      <th>iron &amp; steel (process emissions)</th>\n",
       "      <td>1.497928e+08</td>\n",
       "      <td>2.516212e+07</td>\n",
       "      <td>6.049658e+07</td>\n",
       "      <td>6.719249e+09</td>\n",
       "      <td>2.550158e+07</td>\n",
       "      <td>6.064440e+07</td>\n",
       "    </tr>\n",
       "    <tr>\n",
       "      <th>other processes</th>\n",
       "      <td>1.644958e+09</td>\n",
       "      <td>1.900728e+08</td>\n",
       "      <td>6.804347e+08</td>\n",
       "      <td>9.294676e+08</td>\n",
       "      <td>6.605606e+08</td>\n",
       "      <td>2.913504e+09</td>\n",
       "    </tr>\n",
       "    <tr>\n",
       "      <th>transport</th>\n",
       "      <td>1.272192e+09</td>\n",
       "      <td>4.862868e+08</td>\n",
       "      <td>4.454903e+08</td>\n",
       "      <td>1.067972e+09</td>\n",
       "      <td>2.002017e+08</td>\n",
       "      <td>3.149924e+08</td>\n",
       "    </tr>\n",
       "  </tbody>\n",
       "</table>\n",
       "</div>"
      ],
      "text/plain": [
       "                                     aluminium      concrete        copper  \\\n",
       "SF6                               1.328250e+06  1.767260e+04  1.056766e+05   \n",
       "aluminium (process emissions)     4.295369e+09  1.664928e+06  2.072173e+07   \n",
       "clinker                           8.431941e+07  1.868708e+09  5.153069e+07   \n",
       "coal                              4.000116e+09  9.731506e+07  2.852101e+08   \n",
       "electricity                       2.307814e+10  3.673784e+08  2.515696e+09   \n",
       "heat                              5.711216e+09  6.267827e+07  5.193807e+08   \n",
       "iron & steel (process emissions)  1.497928e+08  2.516212e+07  6.049658e+07   \n",
       "other processes                   1.644958e+09  1.900728e+08  6.804347e+08   \n",
       "transport                         1.272192e+09  4.862868e+08  4.454903e+08   \n",
       "\n",
       "                                  iron & steel  other materials      plastics  \n",
       "SF6                               7.774081e+04     4.897267e+08  8.406842e+04  \n",
       "aluminium (process emissions)     4.001359e+06     2.298309e+06  4.520097e+06  \n",
       "clinker                           2.261534e+08     2.152376e+07  2.789748e+07  \n",
       "coal                              2.390882e+09     6.267419e+07  2.953253e+08  \n",
       "electricity                       1.863488e+09     5.490133e+08  1.589289e+09  \n",
       "heat                              4.805306e+08     2.717894e+08  2.961497e+08  \n",
       "iron & steel (process emissions)  6.719249e+09     2.550158e+07  6.064440e+07  \n",
       "other processes                   9.294676e+08     6.605606e+08  2.913504e+09  \n",
       "transport                         1.067972e+09     2.002017e+08  3.149924e+08  "
      ]
     },
     "execution_count": 14,
     "metadata": {},
     "output_type": "execute_result"
    }
   ],
   "source": [
    "product_groups = {\n",
    "    \"electricity\": \"electricity\",\n",
    "    \"heat\": \"heat\",\n",
    "    \"transport\": \"transport\",\n",
    "    \"aluminium\": \"aluminium (process emissions)\",\n",
    "    \"iron\": \"iron & steel (process emissions)\",\n",
    "    \"steel\": \"iron & steel (process emissions)\",\n",
    "    \"coal\": \"coal\",\n",
    "    \"coke\": \"coal\",\n",
    "    \"clinker\": \"clinker\",\n",
    "    \"diesel\": \"transport\",\n",
    "    \"Gas insulated switchgear\": \"SF6\",\n",
    "    \"sulfur hexafluoride\": \"SF6\",\n",
    "}\n",
    "\n",
    "df_aggregated_materials.index = df_aggregated_materials.index.map(\n",
    "    map_labels(\n",
    "        df_aggregated_materials.index, product_groups, other_label=\"other processes\"\n",
    "    )\n",
    ")\n",
    "df_aggregated_materials.columns = df_aggregated_materials.columns.map(\n",
    "    map_labels(\n",
    "        df_aggregated_materials.columns, material_groups, other_label=\"other materials\"\n",
    "    )\n",
    ")\n",
    "\n",
    "df_materials_to_processes = (\n",
    "    df_aggregated_materials.groupby(level=0).sum().T.groupby(level=0).sum().T\n",
    ")\n",
    "df_materials_to_processes"
   ]
  },
  {
   "cell_type": "code",
   "execution_count": 15,
   "metadata": {},
   "outputs": [
    {
     "data": {
      "text/plain": [
       "40237427842.16292"
      ]
     },
     "execution_count": 15,
     "metadata": {},
     "output_type": "execute_result"
    }
   ],
   "source": [
    "df_materials_to_processes.aluminium.sum()"
   ]
  },
  {
   "cell_type": "markdown",
   "metadata": {},
   "source": [
    "## Prepare sankey diagram\n"
   ]
  },
  {
   "cell_type": "code",
   "execution_count": 16,
   "metadata": {},
   "outputs": [],
   "source": [
    "sankey_data = []  # will be filled with tuples of (source, target, value)"
   ]
  },
  {
   "cell_type": "markdown",
   "metadata": {},
   "source": [
    "Total impact:\n"
   ]
  },
  {
   "cell_type": "code",
   "execution_count": 17,
   "metadata": {},
   "outputs": [
    {
     "data": {
      "text/plain": [
       "69383294328.312"
      ]
     },
     "execution_count": 17,
     "metadata": {},
     "output_type": "execute_result"
    }
   ],
   "source": [
    "df_components_to_materials.sum().sum()"
   ]
  },
  {
   "cell_type": "markdown",
   "metadata": {},
   "source": [
    "Grid to components:\n"
   ]
  },
  {
   "cell_type": "code",
   "execution_count": 18,
   "metadata": {},
   "outputs": [],
   "source": [
    "for component, score in df_components_to_materials.sum().items():\n",
    "    sankey_data.append((component, \"grid status quo\", score))"
   ]
  },
  {
   "cell_type": "markdown",
   "metadata": {},
   "source": [
    "Components to materials:\n"
   ]
  },
  {
   "cell_type": "code",
   "execution_count": 19,
   "metadata": {},
   "outputs": [],
   "source": [
    "for target, values in df_components_to_materials.items():\n",
    "    for source, value in values.items():\n",
    "        if value != 0:\n",
    "            sankey_data.append((source, target, value))"
   ]
  },
  {
   "cell_type": "markdown",
   "metadata": {},
   "source": [
    "Materials to processes:\n"
   ]
  },
  {
   "cell_type": "code",
   "execution_count": 20,
   "metadata": {},
   "outputs": [],
   "source": [
    "for target, values in df_materials_to_processes.items():\n",
    "    for source, value in values.items():\n",
    "        if value != 0:\n",
    "            sankey_data.append((source, target, value))"
   ]
  },
  {
   "cell_type": "markdown",
   "metadata": {},
   "source": [
    "Create a df and add direct emissions\n"
   ]
  },
  {
   "cell_type": "code",
   "execution_count": 28,
   "metadata": {},
   "outputs": [],
   "source": [
    "df_sankey = pd.DataFrame(sankey_data, columns=[\"source\", \"target\", \"value\"])"
   ]
  },
  {
   "cell_type": "code",
   "execution_count": 29,
   "metadata": {},
   "outputs": [],
   "source": [
    "df_sankey.value = df_sankey.value / 1e9"
   ]
  },
  {
   "cell_type": "code",
   "execution_count": 30,
   "metadata": {},
   "outputs": [
    {
     "data": {
      "text/html": [
       "<div>\n",
       "<style scoped>\n",
       "    .dataframe tbody tr th:only-of-type {\n",
       "        vertical-align: middle;\n",
       "    }\n",
       "\n",
       "    .dataframe tbody tr th {\n",
       "        vertical-align: top;\n",
       "    }\n",
       "\n",
       "    .dataframe thead th {\n",
       "        text-align: right;\n",
       "    }\n",
       "</style>\n",
       "<table border=\"1\" class=\"dataframe\">\n",
       "  <thead>\n",
       "    <tr style=\"text-align: right;\">\n",
       "      <th></th>\n",
       "      <th>source</th>\n",
       "      <th>target</th>\n",
       "      <th>value</th>\n",
       "    </tr>\n",
       "  </thead>\n",
       "  <tbody>\n",
       "    <tr>\n",
       "      <th>0</th>\n",
       "      <td>cables</td>\n",
       "      <td>grid status quo</td>\n",
       "      <td>26.962429</td>\n",
       "    </tr>\n",
       "    <tr>\n",
       "      <th>1</th>\n",
       "      <td>overhead lines</td>\n",
       "      <td>grid status quo</td>\n",
       "      <td>36.428166</td>\n",
       "    </tr>\n",
       "    <tr>\n",
       "      <th>2</th>\n",
       "      <td>substations</td>\n",
       "      <td>grid status quo</td>\n",
       "      <td>1.108168</td>\n",
       "    </tr>\n",
       "    <tr>\n",
       "      <th>3</th>\n",
       "      <td>switchgears</td>\n",
       "      <td>grid status quo</td>\n",
       "      <td>1.046567</td>\n",
       "    </tr>\n",
       "    <tr>\n",
       "      <th>4</th>\n",
       "      <td>transformers</td>\n",
       "      <td>grid status quo</td>\n",
       "      <td>3.837964</td>\n",
       "    </tr>\n",
       "    <tr>\n",
       "      <th>...</th>\n",
       "      <td>...</td>\n",
       "      <td>...</td>\n",
       "      <td>...</td>\n",
       "    </tr>\n",
       "    <tr>\n",
       "      <th>76</th>\n",
       "      <td>electricity</td>\n",
       "      <td>plastics</td>\n",
       "      <td>1.589289</td>\n",
       "    </tr>\n",
       "    <tr>\n",
       "      <th>77</th>\n",
       "      <td>heat</td>\n",
       "      <td>plastics</td>\n",
       "      <td>0.296150</td>\n",
       "    </tr>\n",
       "    <tr>\n",
       "      <th>78</th>\n",
       "      <td>iron &amp; steel (process emissions)</td>\n",
       "      <td>plastics</td>\n",
       "      <td>0.060644</td>\n",
       "    </tr>\n",
       "    <tr>\n",
       "      <th>79</th>\n",
       "      <td>other processes</td>\n",
       "      <td>plastics</td>\n",
       "      <td>2.913504</td>\n",
       "    </tr>\n",
       "    <tr>\n",
       "      <th>80</th>\n",
       "      <td>transport</td>\n",
       "      <td>plastics</td>\n",
       "      <td>0.314992</td>\n",
       "    </tr>\n",
       "  </tbody>\n",
       "</table>\n",
       "<p>81 rows × 3 columns</p>\n",
       "</div>"
      ],
      "text/plain": [
       "                              source           target      value\n",
       "0                             cables  grid status quo  26.962429\n",
       "1                     overhead lines  grid status quo  36.428166\n",
       "2                        substations  grid status quo   1.108168\n",
       "3                        switchgears  grid status quo   1.046567\n",
       "4                       transformers  grid status quo   3.837964\n",
       "..                               ...              ...        ...\n",
       "76                       electricity         plastics   1.589289\n",
       "77                              heat         plastics   0.296150\n",
       "78  iron & steel (process emissions)         plastics   0.060644\n",
       "79                   other processes         plastics   2.913504\n",
       "80                         transport         plastics   0.314992\n",
       "\n",
       "[81 rows x 3 columns]"
      ]
     },
     "execution_count": 30,
     "metadata": {},
     "output_type": "execute_result"
    }
   ],
   "source": [
    "df_sankey"
   ]
  },
  {
   "cell_type": "code",
   "execution_count": 31,
   "metadata": {},
   "outputs": [],
   "source": [
    "df_sankey.to_csv(\"sankey_data.csv\", index=False)"
   ]
  }
 ],
 "metadata": {
  "kernelspec": {
   "display_name": "timex",
   "language": "python",
   "name": "python3"
  },
  "language_info": {
   "codemirror_mode": {
    "name": "ipython",
    "version": 3
   },
   "file_extension": ".py",
   "mimetype": "text/x-python",
   "name": "python",
   "nbconvert_exporter": "python",
   "pygments_lexer": "ipython3",
   "version": "3.11.10"
  }
 },
 "nbformat": 4,
 "nbformat_minor": 2
}
