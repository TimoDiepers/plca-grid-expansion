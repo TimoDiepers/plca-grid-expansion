{
 "cells": [
  {
   "cell_type": "code",
   "execution_count": 1,
   "metadata": {},
   "outputs": [],
   "source": [
    "import bw2data as bd\n",
    "import bw2calc as bc"
   ]
  },
  {
   "cell_type": "code",
   "execution_count": 3,
   "metadata": {},
   "outputs": [],
   "source": [
    "bd.projects.set_current(\"bw25_plca_grid_expansion\")"
   ]
  },
  {
   "cell_type": "markdown",
   "metadata": {},
   "source": [
    "## Components to materials\n"
   ]
  },
  {
   "cell_type": "code",
   "execution_count": 4,
   "metadata": {},
   "outputs": [
    {
     "data": {
      "text/plain": [
       "Databases dictionary with 45 objects, including:\n",
       "\tecoinvent-3.10-biosphere\n",
       "\tecoinvent-3.10-cutoff\n",
       "\tei310_SSP2_Base_2023\n",
       "\tei310_SSP2_Base_2025\n",
       "\tei310_SSP2_Base_2030\n",
       "\tei310_SSP2_Base_2035\n",
       "\tei310_SSP2_Base_2037\n",
       "\tei310_SSP2_Base_2040\n",
       "\tei310_SSP2_Base_2045\n",
       "\tei310_SSP2_RCP19_2023\n",
       "Use `list(this object)` to get the complete list."
      ]
     },
     "execution_count": 4,
     "metadata": {},
     "output_type": "execute_result"
    }
   ],
   "source": [
    "bd.databases"
   ]
  },
  {
   "cell_type": "code",
   "execution_count": 5,
   "metadata": {},
   "outputs": [],
   "source": [
    "status_quo_node = bd.get_node(database=\"grid_status_quo\", name=\"grid_status_quo\")\n",
    "fu = {status_quo_node: 1}"
   ]
  },
  {
   "cell_type": "code",
   "execution_count": 6,
   "metadata": {},
   "outputs": [],
   "source": [
    "method = (\n",
    "    \"EF v3.1 no LT\",\n",
    "    \"climate change no LT\",\n",
    "    \"global warming potential (GWP100) no LT\",\n",
    ")"
   ]
  },
  {
   "cell_type": "code",
   "execution_count": 7,
   "metadata": {},
   "outputs": [
    {
     "name": "stderr",
     "output_type": "stream",
     "text": [
      "/Users/timodiepers/anaconda3/envs/plca-grid-expansion/lib/python3.11/site-packages/bw2calc/lca_base.py:127: SparseEfficiencyWarning: splu converted its input to CSC format\n",
      "  self.solver = factorized(self.technosphere_matrix)\n",
      "/Users/timodiepers/anaconda3/envs/plca-grid-expansion/lib/python3.11/site-packages/scikits/umfpack/umfpack.py:736: UmfpackWarning: (almost) singular matrix! (estimated cond. number: 5.51e+12)\n",
      "  warnings.warn(msg, UmfpackWarning)\n"
     ]
    }
   ],
   "source": [
    "component_scores = {}\n",
    "lca = bc.LCA(fu, method=method)\n",
    "lca.lci(factorize=True)\n",
    "for component in status_quo_node.technosphere():\n",
    "    material_scores = {}\n",
    "    for material in component.input.technosphere():\n",
    "        lca.lcia(demand={material.input.id: material.amount * component.amount})\n",
    "        material_scores[material.input[\"name\"]] = lca.score\n",
    "    component_scores[component.input[\"name\"]] = material_scores"
   ]
  },
  {
   "cell_type": "code",
   "execution_count": 8,
   "metadata": {},
   "outputs": [],
   "source": [
    "import pandas as pd\n",
    "\n",
    "df = pd.DataFrame(component_scores)"
   ]
  },
  {
   "cell_type": "code",
   "execution_count": 9,
   "metadata": {},
   "outputs": [],
   "source": [
    "def map_labels(labels, groups, other_label=\"other\"):\n",
    "    new_labels = {}\n",
    "    for label in labels:\n",
    "        for key, group in groups.items():\n",
    "            if key in label:\n",
    "                new_labels[label] = group\n",
    "                break\n",
    "        else:\n",
    "            new_labels[label] = other_label\n",
    "    return new_labels"
   ]
  },
  {
   "cell_type": "code",
   "execution_count": 10,
   "metadata": {},
   "outputs": [
    {
     "data": {
      "text/html": [
       "<div>\n",
       "<style scoped>\n",
       "    .dataframe tbody tr th:only-of-type {\n",
       "        vertical-align: middle;\n",
       "    }\n",
       "\n",
       "    .dataframe tbody tr th {\n",
       "        vertical-align: top;\n",
       "    }\n",
       "\n",
       "    .dataframe thead th {\n",
       "        text-align: right;\n",
       "    }\n",
       "</style>\n",
       "<table border=\"1\" class=\"dataframe\">\n",
       "  <thead>\n",
       "    <tr style=\"text-align: right;\">\n",
       "      <th></th>\n",
       "      <th>cables</th>\n",
       "      <th>overhead lines</th>\n",
       "      <th>substations</th>\n",
       "      <th>switchgears</th>\n",
       "      <th>transformers</th>\n",
       "    </tr>\n",
       "  </thead>\n",
       "  <tbody>\n",
       "    <tr>\n",
       "      <th>SF6</th>\n",
       "      <td>0.000000e+00</td>\n",
       "      <td>0.000000e+00</td>\n",
       "      <td>0.000000e+00</td>\n",
       "      <td>5.099408e+08</td>\n",
       "      <td>0.000000e+00</td>\n",
       "    </tr>\n",
       "    <tr>\n",
       "      <th>aluminium</th>\n",
       "      <td>1.830497e+10</td>\n",
       "      <td>2.059093e+10</td>\n",
       "      <td>0.000000e+00</td>\n",
       "      <td>3.826334e+08</td>\n",
       "      <td>9.588930e+08</td>\n",
       "    </tr>\n",
       "    <tr>\n",
       "      <th>concrete</th>\n",
       "      <td>0.000000e+00</td>\n",
       "      <td>2.888274e+09</td>\n",
       "      <td>2.168151e+08</td>\n",
       "      <td>0.000000e+00</td>\n",
       "      <td>0.000000e+00</td>\n",
       "    </tr>\n",
       "    <tr>\n",
       "      <th>copper</th>\n",
       "      <td>3.146513e+09</td>\n",
       "      <td>1.596225e+09</td>\n",
       "      <td>0.000000e+00</td>\n",
       "      <td>5.137299e+07</td>\n",
       "      <td>5.668277e+08</td>\n",
       "    </tr>\n",
       "    <tr>\n",
       "      <th>iron &amp; steel</th>\n",
       "      <td>4.480560e+08</td>\n",
       "      <td>1.074045e+10</td>\n",
       "      <td>8.913534e+08</td>\n",
       "      <td>4.292127e+07</td>\n",
       "      <td>1.609925e+09</td>\n",
       "    </tr>\n",
       "    <tr>\n",
       "      <th>other materials</th>\n",
       "      <td>4.148054e+08</td>\n",
       "      <td>6.033488e+08</td>\n",
       "      <td>0.000000e+00</td>\n",
       "      <td>5.969894e+07</td>\n",
       "      <td>7.023182e+08</td>\n",
       "    </tr>\n",
       "    <tr>\n",
       "      <th>plastics</th>\n",
       "      <td>5.493475e+09</td>\n",
       "      <td>8.932584e+06</td>\n",
       "      <td>0.000000e+00</td>\n",
       "      <td>0.000000e+00</td>\n",
       "      <td>0.000000e+00</td>\n",
       "    </tr>\n",
       "  </tbody>\n",
       "</table>\n",
       "</div>"
      ],
      "text/plain": [
       "                       cables  overhead lines   substations   switchgears  \\\n",
       "SF6              0.000000e+00    0.000000e+00  0.000000e+00  5.099408e+08   \n",
       "aluminium        1.830497e+10    2.059093e+10  0.000000e+00  3.826334e+08   \n",
       "concrete         0.000000e+00    2.888274e+09  2.168151e+08  0.000000e+00   \n",
       "copper           3.146513e+09    1.596225e+09  0.000000e+00  5.137299e+07   \n",
       "iron & steel     4.480560e+08    1.074045e+10  8.913534e+08  4.292127e+07   \n",
       "other materials  4.148054e+08    6.033488e+08  0.000000e+00  5.969894e+07   \n",
       "plastics         5.493475e+09    8.932584e+06  0.000000e+00  0.000000e+00   \n",
       "\n",
       "                 transformers  \n",
       "SF6              0.000000e+00  \n",
       "aluminium        9.588930e+08  \n",
       "concrete         0.000000e+00  \n",
       "copper           5.668277e+08  \n",
       "iron & steel     1.609925e+09  \n",
       "other materials  7.023182e+08  \n",
       "plastics         0.000000e+00  "
      ]
     },
     "execution_count": 10,
     "metadata": {},
     "output_type": "execute_result"
    }
   ],
   "source": [
    "component_groups = {\n",
    "    \"Overhead line\": \"overhead lines\",\n",
    "    \"cable\": \"cables\",\n",
    "    \"Transformer\": \"transformers\",\n",
    "    \"switchgear\": \"switchgears\",\n",
    "    \"Substation\": \"substations\",\n",
    "}\n",
    "\n",
    "material_groups = {\n",
    "    \"aluminium\": \"aluminium\",\n",
    "    \"copper\": \"copper\",\n",
    "    \"iron\": \"iron & steel\",\n",
    "    \"steel\": \"iron & steel\",\n",
    "    \"concrete\": \"concrete\",\n",
    "    \"cement\": \"concrete\",\n",
    "    \"sulfur hexafluoride\": \"SF6\",\n",
    "    \"polyethylene\": \"plastics\",\n",
    "    \"polypropylene\": \"plastics\",\n",
    "    \"plastic\": \"plastics\",\n",
    "}\n",
    "\n",
    "df.index = df.index.map(\n",
    "    map_labels(df.index, material_groups, other_label=\"other materials\")\n",
    ")\n",
    "df.columns = df.columns.map(map_labels(df.columns, component_groups))\n",
    "\n",
    "df_components_to_materials = df.groupby(level=0).sum().T.groupby(level=0).sum().T\n",
    "df_components_to_materials"
   ]
  },
  {
   "cell_type": "markdown",
   "metadata": {},
   "source": [
    "## Materials to processes\n"
   ]
  },
  {
   "cell_type": "code",
   "execution_count": 10,
   "metadata": {},
   "outputs": [],
   "source": [
    "aggregated_material_names = [\n",
    "    \"aggregated material: aluminium\",\n",
    "    \"aggregated material: steel\",\n",
    "    \"aggregated material: concrete\",\n",
    "    \"aggregated material: copper\",\n",
    "    \"aggregated material: plastics\",\n",
    "    \"aggregated material: other\",\n",
    "]\n",
    "\n",
    "aggregated_material_nodes = [\n",
    "    bd.get_node(name=name) for name in aggregated_material_names\n",
    "]"
   ]
  },
  {
   "cell_type": "code",
   "execution_count": 11,
   "metadata": {},
   "outputs": [],
   "source": [
    "import bw2analyzer as ba"
   ]
  },
  {
   "cell_type": "code",
   "execution_count": 14,
   "metadata": {},
   "outputs": [],
   "source": [
    "lca = bc.LCA(\n",
    "    {aggregated_material_nodes[0]: 1}, method=method\n",
    ")  # just to build the matrices\n",
    "lca.lci(factorize=True)\n",
    "material_top_processes = {}\n",
    "for mat in aggregated_material_nodes:\n",
    "    lca.lcia(demand={mat.id: 1})\n",
    "    top_processes = ba.ContributionAnalysis().annotated_top_processes(lca, limit=5000)\n",
    "    score_and_product = {}\n",
    "    for process in top_processes:\n",
    "        if process[2][\"reference product\"] in score_and_product:\n",
    "            score_and_product[process[2][\"reference product\"]] += process[0]\n",
    "        else:\n",
    "            score_and_product[process[2][\"reference product\"]] = process[0]\n",
    "    material_top_processes[mat[\"name\"]] = score_and_product"
   ]
  },
  {
   "cell_type": "code",
   "execution_count": 15,
   "metadata": {},
   "outputs": [],
   "source": [
    "df_aggregated_materials = pd.DataFrame(material_top_processes)"
   ]
  },
  {
   "cell_type": "code",
   "execution_count": 16,
   "metadata": {},
   "outputs": [
    {
     "data": {
      "text/html": [
       "<div>\n",
       "<style scoped>\n",
       "    .dataframe tbody tr th:only-of-type {\n",
       "        vertical-align: middle;\n",
       "    }\n",
       "\n",
       "    .dataframe tbody tr th {\n",
       "        vertical-align: top;\n",
       "    }\n",
       "\n",
       "    .dataframe thead th {\n",
       "        text-align: right;\n",
       "    }\n",
       "</style>\n",
       "<table border=\"1\" class=\"dataframe\">\n",
       "  <thead>\n",
       "    <tr style=\"text-align: right;\">\n",
       "      <th></th>\n",
       "      <th>aluminium</th>\n",
       "      <th>concrete</th>\n",
       "      <th>copper</th>\n",
       "      <th>iron &amp; steel</th>\n",
       "      <th>other materials</th>\n",
       "      <th>plastics</th>\n",
       "    </tr>\n",
       "  </thead>\n",
       "  <tbody>\n",
       "    <tr>\n",
       "      <th>SF6</th>\n",
       "      <td>1.287374e+06</td>\n",
       "      <td>1.252483e+04</td>\n",
       "      <td>1.063052e+05</td>\n",
       "      <td>4.860647e+04</td>\n",
       "      <td>4.897169e+08</td>\n",
       "      <td>5.638800e+04</td>\n",
       "    </tr>\n",
       "    <tr>\n",
       "      <th>aluminium (process emissions)</th>\n",
       "      <td>4.294168e+09</td>\n",
       "      <td>2.389174e+06</td>\n",
       "      <td>2.435465e+07</td>\n",
       "      <td>4.956728e+06</td>\n",
       "      <td>2.351635e+06</td>\n",
       "      <td>4.676792e+06</td>\n",
       "    </tr>\n",
       "    <tr>\n",
       "      <th>clinker</th>\n",
       "      <td>7.654752e+07</td>\n",
       "      <td>1.848610e+09</td>\n",
       "      <td>5.815870e+07</td>\n",
       "      <td>2.106304e+08</td>\n",
       "      <td>2.020967e+07</td>\n",
       "      <td>2.645292e+07</td>\n",
       "    </tr>\n",
       "    <tr>\n",
       "      <th>coal</th>\n",
       "      <td>2.583802e+09</td>\n",
       "      <td>7.356678e+07</td>\n",
       "      <td>2.691945e+08</td>\n",
       "      <td>2.052791e+09</td>\n",
       "      <td>6.180054e+07</td>\n",
       "      <td>3.050509e+08</td>\n",
       "    </tr>\n",
       "    <tr>\n",
       "      <th>electricity</th>\n",
       "      <td>1.655365e+10</td>\n",
       "      <td>3.468072e+08</td>\n",
       "      <td>2.466410e+09</td>\n",
       "      <td>1.614116e+09</td>\n",
       "      <td>4.899204e+08</td>\n",
       "      <td>1.427320e+09</td>\n",
       "    </tr>\n",
       "    <tr>\n",
       "      <th>heat</th>\n",
       "      <td>5.792224e+09</td>\n",
       "      <td>9.315086e+07</td>\n",
       "      <td>6.276506e+08</td>\n",
       "      <td>4.877937e+08</td>\n",
       "      <td>3.008179e+08</td>\n",
       "      <td>3.005004e+08</td>\n",
       "    </tr>\n",
       "    <tr>\n",
       "      <th>iron &amp; steel (process emissions)</th>\n",
       "      <td>1.117839e+08</td>\n",
       "      <td>2.032110e+07</td>\n",
       "      <td>5.635602e+07</td>\n",
       "      <td>5.652009e+09</td>\n",
       "      <td>2.087370e+07</td>\n",
       "      <td>5.153818e+07</td>\n",
       "    </tr>\n",
       "    <tr>\n",
       "      <th>other processes</th>\n",
       "      <td>1.602395e+09</td>\n",
       "      <td>2.114111e+08</td>\n",
       "      <td>7.600215e+08</td>\n",
       "      <td>8.909393e+08</td>\n",
       "      <td>6.667555e+08</td>\n",
       "      <td>2.931285e+09</td>\n",
       "    </tr>\n",
       "    <tr>\n",
       "      <th>transport</th>\n",
       "      <td>1.088980e+09</td>\n",
       "      <td>4.126682e+08</td>\n",
       "      <td>4.731807e+08</td>\n",
       "      <td>9.297553e+08</td>\n",
       "      <td>1.914674e+08</td>\n",
       "      <td>3.251729e+08</td>\n",
       "    </tr>\n",
       "  </tbody>\n",
       "</table>\n",
       "</div>"
      ],
      "text/plain": [
       "                                     aluminium      concrete        copper  \\\n",
       "SF6                               1.287374e+06  1.252483e+04  1.063052e+05   \n",
       "aluminium (process emissions)     4.294168e+09  2.389174e+06  2.435465e+07   \n",
       "clinker                           7.654752e+07  1.848610e+09  5.815870e+07   \n",
       "coal                              2.583802e+09  7.356678e+07  2.691945e+08   \n",
       "electricity                       1.655365e+10  3.468072e+08  2.466410e+09   \n",
       "heat                              5.792224e+09  9.315086e+07  6.276506e+08   \n",
       "iron & steel (process emissions)  1.117839e+08  2.032110e+07  5.635602e+07   \n",
       "other processes                   1.602395e+09  2.114111e+08  7.600215e+08   \n",
       "transport                         1.088980e+09  4.126682e+08  4.731807e+08   \n",
       "\n",
       "                                  iron & steel  other materials      plastics  \n",
       "SF6                               4.860647e+04     4.897169e+08  5.638800e+04  \n",
       "aluminium (process emissions)     4.956728e+06     2.351635e+06  4.676792e+06  \n",
       "clinker                           2.106304e+08     2.020967e+07  2.645292e+07  \n",
       "coal                              2.052791e+09     6.180054e+07  3.050509e+08  \n",
       "electricity                       1.614116e+09     4.899204e+08  1.427320e+09  \n",
       "heat                              4.877937e+08     3.008179e+08  3.005004e+08  \n",
       "iron & steel (process emissions)  5.652009e+09     2.087370e+07  5.153818e+07  \n",
       "other processes                   8.909393e+08     6.667555e+08  2.931285e+09  \n",
       "transport                         9.297553e+08     1.914674e+08  3.251729e+08  "
      ]
     },
     "execution_count": 16,
     "metadata": {},
     "output_type": "execute_result"
    }
   ],
   "source": [
    "product_groups = {\n",
    "    \"electricity\": \"electricity\",\n",
    "    \"heat\": \"heat\",\n",
    "    \"transport\": \"transport\",\n",
    "    \"aluminium\": \"aluminium (process emissions)\",\n",
    "    \"iron\": \"iron & steel (process emissions)\",\n",
    "    \"steel\": \"iron & steel (process emissions)\",\n",
    "    \"coal\": \"coal\",\n",
    "    \"coke\": \"coal\",\n",
    "    \"clinker\": \"clinker\",\n",
    "    \"diesel\": \"transport\",\n",
    "    \"Gas insulated switchgear\": \"SF6\",\n",
    "    \"sulfur hexafluoride\": \"SF6\",\n",
    "}\n",
    "\n",
    "df_aggregated_materials.index = df_aggregated_materials.index.map(\n",
    "    map_labels(\n",
    "        df_aggregated_materials.index, product_groups, other_label=\"other processes\"\n",
    "    )\n",
    ")\n",
    "df_aggregated_materials.columns = df_aggregated_materials.columns.map(\n",
    "    map_labels(\n",
    "        df_aggregated_materials.columns, material_groups, other_label=\"other materials\"\n",
    "    )\n",
    ")\n",
    "\n",
    "df_materials_to_processes = (\n",
    "    df_aggregated_materials.groupby(level=0).sum().T.groupby(level=0).sum().T\n",
    ")\n",
    "df_materials_to_processes"
   ]
  },
  {
   "cell_type": "code",
   "execution_count": 17,
   "metadata": {},
   "outputs": [
    {
     "data": {
      "text/plain": [
       "32104835499.767765"
      ]
     },
     "execution_count": 17,
     "metadata": {},
     "output_type": "execute_result"
    }
   ],
   "source": [
    "df_materials_to_processes.aluminium.sum()"
   ]
  },
  {
   "cell_type": "markdown",
   "metadata": {},
   "source": [
    "## Prepare sankey diagram\n"
   ]
  },
  {
   "cell_type": "code",
   "execution_count": 18,
   "metadata": {},
   "outputs": [],
   "source": [
    "sankey_data = []  # will be filled with tuples of (source, target, value)"
   ]
  },
  {
   "cell_type": "markdown",
   "metadata": {},
   "source": [
    "Total impact:\n"
   ]
  },
  {
   "cell_type": "code",
   "execution_count": 19,
   "metadata": {},
   "outputs": [
    {
     "data": {
      "text/plain": [
       "59308212522.548836"
      ]
     },
     "execution_count": 19,
     "metadata": {},
     "output_type": "execute_result"
    }
   ],
   "source": [
    "df_components_to_materials.sum().sum()"
   ]
  },
  {
   "cell_type": "markdown",
   "metadata": {},
   "source": [
    "Grid to components:\n"
   ]
  },
  {
   "cell_type": "code",
   "execution_count": 20,
   "metadata": {},
   "outputs": [],
   "source": [
    "for component, score in df_components_to_materials.sum().items():\n",
    "    sankey_data.append((component, \"grid status quo\", score))"
   ]
  },
  {
   "cell_type": "markdown",
   "metadata": {},
   "source": [
    "Components to materials:\n"
   ]
  },
  {
   "cell_type": "code",
   "execution_count": 21,
   "metadata": {},
   "outputs": [],
   "source": [
    "for target, values in df_components_to_materials.items():\n",
    "    for source, value in values.items():\n",
    "        if value != 0:\n",
    "            sankey_data.append((source, target, value))"
   ]
  },
  {
   "cell_type": "markdown",
   "metadata": {},
   "source": [
    "Materials to processes:\n"
   ]
  },
  {
   "cell_type": "code",
   "execution_count": 22,
   "metadata": {},
   "outputs": [],
   "source": [
    "for target, values in df_materials_to_processes.items():\n",
    "    for source, value in values.items():\n",
    "        if value != 0:\n",
    "            sankey_data.append((source, target, value))"
   ]
  },
  {
   "cell_type": "markdown",
   "metadata": {},
   "source": [
    "Create a df and add direct emissions\n"
   ]
  },
  {
   "cell_type": "code",
   "execution_count": 32,
   "metadata": {},
   "outputs": [],
   "source": [
    "df_sankey = pd.DataFrame(sankey_data, columns=[\"source\", \"target\", \"value\"])"
   ]
  },
  {
   "cell_type": "code",
   "execution_count": 33,
   "metadata": {},
   "outputs": [],
   "source": [
    "df_sankey.value = df_sankey.value / 1e9"
   ]
  },
  {
   "cell_type": "code",
   "execution_count": 34,
   "metadata": {},
   "outputs": [],
   "source": [
    "df_sankey.columns = [\"source\", \"target\", \"weight\"]"
   ]
  },
  {
   "cell_type": "code",
   "execution_count": 38,
   "metadata": {},
   "outputs": [],
   "source": [
    "\n",
    "df_sankey.to_csv(\"sankey_data.csv\", index=False)"
   ]
  },
  {
   "cell_type": "code",
   "execution_count": 1,
   "metadata": {},
   "outputs": [],
   "source": [
    "import pandas as pd"
   ]
  },
  {
   "cell_type": "code",
   "execution_count": 2,
   "metadata": {},
   "outputs": [],
   "source": [
    "df_sankey = pd.read_csv(\"sankey_data.csv\")"
   ]
  },
  {
   "cell_type": "code",
   "execution_count": 4,
   "metadata": {},
   "outputs": [],
   "source": [
    "from d3blocks import D3Blocks\n",
    "d3 = D3Blocks()\n",
    "d3.sankey(df_sankey)\n",
    "d3.show()"
   ]
  },
  {
   "cell_type": "code",
   "execution_count": 5,
   "metadata": {},
   "outputs": [],
   "source": [
    "d3.show(filepath=\"sankey.html\")"
   ]
  },
  {
   "cell_type": "markdown",
   "metadata": {},
   "source": [
    "The final figure for the paper was created with javascript directly. The code is available on Observable: https://observablehq.com/d/daf3d94f3654d166"
   ]
  }
 ],
 "metadata": {
  "kernelspec": {
   "display_name": "timex",
   "language": "python",
   "name": "python3"
  },
  "language_info": {
   "codemirror_mode": {
    "name": "ipython",
    "version": 3
   },
   "file_extension": ".py",
   "mimetype": "text/x-python",
   "name": "python",
   "nbconvert_exporter": "python",
   "pygments_lexer": "ipython3",
   "version": "3.11.10"
  }
 },
 "nbformat": 4,
 "nbformat_minor": 2
}
