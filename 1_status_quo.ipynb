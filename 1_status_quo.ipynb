{
 "cells": [
  {
   "cell_type": "markdown",
   "metadata": {},
   "source": [
    "# LCA of Germany's grid status quo"
   ]
  },
  {
   "cell_type": "code",
   "execution_count": 1,
   "metadata": {},
   "outputs": [],
   "source": [
    "import bw2data as bd\n",
    "import bw2calc as bc"
   ]
  },
  {
   "cell_type": "code",
   "execution_count": 3,
   "metadata": {},
   "outputs": [],
   "source": [
    "bd.projects.set_current(\"bw25_ei310_premise2.3.0dev1_new\")"
   ]
  },
  {
   "cell_type": "markdown",
   "metadata": {},
   "source": [
    "In addition to the cumulated LCIA results, we want to investigate the contributions of certain grid components, materials and of the underlying directly emitting processes."
   ]
  },
  {
   "cell_type": "markdown",
   "metadata": {},
   "source": [
    "## Contributions of components and materials\n"
   ]
  },
  {
   "cell_type": "markdown",
   "metadata": {},
   "source": [
    "Setup:"
   ]
  },
  {
   "cell_type": "code",
   "execution_count": 4,
   "metadata": {},
   "outputs": [],
   "source": [
    "status_quo_node = bd.get_node(database=\"grid_status_quo\", name=\"grid_status_quo\")\n",
    "fu = {status_quo_node: 1}\n",
    "\n",
    "method = ('IPCC 2021', 'climate change', 'GWP 100a, incl. H and bio CO2')"
   ]
  },
  {
   "cell_type": "markdown",
   "metadata": {},
   "source": [
    "Now we calculate the LCI the standard way, but factorize the matrices because we will do additional calculations with the same matrices in the next step."
   ]
  },
  {
   "cell_type": "code",
   "execution_count": 5,
   "metadata": {},
   "outputs": [
    {
     "name": "stderr",
     "output_type": "stream",
     "text": [
      "/Users/timodiepers/anaconda3/envs/paper-plca-grid-expansion/lib/python3.11/site-packages/bw2calc/lca_base.py:127: SparseEfficiencyWarning: splu converted its input to CSC format\n",
      "  self.solver = factorized(self.technosphere_matrix)\n"
     ]
    }
   ],
   "source": [
    "lca = bc.LCA(fu, method=method)\n",
    "lca.lci(factorize=True)"
   ]
  },
  {
   "cell_type": "markdown",
   "metadata": {},
   "source": [
    "Calculating the LCIA results for the component and material levels:"
   ]
  },
  {
   "cell_type": "code",
   "execution_count": 6,
   "metadata": {},
   "outputs": [],
   "source": [
    "component_scores = {}\n",
    "for component in status_quo_node.technosphere():\n",
    "    material_scores = {}\n",
    "    for material in component.input.technosphere():\n",
    "        lca.lcia(demand={material.input.id: material.amount * component.amount})\n",
    "        material_scores[material.input[\"name\"]] = lca.score\n",
    "    component_scores[component.input[\"name\"]] = material_scores"
   ]
  },
  {
   "cell_type": "markdown",
   "metadata": {},
   "source": [
    "Saving the results in a DataFrame and cleaning up the labels:"
   ]
  },
  {
   "cell_type": "code",
   "execution_count": 7,
   "metadata": {},
   "outputs": [
    {
     "data": {
      "text/html": [
       "<div>\n",
       "<style scoped>\n",
       "    .dataframe tbody tr th:only-of-type {\n",
       "        vertical-align: middle;\n",
       "    }\n",
       "\n",
       "    .dataframe tbody tr th {\n",
       "        vertical-align: top;\n",
       "    }\n",
       "\n",
       "    .dataframe thead th {\n",
       "        text-align: right;\n",
       "    }\n",
       "</style>\n",
       "<table border=\"1\" class=\"dataframe\">\n",
       "  <thead>\n",
       "    <tr style=\"text-align: right;\">\n",
       "      <th></th>\n",
       "      <th>cables</th>\n",
       "      <th>overhead lines</th>\n",
       "      <th>substations</th>\n",
       "      <th>switchgears</th>\n",
       "      <th>transformers</th>\n",
       "    </tr>\n",
       "  </thead>\n",
       "  <tbody>\n",
       "    <tr>\n",
       "      <th>SF6</th>\n",
       "      <td>0.000000e+00</td>\n",
       "      <td>0.000000e+00</td>\n",
       "      <td>0.000000e+00</td>\n",
       "      <td>5.104339e+08</td>\n",
       "      <td>0.000000e+00</td>\n",
       "    </tr>\n",
       "    <tr>\n",
       "      <th>aluminum</th>\n",
       "      <td>1.611810e+10</td>\n",
       "      <td>1.813097e+10</td>\n",
       "      <td>0.000000e+00</td>\n",
       "      <td>3.430312e+08</td>\n",
       "      <td>8.409121e+08</td>\n",
       "    </tr>\n",
       "    <tr>\n",
       "      <th>concrete</th>\n",
       "      <td>0.000000e+00</td>\n",
       "      <td>2.644550e+09</td>\n",
       "      <td>1.984782e+08</td>\n",
       "      <td>0.000000e+00</td>\n",
       "      <td>0.000000e+00</td>\n",
       "    </tr>\n",
       "    <tr>\n",
       "      <th>copper</th>\n",
       "      <td>2.688939e+09</td>\n",
       "      <td>1.372149e+09</td>\n",
       "      <td>0.000000e+00</td>\n",
       "      <td>4.416130e+07</td>\n",
       "      <td>4.872204e+08</td>\n",
       "    </tr>\n",
       "    <tr>\n",
       "      <th>iron &amp; steel</th>\n",
       "      <td>4.986620e+08</td>\n",
       "      <td>1.196198e+10</td>\n",
       "      <td>9.920280e+08</td>\n",
       "      <td>4.293074e+07</td>\n",
       "      <td>1.790981e+09</td>\n",
       "    </tr>\n",
       "    <tr>\n",
       "      <th>other materials</th>\n",
       "      <td>3.887110e+08</td>\n",
       "      <td>5.803416e+08</td>\n",
       "      <td>0.000000e+00</td>\n",
       "      <td>3.630961e+07</td>\n",
       "      <td>5.564668e+08</td>\n",
       "    </tr>\n",
       "    <tr>\n",
       "      <th>plastics</th>\n",
       "      <td>4.524003e+09</td>\n",
       "      <td>7.422802e+06</td>\n",
       "      <td>0.000000e+00</td>\n",
       "      <td>0.000000e+00</td>\n",
       "      <td>0.000000e+00</td>\n",
       "    </tr>\n",
       "  </tbody>\n",
       "</table>\n",
       "</div>"
      ],
      "text/plain": [
       "                       cables  overhead lines   substations   switchgears  \\\n",
       "SF6              0.000000e+00    0.000000e+00  0.000000e+00  5.104339e+08   \n",
       "aluminum         1.611810e+10    1.813097e+10  0.000000e+00  3.430312e+08   \n",
       "concrete         0.000000e+00    2.644550e+09  1.984782e+08  0.000000e+00   \n",
       "copper           2.688939e+09    1.372149e+09  0.000000e+00  4.416130e+07   \n",
       "iron & steel     4.986620e+08    1.196198e+10  9.920280e+08  4.293074e+07   \n",
       "other materials  3.887110e+08    5.803416e+08  0.000000e+00  3.630961e+07   \n",
       "plastics         4.524003e+09    7.422802e+06  0.000000e+00  0.000000e+00   \n",
       "\n",
       "                 transformers  \n",
       "SF6              0.000000e+00  \n",
       "aluminum         8.409121e+08  \n",
       "concrete         0.000000e+00  \n",
       "copper           4.872204e+08  \n",
       "iron & steel     1.790981e+09  \n",
       "other materials  5.564668e+08  \n",
       "plastics         0.000000e+00  "
      ]
     },
     "execution_count": 7,
     "metadata": {},
     "output_type": "execute_result"
    }
   ],
   "source": [
    "import pandas as pd\n",
    "\n",
    "def map_labels(labels, groups, other_label=\"other\"):\n",
    "    new_labels = {}\n",
    "    for label in labels:\n",
    "        for key, group in groups.items():\n",
    "            if key in label:\n",
    "                new_labels[label] = group\n",
    "                break\n",
    "        else:\n",
    "            new_labels[label] = other_label\n",
    "    return new_labels\n",
    "\n",
    "component_groups = {\n",
    "    \"Overhead line\": \"overhead lines\",\n",
    "    \"cable\": \"cables\",\n",
    "    \"Transformer\": \"transformers\",\n",
    "    \"switchgear\": \"switchgears\",\n",
    "    \"Substation\": \"substations\",\n",
    "}\n",
    "\n",
    "material_groups = {\n",
    "    \"aluminium\": \"aluminum\",\n",
    "    \"copper\": \"copper\",\n",
    "    \"iron\": \"iron & steel\",\n",
    "    \"steel\": \"iron & steel\",\n",
    "    \"concrete\": \"concrete\",\n",
    "    \"cement\": \"concrete\",\n",
    "    \"sulfur hexafluoride\": \"SF6\",\n",
    "    \"polyethylene\": \"plastics\",\n",
    "    \"polypropylene\": \"plastics\",\n",
    "    \"plastic\": \"plastics\",\n",
    "}\n",
    "\n",
    "df = pd.DataFrame(component_scores)\n",
    "\n",
    "df.index = df.index.map(\n",
    "    map_labels(df.index, material_groups, other_label=\"other materials\")\n",
    ")\n",
    "df.columns = df.columns.map(map_labels(df.columns, component_groups))\n",
    "\n",
    "df_components_to_materials = df.groupby(level=0).sum().T.groupby(level=0).sum().T\n",
    "df_components_to_materials\n"
   ]
  },
  {
   "cell_type": "markdown",
   "metadata": {},
   "source": [
    "## Process contributions\n",
    "\n",
    "To get the information which processes are the direct emitters, but keep the connection to the responsible materials, we use the initially created \"aggregated material\" activities that essentially sum up the demands for a certain material across all grid components.\n"
   ]
  },
  {
   "cell_type": "markdown",
   "metadata": {},
   "source": [
    "First, we collect the aggregated materials nodes:"
   ]
  },
  {
   "cell_type": "code",
   "execution_count": 8,
   "metadata": {},
   "outputs": [],
   "source": [
    "aggregated_material_names = [\n",
    "    \"aggregated material: aluminium\",\n",
    "    \"aggregated material: steel\",\n",
    "    \"aggregated material: concrete\",\n",
    "    \"aggregated material: copper\",\n",
    "    \"aggregated material: plastics\",\n",
    "    \"aggregated material: other\",\n",
    "]\n",
    "\n",
    "aggregated_material_nodes = [\n",
    "    bd.get_node(name=name) for name in aggregated_material_names\n",
    "]"
   ]
  },
  {
   "cell_type": "markdown",
   "metadata": {},
   "source": [
    "Now, we do the individual LCAs, and aggregate the results by the reference product of the underlying directly emitting processes:"
   ]
  },
  {
   "cell_type": "code",
   "execution_count": 9,
   "metadata": {},
   "outputs": [
    {
     "name": "stderr",
     "output_type": "stream",
     "text": [
      "/Users/timodiepers/anaconda3/envs/paper-plca-grid-expansion/lib/python3.11/site-packages/bw2calc/lca_base.py:127: SparseEfficiencyWarning: splu converted its input to CSC format\n",
      "  self.solver = factorized(self.technosphere_matrix)\n"
     ]
    }
   ],
   "source": [
    "import bw2analyzer as ba\n",
    "\n",
    "lca = bc.LCA(\n",
    "    {aggregated_material_nodes[0]: 1}, method=method\n",
    ")  # just to build the matrices\n",
    "lca.lci(factorize=True)\n",
    "material_top_processes = {}\n",
    "for mat in aggregated_material_nodes:\n",
    "    lca.lcia(demand={mat.id: 1})\n",
    "    top_processes = ba.ContributionAnalysis().annotated_top_processes(lca, limit=5000)\n",
    "    score_and_product = {}\n",
    "    for process in top_processes:\n",
    "        if process[2][\"reference product\"] in score_and_product:\n",
    "            score_and_product[process[2][\"reference product\"]] += process[0]\n",
    "        else:\n",
    "            score_and_product[process[2][\"reference product\"]] = process[0]\n",
    "    material_top_processes[mat[\"name\"]] = score_and_product"
   ]
  },
  {
   "cell_type": "markdown",
   "metadata": {},
   "source": [
    "We save the results in a DataFrame again and clean up the names:"
   ]
  },
  {
   "cell_type": "code",
   "execution_count": 10,
   "metadata": {},
   "outputs": [
    {
     "data": {
      "text/html": [
       "<div>\n",
       "<style scoped>\n",
       "    .dataframe tbody tr th:only-of-type {\n",
       "        vertical-align: middle;\n",
       "    }\n",
       "\n",
       "    .dataframe tbody tr th {\n",
       "        vertical-align: top;\n",
       "    }\n",
       "\n",
       "    .dataframe thead th {\n",
       "        text-align: right;\n",
       "    }\n",
       "</style>\n",
       "<table border=\"1\" class=\"dataframe\">\n",
       "  <thead>\n",
       "    <tr style=\"text-align: right;\">\n",
       "      <th></th>\n",
       "      <th>aluminum</th>\n",
       "      <th>concrete</th>\n",
       "      <th>copper</th>\n",
       "      <th>iron &amp; steel</th>\n",
       "      <th>other materials</th>\n",
       "      <th>plastics</th>\n",
       "    </tr>\n",
       "  </thead>\n",
       "  <tbody>\n",
       "    <tr>\n",
       "      <th>SF6</th>\n",
       "      <td>1.422645e+06</td>\n",
       "      <td>1.267405e+04</td>\n",
       "      <td>2.223569e+05</td>\n",
       "      <td>6.140949e+04</td>\n",
       "      <td>4.897193e+08</td>\n",
       "      <td>5.577546e+04</td>\n",
       "    </tr>\n",
       "    <tr>\n",
       "      <th>aluminum (process emissions)</th>\n",
       "      <td>5.105790e+09</td>\n",
       "      <td>5.366027e+06</td>\n",
       "      <td>2.579304e+07</td>\n",
       "      <td>6.671856e+06</td>\n",
       "      <td>3.932040e+06</td>\n",
       "      <td>7.377375e+06</td>\n",
       "    </tr>\n",
       "    <tr>\n",
       "      <th>clinker</th>\n",
       "      <td>7.863092e+07</td>\n",
       "      <td>1.896096e+09</td>\n",
       "      <td>1.536054e+08</td>\n",
       "      <td>2.286787e+08</td>\n",
       "      <td>2.659729e+07</td>\n",
       "      <td>2.783885e+07</td>\n",
       "    </tr>\n",
       "    <tr>\n",
       "      <th>coal</th>\n",
       "      <td>2.957688e+09</td>\n",
       "      <td>9.100639e+07</td>\n",
       "      <td>2.029298e+08</td>\n",
       "      <td>2.571239e+09</td>\n",
       "      <td>5.929527e+07</td>\n",
       "      <td>2.111420e+08</td>\n",
       "    </tr>\n",
       "    <tr>\n",
       "      <th>electricity</th>\n",
       "      <td>1.736756e+10</td>\n",
       "      <td>2.965919e+08</td>\n",
       "      <td>2.173636e+09</td>\n",
       "      <td>1.755735e+09</td>\n",
       "      <td>5.310811e+08</td>\n",
       "      <td>1.193198e+09</td>\n",
       "    </tr>\n",
       "    <tr>\n",
       "      <th>heat</th>\n",
       "      <td>5.998438e+09</td>\n",
       "      <td>5.897245e+07</td>\n",
       "      <td>4.441826e+08</td>\n",
       "      <td>4.083278e+08</td>\n",
       "      <td>2.662038e+08</td>\n",
       "      <td>1.620390e+08</td>\n",
       "    </tr>\n",
       "    <tr>\n",
       "      <th>iron &amp; steel (process emissions)</th>\n",
       "      <td>2.154794e+08</td>\n",
       "      <td>2.593795e+07</td>\n",
       "      <td>8.500712e+07</td>\n",
       "      <td>7.932731e+09</td>\n",
       "      <td>3.179397e+07</td>\n",
       "      <td>6.869344e+07</td>\n",
       "    </tr>\n",
       "    <tr>\n",
       "      <th>other processes</th>\n",
       "      <td>9.178210e+08</td>\n",
       "      <td>1.314109e+08</td>\n",
       "      <td>8.249137e+08</td>\n",
       "      <td>8.361464e+08</td>\n",
       "      <td>4.121090e+08</td>\n",
       "      <td>2.605713e+09</td>\n",
       "    </tr>\n",
       "    <tr>\n",
       "      <th>transport</th>\n",
       "      <td>2.790183e+09</td>\n",
       "      <td>3.317716e+08</td>\n",
       "      <td>6.821791e+08</td>\n",
       "      <td>1.546995e+09</td>\n",
       "      <td>2.573933e+08</td>\n",
       "      <td>2.553692e+08</td>\n",
       "    </tr>\n",
       "  </tbody>\n",
       "</table>\n",
       "</div>"
      ],
      "text/plain": [
       "                                      aluminum      concrete        copper  \\\n",
       "SF6                               1.422645e+06  1.267405e+04  2.223569e+05   \n",
       "aluminum (process emissions)      5.105790e+09  5.366027e+06  2.579304e+07   \n",
       "clinker                           7.863092e+07  1.896096e+09  1.536054e+08   \n",
       "coal                              2.957688e+09  9.100639e+07  2.029298e+08   \n",
       "electricity                       1.736756e+10  2.965919e+08  2.173636e+09   \n",
       "heat                              5.998438e+09  5.897245e+07  4.441826e+08   \n",
       "iron & steel (process emissions)  2.154794e+08  2.593795e+07  8.500712e+07   \n",
       "other processes                   9.178210e+08  1.314109e+08  8.249137e+08   \n",
       "transport                         2.790183e+09  3.317716e+08  6.821791e+08   \n",
       "\n",
       "                                  iron & steel  other materials      plastics  \n",
       "SF6                               6.140949e+04     4.897193e+08  5.577546e+04  \n",
       "aluminum (process emissions)      6.671856e+06     3.932040e+06  7.377375e+06  \n",
       "clinker                           2.286787e+08     2.659729e+07  2.783885e+07  \n",
       "coal                              2.571239e+09     5.929527e+07  2.111420e+08  \n",
       "electricity                       1.755735e+09     5.310811e+08  1.193198e+09  \n",
       "heat                              4.083278e+08     2.662038e+08  1.620390e+08  \n",
       "iron & steel (process emissions)  7.932731e+09     3.179397e+07  6.869344e+07  \n",
       "other processes                   8.361464e+08     4.121090e+08  2.605713e+09  \n",
       "transport                         1.546995e+09     2.573933e+08  2.553692e+08  "
      ]
     },
     "execution_count": 10,
     "metadata": {},
     "output_type": "execute_result"
    }
   ],
   "source": [
    "product_groups = {\n",
    "    \"electricity\": \"electricity\",\n",
    "    \"heat\": \"heat\",\n",
    "    \"transport\": \"transport\",\n",
    "    \"aluminium\": \"aluminum (process emissions)\",\n",
    "    \"iron\": \"iron & steel (process emissions)\",\n",
    "    \"steel\": \"iron & steel (process emissions)\",\n",
    "    \"coal\": \"coal\",\n",
    "    \"coke\": \"coal\",\n",
    "    \"clinker\": \"clinker\",\n",
    "    \"diesel\": \"transport\",\n",
    "    \"Gas insulated switchgear\": \"SF6\",\n",
    "    \"sulfur hexafluoride\": \"SF6\",\n",
    "}\n",
    "\n",
    "df_aggregated_materials = pd.DataFrame(material_top_processes)\n",
    "\n",
    "df_aggregated_materials.index = df_aggregated_materials.index.map(\n",
    "    map_labels(\n",
    "        df_aggregated_materials.index, product_groups, other_label=\"other processes\"\n",
    "    )\n",
    ")\n",
    "df_aggregated_materials.columns = df_aggregated_materials.columns.map(\n",
    "    map_labels(\n",
    "        df_aggregated_materials.columns, material_groups, other_label=\"other materials\"\n",
    "    )\n",
    ")\n",
    "\n",
    "df_materials_to_processes = (\n",
    "    df_aggregated_materials.groupby(level=0).sum().T.groupby(level=0).sum().T\n",
    ")\n",
    "df_materials_to_processes"
   ]
  },
  {
   "cell_type": "markdown",
   "metadata": {},
   "source": [
    "## Prepare sankey diagram\n",
    "\n",
    "Now we have all the information we need, we just need to get the data in the right format to feed our Sankey Diagram.\n"
   ]
  },
  {
   "cell_type": "code",
   "execution_count": 11,
   "metadata": {},
   "outputs": [],
   "source": [
    "sankey_data = []  # will be filled with tuples of (source, target, value)"
   ]
  },
  {
   "cell_type": "markdown",
   "metadata": {},
   "source": [
    "Grid to components:\n"
   ]
  },
  {
   "cell_type": "code",
   "execution_count": 12,
   "metadata": {},
   "outputs": [],
   "source": [
    "for component, score in df_components_to_materials.sum().items():\n",
    "    sankey_data.append((component, \"grid status quo\", score))"
   ]
  },
  {
   "cell_type": "markdown",
   "metadata": {},
   "source": [
    "Components to materials:\n"
   ]
  },
  {
   "cell_type": "code",
   "execution_count": 13,
   "metadata": {},
   "outputs": [],
   "source": [
    "for target, values in df_components_to_materials.items():\n",
    "    for source, value in values.items():\n",
    "        if value != 0:\n",
    "            sankey_data.append((source, target, value))"
   ]
  },
  {
   "cell_type": "markdown",
   "metadata": {},
   "source": [
    "Materials to processes:\n"
   ]
  },
  {
   "cell_type": "code",
   "execution_count": 14,
   "metadata": {},
   "outputs": [],
   "source": [
    "for target, values in df_materials_to_processes.items():\n",
    "    for source, value in values.items():\n",
    "        if value != 0:\n",
    "            sankey_data.append((source, target, value))"
   ]
  },
  {
   "cell_type": "markdown",
   "metadata": {},
   "source": [
    "Create a DataFrame and save as .csv:"
   ]
  },
  {
   "cell_type": "code",
   "execution_count": 15,
   "metadata": {},
   "outputs": [],
   "source": [
    "df_sankey = pd.DataFrame(sankey_data, columns=[\"source\", \"target\", \"value\"])\n",
    "df_sankey.value = df_sankey.value / 1e9\n",
    "df_sankey.columns = [\"source\", \"target\", \"value\"]\n",
    "df_sankey.to_csv(\"data/sankey_data.csv\", index=False)"
   ]
  },
  {
   "cell_type": "code",
   "execution_count": 16,
   "metadata": {},
   "outputs": [
    {
     "data": {
      "text/html": [
       "<div>\n",
       "<style scoped>\n",
       "    .dataframe tbody tr th:only-of-type {\n",
       "        vertical-align: middle;\n",
       "    }\n",
       "\n",
       "    .dataframe tbody tr th {\n",
       "        vertical-align: top;\n",
       "    }\n",
       "\n",
       "    .dataframe thead th {\n",
       "        text-align: right;\n",
       "    }\n",
       "</style>\n",
       "<table border=\"1\" class=\"dataframe\">\n",
       "  <thead>\n",
       "    <tr style=\"text-align: right;\">\n",
       "      <th></th>\n",
       "      <th>source</th>\n",
       "      <th>target</th>\n",
       "      <th>value</th>\n",
       "    </tr>\n",
       "  </thead>\n",
       "  <tbody>\n",
       "    <tr>\n",
       "      <th>0</th>\n",
       "      <td>cables</td>\n",
       "      <td>grid status quo</td>\n",
       "      <td>24.218414</td>\n",
       "    </tr>\n",
       "    <tr>\n",
       "      <th>1</th>\n",
       "      <td>overhead lines</td>\n",
       "      <td>grid status quo</td>\n",
       "      <td>34.697415</td>\n",
       "    </tr>\n",
       "    <tr>\n",
       "      <th>2</th>\n",
       "      <td>substations</td>\n",
       "      <td>grid status quo</td>\n",
       "      <td>1.190506</td>\n",
       "    </tr>\n",
       "    <tr>\n",
       "      <th>3</th>\n",
       "      <td>switchgears</td>\n",
       "      <td>grid status quo</td>\n",
       "      <td>0.976867</td>\n",
       "    </tr>\n",
       "    <tr>\n",
       "      <th>4</th>\n",
       "      <td>transformers</td>\n",
       "      <td>grid status quo</td>\n",
       "      <td>3.675580</td>\n",
       "    </tr>\n",
       "    <tr>\n",
       "      <th>...</th>\n",
       "      <td>...</td>\n",
       "      <td>...</td>\n",
       "      <td>...</td>\n",
       "    </tr>\n",
       "    <tr>\n",
       "      <th>76</th>\n",
       "      <td>electricity</td>\n",
       "      <td>plastics</td>\n",
       "      <td>1.193198</td>\n",
       "    </tr>\n",
       "    <tr>\n",
       "      <th>77</th>\n",
       "      <td>heat</td>\n",
       "      <td>plastics</td>\n",
       "      <td>0.162039</td>\n",
       "    </tr>\n",
       "    <tr>\n",
       "      <th>78</th>\n",
       "      <td>iron &amp; steel (process emissions)</td>\n",
       "      <td>plastics</td>\n",
       "      <td>0.068693</td>\n",
       "    </tr>\n",
       "    <tr>\n",
       "      <th>79</th>\n",
       "      <td>other processes</td>\n",
       "      <td>plastics</td>\n",
       "      <td>2.605713</td>\n",
       "    </tr>\n",
       "    <tr>\n",
       "      <th>80</th>\n",
       "      <td>transport</td>\n",
       "      <td>plastics</td>\n",
       "      <td>0.255369</td>\n",
       "    </tr>\n",
       "  </tbody>\n",
       "</table>\n",
       "<p>81 rows × 3 columns</p>\n",
       "</div>"
      ],
      "text/plain": [
       "                              source           target      value\n",
       "0                             cables  grid status quo  24.218414\n",
       "1                     overhead lines  grid status quo  34.697415\n",
       "2                        substations  grid status quo   1.190506\n",
       "3                        switchgears  grid status quo   0.976867\n",
       "4                       transformers  grid status quo   3.675580\n",
       "..                               ...              ...        ...\n",
       "76                       electricity         plastics   1.193198\n",
       "77                              heat         plastics   0.162039\n",
       "78  iron & steel (process emissions)         plastics   0.068693\n",
       "79                   other processes         plastics   2.605713\n",
       "80                         transport         plastics   0.255369\n",
       "\n",
       "[81 rows x 3 columns]"
      ]
     },
     "execution_count": 16,
     "metadata": {},
     "output_type": "execute_result"
    }
   ],
   "source": [
    "df_sankey"
   ]
  },
  {
   "cell_type": "markdown",
   "metadata": {},
   "source": [
    "The final figure for the paper was created using the Javascript library D3Blocks. The code is available on Observable: https://observablehq.com/@timo-diepers-ws/sankey-grid-status-quo-de. "
   ]
  }
 ],
 "metadata": {
  "kernelspec": {
   "display_name": "paper-plca-grid-expansion",
   "language": "python",
   "name": "python3"
  },
  "language_info": {
   "codemirror_mode": {
    "name": "ipython",
    "version": 3
   },
   "file_extension": ".py",
   "mimetype": "text/x-python",
   "name": "python",
   "nbconvert_exporter": "python",
   "pygments_lexer": "ipython3",
   "version": "3.11.11"
  }
 },
 "nbformat": 4,
 "nbformat_minor": 2
}
