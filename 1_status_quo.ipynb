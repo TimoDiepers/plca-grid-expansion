{
 "cells": [
  {
   "cell_type": "markdown",
   "metadata": {},
   "source": [
    "# LCA of Germany's grid status quo"
   ]
  },
  {
   "cell_type": "code",
   "execution_count": 35,
   "metadata": {},
   "outputs": [],
   "source": [
    "import bw2data as bd\n",
    "import bw2calc as bc"
   ]
  },
  {
   "cell_type": "code",
   "execution_count": 36,
   "metadata": {},
   "outputs": [],
   "source": [
    "bd.projects.set_current(\"bw25_plca_grid_expansion\")"
   ]
  },
  {
   "cell_type": "markdown",
   "metadata": {},
   "source": [
    "In addition to the cumulated LCIA results, we want to investigate the contributions of certain grid components, materials and of the underlying directly emitting processes."
   ]
  },
  {
   "cell_type": "markdown",
   "metadata": {},
   "source": [
    "## Contributions of components and materials\n"
   ]
  },
  {
   "cell_type": "markdown",
   "metadata": {},
   "source": [
    "Setup:"
   ]
  },
  {
   "cell_type": "code",
   "execution_count": 37,
   "metadata": {},
   "outputs": [],
   "source": [
    "status_quo_node = bd.get_node(database=\"grid_status_quo\", name=\"grid_status_quo\")\n",
    "fu = {status_quo_node: 1}\n",
    "\n",
    "method = (\n",
    "    \"EF v3.1 no LT\",\n",
    "    \"climate change no LT\",\n",
    "    \"global warming potential (GWP100) no LT\",\n",
    ")"
   ]
  },
  {
   "cell_type": "markdown",
   "metadata": {},
   "source": [
    "Now we calculate the LCI the standard way, but factorize the matrices because we will do additional calculations with the same matrices in the next step."
   ]
  },
  {
   "cell_type": "code",
   "execution_count": 38,
   "metadata": {},
   "outputs": [
    {
     "name": "stderr",
     "output_type": "stream",
     "text": [
      "[d3blocks] >INFO> Initialized LCA object. Demand: {761423: 1}, data_objs: [<bw_processing.datapackage.Datapackage object at 0x1676b0050>, <bw_processing.datapackage.Datapackage object at 0x167337510>, <bw_processing.datapackage.Datapackage object at 0x166e90210>, <bw_processing.datapackage.Datapackage object at 0x166eabf90>]\n",
      "/Users/timodiepers/anaconda3/envs/plca-grid-expansion/lib/python3.11/site-packages/bw2calc/lca_base.py:127: SparseEfficiencyWarning: splu converted its input to CSC format\n",
      "  self.solver = factorized(self.technosphere_matrix)\n",
      "/Users/timodiepers/anaconda3/envs/plca-grid-expansion/lib/python3.11/site-packages/scikits/umfpack/umfpack.py:736: UmfpackWarning: (almost) singular matrix! (estimated cond. number: 1.51e+12)\n",
      "  warnings.warn(msg, UmfpackWarning)\n"
     ]
    }
   ],
   "source": [
    "lca = bc.LCA(fu, method=method)\n",
    "lca.lci(factorize=True)"
   ]
  },
  {
   "cell_type": "markdown",
   "metadata": {},
   "source": [
    "Calculating the LCIA results for the component and material levels:"
   ]
  },
  {
   "cell_type": "code",
   "execution_count": 39,
   "metadata": {},
   "outputs": [],
   "source": [
    "component_scores = {}\n",
    "for component in status_quo_node.technosphere():\n",
    "    material_scores = {}\n",
    "    for material in component.input.technosphere():\n",
    "        lca.lcia(demand={material.input.id: material.amount * component.amount})\n",
    "        material_scores[material.input[\"name\"]] = lca.score\n",
    "    component_scores[component.input[\"name\"]] = material_scores"
   ]
  },
  {
   "cell_type": "markdown",
   "metadata": {},
   "source": [
    "Saving the results in a DataFrame and cleaning up the labels:"
   ]
  },
  {
   "cell_type": "code",
   "execution_count": 40,
   "metadata": {},
   "outputs": [
    {
     "data": {
      "text/html": [
       "<div>\n",
       "<style scoped>\n",
       "    .dataframe tbody tr th:only-of-type {\n",
       "        vertical-align: middle;\n",
       "    }\n",
       "\n",
       "    .dataframe tbody tr th {\n",
       "        vertical-align: top;\n",
       "    }\n",
       "\n",
       "    .dataframe thead th {\n",
       "        text-align: right;\n",
       "    }\n",
       "</style>\n",
       "<table border=\"1\" class=\"dataframe\">\n",
       "  <thead>\n",
       "    <tr style=\"text-align: right;\">\n",
       "      <th></th>\n",
       "      <th>cables</th>\n",
       "      <th>overhead lines</th>\n",
       "      <th>substations</th>\n",
       "      <th>switchgears</th>\n",
       "      <th>transformers</th>\n",
       "    </tr>\n",
       "  </thead>\n",
       "  <tbody>\n",
       "    <tr>\n",
       "      <th>SF6</th>\n",
       "      <td>0.000000e+00</td>\n",
       "      <td>0.000000e+00</td>\n",
       "      <td>0.000000e+00</td>\n",
       "      <td>5.096687e+08</td>\n",
       "      <td>0.000000e+00</td>\n",
       "    </tr>\n",
       "    <tr>\n",
       "      <th>aluminium</th>\n",
       "      <td>1.549715e+10</td>\n",
       "      <td>1.743247e+10</td>\n",
       "      <td>0.000000e+00</td>\n",
       "      <td>3.299823e+08</td>\n",
       "      <td>8.166427e+08</td>\n",
       "    </tr>\n",
       "    <tr>\n",
       "      <th>concrete</th>\n",
       "      <td>0.000000e+00</td>\n",
       "      <td>2.912747e+09</td>\n",
       "      <td>2.186913e+08</td>\n",
       "      <td>0.000000e+00</td>\n",
       "      <td>0.000000e+00</td>\n",
       "    </tr>\n",
       "    <tr>\n",
       "      <th>copper</th>\n",
       "      <td>2.977899e+09</td>\n",
       "      <td>1.508538e+09</td>\n",
       "      <td>0.000000e+00</td>\n",
       "      <td>4.855086e+07</td>\n",
       "      <td>5.357167e+08</td>\n",
       "    </tr>\n",
       "    <tr>\n",
       "      <th>iron &amp; steel</th>\n",
       "      <td>4.388190e+08</td>\n",
       "      <td>1.056114e+10</td>\n",
       "      <td>8.729776e+08</td>\n",
       "      <td>4.208439e+07</td>\n",
       "      <td>1.613075e+09</td>\n",
       "    </tr>\n",
       "    <tr>\n",
       "      <th>other materials</th>\n",
       "      <td>4.121797e+08</td>\n",
       "      <td>6.242151e+08</td>\n",
       "      <td>0.000000e+00</td>\n",
       "      <td>5.919181e+07</td>\n",
       "      <td>7.040002e+08</td>\n",
       "    </tr>\n",
       "    <tr>\n",
       "      <th>plastics</th>\n",
       "      <td>5.556772e+09</td>\n",
       "      <td>9.009195e+06</td>\n",
       "      <td>0.000000e+00</td>\n",
       "      <td>0.000000e+00</td>\n",
       "      <td>0.000000e+00</td>\n",
       "    </tr>\n",
       "  </tbody>\n",
       "</table>\n",
       "</div>"
      ],
      "text/plain": [
       "                       cables  overhead lines   substations   switchgears  \\\n",
       "SF6              0.000000e+00    0.000000e+00  0.000000e+00  5.096687e+08   \n",
       "aluminium        1.549715e+10    1.743247e+10  0.000000e+00  3.299823e+08   \n",
       "concrete         0.000000e+00    2.912747e+09  2.186913e+08  0.000000e+00   \n",
       "copper           2.977899e+09    1.508538e+09  0.000000e+00  4.855086e+07   \n",
       "iron & steel     4.388190e+08    1.056114e+10  8.729776e+08  4.208439e+07   \n",
       "other materials  4.121797e+08    6.242151e+08  0.000000e+00  5.919181e+07   \n",
       "plastics         5.556772e+09    9.009195e+06  0.000000e+00  0.000000e+00   \n",
       "\n",
       "                 transformers  \n",
       "SF6              0.000000e+00  \n",
       "aluminium        8.166427e+08  \n",
       "concrete         0.000000e+00  \n",
       "copper           5.357167e+08  \n",
       "iron & steel     1.613075e+09  \n",
       "other materials  7.040002e+08  \n",
       "plastics         0.000000e+00  "
      ]
     },
     "execution_count": 40,
     "metadata": {},
     "output_type": "execute_result"
    }
   ],
   "source": [
    "import pandas as pd\n",
    "\n",
    "def map_labels(labels, groups, other_label=\"other\"):\n",
    "    new_labels = {}\n",
    "    for label in labels:\n",
    "        for key, group in groups.items():\n",
    "            if key in label:\n",
    "                new_labels[label] = group\n",
    "                break\n",
    "        else:\n",
    "            new_labels[label] = other_label\n",
    "    return new_labels\n",
    "\n",
    "component_groups = {\n",
    "    \"Overhead line\": \"overhead lines\",\n",
    "    \"cable\": \"cables\",\n",
    "    \"Transformer\": \"transformers\",\n",
    "    \"switchgear\": \"switchgears\",\n",
    "    \"Substation\": \"substations\",\n",
    "}\n",
    "\n",
    "material_groups = {\n",
    "    \"aluminium\": \"aluminium\",\n",
    "    \"copper\": \"copper\",\n",
    "    \"iron\": \"iron & steel\",\n",
    "    \"steel\": \"iron & steel\",\n",
    "    \"concrete\": \"concrete\",\n",
    "    \"cement\": \"concrete\",\n",
    "    \"sulfur hexafluoride\": \"SF6\",\n",
    "    \"polyethylene\": \"plastics\",\n",
    "    \"polypropylene\": \"plastics\",\n",
    "    \"plastic\": \"plastics\",\n",
    "}\n",
    "\n",
    "df = pd.DataFrame(component_scores)\n",
    "\n",
    "df.index = df.index.map(\n",
    "    map_labels(df.index, material_groups, other_label=\"other materials\")\n",
    ")\n",
    "df.columns = df.columns.map(map_labels(df.columns, component_groups))\n",
    "\n",
    "df_components_to_materials = df.groupby(level=0).sum().T.groupby(level=0).sum().T\n",
    "df_components_to_materials\n"
   ]
  },
  {
   "cell_type": "markdown",
   "metadata": {},
   "source": [
    "## Process contributions\n",
    "\n",
    "To get the information which processes are the direct emitters, but keep the connection to the responsible materials, we use the initially created \"aggregated material\" activities that essentially sum up the demands for a certain material across all grid components.\n"
   ]
  },
  {
   "cell_type": "markdown",
   "metadata": {},
   "source": [
    "First, we collect the aggregated materials nodes:"
   ]
  },
  {
   "cell_type": "code",
   "execution_count": 41,
   "metadata": {},
   "outputs": [],
   "source": [
    "aggregated_material_names = [\n",
    "    \"aggregated material: aluminium\",\n",
    "    \"aggregated material: steel\",\n",
    "    \"aggregated material: concrete\",\n",
    "    \"aggregated material: copper\",\n",
    "    \"aggregated material: plastics\",\n",
    "    \"aggregated material: other\",\n",
    "]\n",
    "\n",
    "aggregated_material_nodes = [\n",
    "    bd.get_node(name=name) for name in aggregated_material_names\n",
    "]"
   ]
  },
  {
   "cell_type": "markdown",
   "metadata": {},
   "source": [
    "Now, we do the individual LCAs, and aggregate the results by the reference product of the underlying directly emitting processes:"
   ]
  },
  {
   "cell_type": "code",
   "execution_count": 42,
   "metadata": {},
   "outputs": [
    {
     "name": "stderr",
     "output_type": "stream",
     "text": [
      "[d3blocks] >INFO> Initialized LCA object. Demand: {761424: 1}, data_objs: [<bw_processing.datapackage.Datapackage object at 0x31f538ed0>, <bw_processing.datapackage.Datapackage object at 0x31f530490>, <bw_processing.datapackage.Datapackage object at 0x177fc24d0>, <bw_processing.datapackage.Datapackage object at 0x322802d50>]\n",
      "/Users/timodiepers/anaconda3/envs/plca-grid-expansion/lib/python3.11/site-packages/bw2calc/lca_base.py:127: SparseEfficiencyWarning: splu converted its input to CSC format\n",
      "  self.solver = factorized(self.technosphere_matrix)\n",
      "/Users/timodiepers/anaconda3/envs/plca-grid-expansion/lib/python3.11/site-packages/scikits/umfpack/umfpack.py:736: UmfpackWarning: (almost) singular matrix! (estimated cond. number: 1.51e+12)\n",
      "  warnings.warn(msg, UmfpackWarning)\n"
     ]
    }
   ],
   "source": [
    "import bw2analyzer as ba\n",
    "\n",
    "lca = bc.LCA(\n",
    "    {aggregated_material_nodes[0]: 1}, method=method\n",
    ")  # just to build the matrices\n",
    "lca.lci(factorize=True)\n",
    "material_top_processes = {}\n",
    "for mat in aggregated_material_nodes:\n",
    "    lca.lcia(demand={mat.id: 1})\n",
    "    top_processes = ba.ContributionAnalysis().annotated_top_processes(lca, limit=5000)\n",
    "    score_and_product = {}\n",
    "    for process in top_processes:\n",
    "        if process[2][\"reference product\"] in score_and_product:\n",
    "            score_and_product[process[2][\"reference product\"]] += process[0]\n",
    "        else:\n",
    "            score_and_product[process[2][\"reference product\"]] = process[0]\n",
    "    material_top_processes[mat[\"name\"]] = score_and_product"
   ]
  },
  {
   "cell_type": "markdown",
   "metadata": {},
   "source": [
    "We save the results in a DataFrame again and clean up the names:"
   ]
  },
  {
   "cell_type": "code",
   "execution_count": 43,
   "metadata": {},
   "outputs": [
    {
     "data": {
      "text/html": [
       "<div>\n",
       "<style scoped>\n",
       "    .dataframe tbody tr th:only-of-type {\n",
       "        vertical-align: middle;\n",
       "    }\n",
       "\n",
       "    .dataframe tbody tr th {\n",
       "        vertical-align: top;\n",
       "    }\n",
       "\n",
       "    .dataframe thead th {\n",
       "        text-align: right;\n",
       "    }\n",
       "</style>\n",
       "<table border=\"1\" class=\"dataframe\">\n",
       "  <thead>\n",
       "    <tr style=\"text-align: right;\">\n",
       "      <th></th>\n",
       "      <th>aluminium</th>\n",
       "      <th>concrete</th>\n",
       "      <th>copper</th>\n",
       "      <th>iron &amp; steel</th>\n",
       "      <th>other materials</th>\n",
       "      <th>plastics</th>\n",
       "    </tr>\n",
       "  </thead>\n",
       "  <tbody>\n",
       "    <tr>\n",
       "      <th>SF6</th>\n",
       "      <td>1.287486e+06</td>\n",
       "      <td>1.202818e+04</td>\n",
       "      <td>1.063520e+05</td>\n",
       "      <td>5.073426e+04</td>\n",
       "      <td>4.897169e+08</td>\n",
       "      <td>5.640448e+04</td>\n",
       "    </tr>\n",
       "    <tr>\n",
       "      <th>aluminium (process emissions)</th>\n",
       "      <td>4.294089e+09</td>\n",
       "      <td>2.383359e+06</td>\n",
       "      <td>2.435253e+07</td>\n",
       "      <td>5.077888e+06</td>\n",
       "      <td>2.349886e+06</td>\n",
       "      <td>4.673412e+06</td>\n",
       "    </tr>\n",
       "    <tr>\n",
       "      <th>clinker</th>\n",
       "      <td>8.021734e+07</td>\n",
       "      <td>1.931035e+09</td>\n",
       "      <td>6.172646e+07</td>\n",
       "      <td>2.280361e+08</td>\n",
       "      <td>2.163575e+07</td>\n",
       "      <td>2.809964e+07</td>\n",
       "    </tr>\n",
       "    <tr>\n",
       "      <th>coal</th>\n",
       "      <td>2.818240e+09</td>\n",
       "      <td>8.490951e+07</td>\n",
       "      <td>2.976855e+08</td>\n",
       "      <td>2.431754e+09</td>\n",
       "      <td>6.745916e+07</td>\n",
       "      <td>3.278984e+08</td>\n",
       "    </tr>\n",
       "    <tr>\n",
       "      <th>electricity</th>\n",
       "      <td>1.824527e+10</td>\n",
       "      <td>3.670439e+08</td>\n",
       "      <td>2.751451e+09</td>\n",
       "      <td>1.880547e+09</td>\n",
       "      <td>5.478748e+08</td>\n",
       "      <td>1.584726e+09</td>\n",
       "    </tr>\n",
       "    <tr>\n",
       "      <th>heat</th>\n",
       "      <td>5.798994e+09</td>\n",
       "      <td>9.185880e+07</td>\n",
       "      <td>6.286042e+08</td>\n",
       "      <td>5.080321e+08</td>\n",
       "      <td>3.009970e+08</td>\n",
       "      <td>3.012410e+08</td>\n",
       "    </tr>\n",
       "    <tr>\n",
       "      <th>iron &amp; steel (process emissions)</th>\n",
       "      <td>1.293887e+08</td>\n",
       "      <td>2.345862e+07</td>\n",
       "      <td>6.520695e+07</td>\n",
       "      <td>6.623462e+09</td>\n",
       "      <td>2.416300e+07</td>\n",
       "      <td>5.971216e+07</td>\n",
       "    </tr>\n",
       "    <tr>\n",
       "      <th>other processes</th>\n",
       "      <td>1.606454e+09</td>\n",
       "      <td>2.106463e+08</td>\n",
       "      <td>7.647094e+08</td>\n",
       "      <td>8.938214e+08</td>\n",
       "      <td>6.680536e+08</td>\n",
       "      <td>2.932190e+09</td>\n",
       "    </tr>\n",
       "    <tr>\n",
       "      <th>transport</th>\n",
       "      <td>1.102312e+09</td>\n",
       "      <td>4.147565e+08</td>\n",
       "      <td>4.768622e+08</td>\n",
       "      <td>9.573120e+08</td>\n",
       "      <td>1.923402e+08</td>\n",
       "      <td>3.271841e+08</td>\n",
       "    </tr>\n",
       "  </tbody>\n",
       "</table>\n",
       "</div>"
      ],
      "text/plain": [
       "                                     aluminium      concrete        copper  \\\n",
       "SF6                               1.287486e+06  1.202818e+04  1.063520e+05   \n",
       "aluminium (process emissions)     4.294089e+09  2.383359e+06  2.435253e+07   \n",
       "clinker                           8.021734e+07  1.931035e+09  6.172646e+07   \n",
       "coal                              2.818240e+09  8.490951e+07  2.976855e+08   \n",
       "electricity                       1.824527e+10  3.670439e+08  2.751451e+09   \n",
       "heat                              5.798994e+09  9.185880e+07  6.286042e+08   \n",
       "iron & steel (process emissions)  1.293887e+08  2.345862e+07  6.520695e+07   \n",
       "other processes                   1.606454e+09  2.106463e+08  7.647094e+08   \n",
       "transport                         1.102312e+09  4.147565e+08  4.768622e+08   \n",
       "\n",
       "                                  iron & steel  other materials      plastics  \n",
       "SF6                               5.073426e+04     4.897169e+08  5.640448e+04  \n",
       "aluminium (process emissions)     5.077888e+06     2.349886e+06  4.673412e+06  \n",
       "clinker                           2.280361e+08     2.163575e+07  2.809964e+07  \n",
       "coal                              2.431754e+09     6.745916e+07  3.278984e+08  \n",
       "electricity                       1.880547e+09     5.478748e+08  1.584726e+09  \n",
       "heat                              5.080321e+08     3.009970e+08  3.012410e+08  \n",
       "iron & steel (process emissions)  6.623462e+09     2.416300e+07  5.971216e+07  \n",
       "other processes                   8.938214e+08     6.680536e+08  2.932190e+09  \n",
       "transport                         9.573120e+08     1.923402e+08  3.271841e+08  "
      ]
     },
     "execution_count": 43,
     "metadata": {},
     "output_type": "execute_result"
    }
   ],
   "source": [
    "product_groups = {\n",
    "    \"electricity\": \"electricity\",\n",
    "    \"heat\": \"heat\",\n",
    "    \"transport\": \"transport\",\n",
    "    \"aluminium\": \"aluminium (process emissions)\",\n",
    "    \"iron\": \"iron & steel (process emissions)\",\n",
    "    \"steel\": \"iron & steel (process emissions)\",\n",
    "    \"coal\": \"coal\",\n",
    "    \"coke\": \"coal\",\n",
    "    \"clinker\": \"clinker\",\n",
    "    \"diesel\": \"transport\",\n",
    "    \"Gas insulated switchgear\": \"SF6\",\n",
    "    \"sulfur hexafluoride\": \"SF6\",\n",
    "}\n",
    "\n",
    "df_aggregated_materials = pd.DataFrame(material_top_processes)\n",
    "\n",
    "df_aggregated_materials.index = df_aggregated_materials.index.map(\n",
    "    map_labels(\n",
    "        df_aggregated_materials.index, product_groups, other_label=\"other processes\"\n",
    "    )\n",
    ")\n",
    "df_aggregated_materials.columns = df_aggregated_materials.columns.map(\n",
    "    map_labels(\n",
    "        df_aggregated_materials.columns, material_groups, other_label=\"other materials\"\n",
    "    )\n",
    ")\n",
    "\n",
    "df_materials_to_processes = (\n",
    "    df_aggregated_materials.groupby(level=0).sum().T.groupby(level=0).sum().T\n",
    ")\n",
    "df_materials_to_processes"
   ]
  },
  {
   "cell_type": "markdown",
   "metadata": {},
   "source": [
    "## Prepare sankey diagram\n",
    "\n",
    "Now we have all the information we need, we just need to get the data in the right format to feed our Sankey Diagram.\n"
   ]
  },
  {
   "cell_type": "code",
   "execution_count": 44,
   "metadata": {},
   "outputs": [],
   "source": [
    "sankey_data = []  # will be filled with tuples of (source, target, value)"
   ]
  },
  {
   "cell_type": "markdown",
   "metadata": {},
   "source": [
    "Total impact:\n"
   ]
  },
  {
   "cell_type": "code",
   "execution_count": 45,
   "metadata": {},
   "outputs": [
    {
     "data": {
      "text/plain": [
       "63681520503.17218"
      ]
     },
     "execution_count": 45,
     "metadata": {},
     "output_type": "execute_result"
    }
   ],
   "source": [
    "df_components_to_materials.sum().sum()"
   ]
  },
  {
   "cell_type": "markdown",
   "metadata": {},
   "source": [
    "Grid to components:\n"
   ]
  },
  {
   "cell_type": "code",
   "execution_count": 46,
   "metadata": {},
   "outputs": [],
   "source": [
    "for component, score in df_components_to_materials.sum().items():\n",
    "    sankey_data.append((component, \"grid status quo\", score))"
   ]
  },
  {
   "cell_type": "markdown",
   "metadata": {},
   "source": [
    "Components to materials:\n"
   ]
  },
  {
   "cell_type": "code",
   "execution_count": 47,
   "metadata": {},
   "outputs": [],
   "source": [
    "for target, values in df_components_to_materials.items():\n",
    "    for source, value in values.items():\n",
    "        if value != 0:\n",
    "            sankey_data.append((source, target, value))"
   ]
  },
  {
   "cell_type": "markdown",
   "metadata": {},
   "source": [
    "Materials to processes:\n"
   ]
  },
  {
   "cell_type": "code",
   "execution_count": 48,
   "metadata": {},
   "outputs": [],
   "source": [
    "for target, values in df_materials_to_processes.items():\n",
    "    for source, value in values.items():\n",
    "        if value != 0:\n",
    "            sankey_data.append((source, target, value))"
   ]
  },
  {
   "cell_type": "markdown",
   "metadata": {},
   "source": [
    "Create a DataFrame and save as .csv:"
   ]
  },
  {
   "cell_type": "code",
   "execution_count": null,
   "metadata": {},
   "outputs": [],
   "source": [
    "df_sankey = pd.DataFrame(sankey_data, columns=[\"source\", \"target\", \"value\"])\n",
    "df_sankey.value = df_sankey.value / 1e9\n",
    "df_sankey.columns = [\"source\", \"target\", \"value\"]\n",
    "df_sankey.to_csv(\"data/sankey_data.csv\", index=False)"
   ]
  },
  {
   "cell_type": "markdown",
   "metadata": {},
   "source": [
    "The final figure for the paper was created using the Javascript library D3Blocks. The code is available on Observable: https://observablehq.com/@timo-diepers-ws/sankey-grid-status-quo-de."
   ]
  }
 ],
 "metadata": {
  "kernelspec": {
   "display_name": "plca-grid-expansion",
   "language": "python",
   "name": "python3"
  },
  "language_info": {
   "codemirror_mode": {
    "name": "ipython",
    "version": 3
   },
   "file_extension": ".py",
   "mimetype": "text/x-python",
   "name": "python",
   "nbconvert_exporter": "python",
   "pygments_lexer": "ipython3",
   "version": "3.11.10"
  }
 },
 "nbformat": 4,
 "nbformat_minor": 2
}
